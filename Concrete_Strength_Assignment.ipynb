{
  "nbformat": 4,
  "nbformat_minor": 0,
  "metadata": {
    "kernelspec": {
      "display_name": "Python 3",
      "language": "python",
      "name": "python3"
    },
    "language_info": {
      "codemirror_mode": {
        "name": "ipython",
        "version": 3
      },
      "file_extension": ".py",
      "mimetype": "text/x-python",
      "name": "python",
      "nbconvert_exporter": "python",
      "pygments_lexer": "ipython3",
      "version": "3.7.3"
    },
    "colab": {
      "name": "Concrete Strength Assignment.ipynb",
      "provenance": []
    }
  },
  "cells": [
    {
      "cell_type": "markdown",
      "metadata": {
        "id": "2fAE7StXmwTL"
      },
      "source": [
        "# Assignment: Compresive Strength Concrete Problem\n",
        "\n",
        "\n",
        "### Abstract: \n",
        "\n",
        "Concrete is the most important material in civil engineering. The concrete compressive strength (concrete strength to bear the load) is a highly nonlinear function of age and ingredients.  <br><br>\n",
        "\n",
        "<table border=\"1\"  cellpadding=\"6\" bordercolor=\"red\">\n",
        "\t<tbody>\n",
        "        <tr>\n",
        "\t\t<td bgcolor=\"#DDEEFF\"><p class=\"normal\"><b>Data Set Characteristics:&nbsp;&nbsp;</b></p></td>\n",
        "\t\t<td><p class=\"normal\">Multivariate</p></td>\n",
        "\t\t<td bgcolor=\"#DDEEFF\"><p class=\"normal\"><b>Number of Instances:</b></p></td>\n",
        "\t\t<td><p class=\"normal\">1030</p></td>\n",
        "\t\t<td bgcolor=\"#DDEEFF\"><p class=\"normal\"><b>Area:</b></p></td>\n",
        "\t\t<td><p class=\"normal\">Physical</p></td>\n",
        "        </tr>\n",
        "     </tbody>\n",
        "    </table>\n",
        "<table border=\"1\" cellpadding=\"6\">\n",
        "    <tbody>\n",
        "        <tr>\n",
        "            <td bgcolor=\"#DDEEFF\"><p class=\"normal\"><b>Attribute Characteristics:</b></p></td>\n",
        "            <td><p class=\"normal\">Real</p></td>\n",
        "            <td bgcolor=\"#DDEEFF\"><p class=\"normal\"><b>Number of Attributes:</b></p></td>\n",
        "            <td><p class=\"normal\">9</p></td>\n",
        "            <td bgcolor=\"#DDEEFF\"><p class=\"normal\"><b>Date Donated</b></p></td>\n",
        "            <td><p class=\"normal\">2007-08-03</p></td>\n",
        "        </tr>\n",
        "     </tbody>\n",
        "    </table>\n",
        "<table border=\"1\" cellpadding=\"6\">\t\n",
        "    <tbody>\n",
        "    <tr>\n",
        "\t\t<td bgcolor=\"#DDEEFF\"><p class=\"normal\"><b>Associated Tasks:</b></p></td>\n",
        "\t\t<td><p class=\"normal\">Regression</p></td>\n",
        "\t\t<td bgcolor=\"#DDEEFF\"><p class=\"normal\"><b>Missing Values?</b></p></td>\n",
        "\t\t<td><p class=\"normal\">N/A</p></td>\n",
        "\t\t<td bgcolor=\"#DDEEFF\"><p class=\"normal\"><b>Number of Web Hits:</b></p></td>\n",
        "\t\t<td><p class=\"normal\">231464</p></td>\n",
        "\t</tr>\n",
        "    </tbody>\n",
        "    </table>"
      ]
    },
    {
      "cell_type": "markdown",
      "metadata": {
        "id": "VxHDhj6gmwTZ"
      },
      "source": [
        "###  Description:\n",
        "| Features Name | Data Type | Measurement | Description |\n",
        "| -- | -- | -- | -- |\n",
        "Cement (component 1) | quantitative | kg in a m3 mixture | Input Variable\n",
        "Blast Furnace Slag (component 2) | quantitative | kg in a m3 mixture | Input Variable\n",
        "Fly Ash (component 3) | quantitative | kg in a m3 mixture | Input Variable\n",
        "Water (component 4) | quantitative | kg in a m3 mixture | Input Variable\n",
        "Superplasticizer (component 5) | quantitative | kg in a m3 mixture | Input Variable\n",
        "Coarse Aggregate (component 6) | quantitative | kg in a m3 mixture | Input Variable\n",
        "Fine Aggregate (component 7) | quantitative | kg in a m3 mixture | Input Variable\n",
        "Age | quantitative | Day (1~365) | Input Variable\n",
        "Concrete compressive strength | quantitative | MPa | Output Variable\n",
        "\n",
        "### WORKFLOW :\n",
        "- Load Data\n",
        "- Check Missing Values ( If Exist ; Fill each record with mean of its feature )\n",
        "- Standardized the Input Variables. **Hint**: Centeralized the data\n",
        "- Split into 50% Training(Samples,Labels) , 30% Test(Samples,Labels) and 20% Validation Data(Samples,Labels).\n",
        "- Model : input Layer (No. of features ), 3 hidden layers including 10,8,6 unit & Output Layer with activation function relu/tanh (check by experiment).\n",
        "- Compilation Step (Note : Its a Regression problem , select loss , metrics according to it)\n",
        "- Train the Model with Epochs (100) and validate it\n",
        "- If the model gets overfit tune your model by changing the units , No. of layers , activation function , epochs , add dropout layer or add Regularizer according to the need .\n",
        "- Evaluation Step\n",
        "- Prediction\n"
      ]
    },
    {
      "cell_type": "markdown",
      "metadata": {
        "id": "l7kT22U7mwTb"
      },
      "source": [
        "# Load Data:\n",
        "[Click Here to Download DataSet](https://github.com/ramsha275/ML_Datasets/blob/main/compresive_strength_concrete.csv)"
      ]
    },
    {
      "cell_type": "code",
      "metadata": {
        "id": "JIIKqM-emwTc"
      },
      "source": [
        ""
      ],
      "execution_count": 1,
      "outputs": []
    },
    {
      "cell_type": "code",
      "metadata": {
        "colab": {
          "base_uri": "https://localhost:8080/"
        },
        "id": "mztX8v2frjfg",
        "outputId": "6b1d3a63-949b-42d7-dda8-c0ec3cd284f2"
      },
      "source": [
        "from google.colab import drive\n",
        "drive.mount('/content/drive')"
      ],
      "execution_count": 3,
      "outputs": [
        {
          "output_type": "stream",
          "text": [
            "Drive already mounted at /content/drive; to attempt to forcibly remount, call drive.mount(\"/content/drive\", force_remount=True).\n"
          ],
          "name": "stdout"
        }
      ]
    },
    {
      "cell_type": "code",
      "metadata": {
        "id": "IaX3TI9yrUML"
      },
      "source": [
        "import pandas as pd\n",
        "import numpy as np"
      ],
      "execution_count": 33,
      "outputs": []
    },
    {
      "cell_type": "code",
      "metadata": {
        "id": "oFR_Z-X8r5_w"
      },
      "source": [
        "concrete_data=pd.read_csv(\"/content/drive/MyDrive/DLAssignments/datasets/compresive_strength_concrete.csv\")"
      ],
      "execution_count": 34,
      "outputs": []
    },
    {
      "cell_type": "code",
      "metadata": {
        "colab": {
          "base_uri": "https://localhost:8080/",
          "height": 306
        },
        "id": "u2SgPppwsbfz",
        "outputId": "7e899651-6fb1-4256-eb2f-fd4071236052"
      },
      "source": [
        "concrete_data.head()"
      ],
      "execution_count": 35,
      "outputs": [
        {
          "output_type": "execute_result",
          "data": {
            "text/html": [
              "<div>\n",
              "<style scoped>\n",
              "    .dataframe tbody tr th:only-of-type {\n",
              "        vertical-align: middle;\n",
              "    }\n",
              "\n",
              "    .dataframe tbody tr th {\n",
              "        vertical-align: top;\n",
              "    }\n",
              "\n",
              "    .dataframe thead th {\n",
              "        text-align: right;\n",
              "    }\n",
              "</style>\n",
              "<table border=\"1\" class=\"dataframe\">\n",
              "  <thead>\n",
              "    <tr style=\"text-align: right;\">\n",
              "      <th></th>\n",
              "      <th>Cement (component 1)(kg in a m^3 mixture)</th>\n",
              "      <th>Blast Furnace Slag (component 2)(kg in a m^3 mixture)</th>\n",
              "      <th>Fly Ash (component 3)(kg in a m^3 mixture)</th>\n",
              "      <th>Water  (component 4)(kg in a m^3 mixture)</th>\n",
              "      <th>Superplasticizer (component 5)(kg in a m^3 mixture)</th>\n",
              "      <th>Coarse Aggregate  (component 6)(kg in a m^3 mixture)</th>\n",
              "      <th>Fine Aggregate (component 7)(kg in a m^3 mixture)</th>\n",
              "      <th>Age (day)</th>\n",
              "      <th>Concrete compressive strength(MPa, megapascals)</th>\n",
              "    </tr>\n",
              "  </thead>\n",
              "  <tbody>\n",
              "    <tr>\n",
              "      <th>0</th>\n",
              "      <td>540.0</td>\n",
              "      <td>0.0</td>\n",
              "      <td>0.0</td>\n",
              "      <td>162.0</td>\n",
              "      <td>2.5</td>\n",
              "      <td>1040.0</td>\n",
              "      <td>676.0</td>\n",
              "      <td>28</td>\n",
              "      <td>79.99</td>\n",
              "    </tr>\n",
              "    <tr>\n",
              "      <th>1</th>\n",
              "      <td>540.0</td>\n",
              "      <td>0.0</td>\n",
              "      <td>0.0</td>\n",
              "      <td>162.0</td>\n",
              "      <td>2.5</td>\n",
              "      <td>1055.0</td>\n",
              "      <td>676.0</td>\n",
              "      <td>28</td>\n",
              "      <td>61.89</td>\n",
              "    </tr>\n",
              "    <tr>\n",
              "      <th>2</th>\n",
              "      <td>332.5</td>\n",
              "      <td>142.5</td>\n",
              "      <td>0.0</td>\n",
              "      <td>228.0</td>\n",
              "      <td>0.0</td>\n",
              "      <td>932.0</td>\n",
              "      <td>594.0</td>\n",
              "      <td>270</td>\n",
              "      <td>40.27</td>\n",
              "    </tr>\n",
              "    <tr>\n",
              "      <th>3</th>\n",
              "      <td>332.5</td>\n",
              "      <td>142.5</td>\n",
              "      <td>0.0</td>\n",
              "      <td>228.0</td>\n",
              "      <td>0.0</td>\n",
              "      <td>932.0</td>\n",
              "      <td>594.0</td>\n",
              "      <td>365</td>\n",
              "      <td>41.05</td>\n",
              "    </tr>\n",
              "    <tr>\n",
              "      <th>4</th>\n",
              "      <td>198.6</td>\n",
              "      <td>132.4</td>\n",
              "      <td>0.0</td>\n",
              "      <td>192.0</td>\n",
              "      <td>0.0</td>\n",
              "      <td>978.4</td>\n",
              "      <td>825.5</td>\n",
              "      <td>360</td>\n",
              "      <td>44.30</td>\n",
              "    </tr>\n",
              "  </tbody>\n",
              "</table>\n",
              "</div>"
            ],
            "text/plain": [
              "   Cement (component 1)(kg in a m^3 mixture)  ...  Concrete compressive strength(MPa, megapascals) \n",
              "0                                      540.0  ...                                             79.99\n",
              "1                                      540.0  ...                                             61.89\n",
              "2                                      332.5  ...                                             40.27\n",
              "3                                      332.5  ...                                             41.05\n",
              "4                                      198.6  ...                                             44.30\n",
              "\n",
              "[5 rows x 9 columns]"
            ]
          },
          "metadata": {
            "tags": []
          },
          "execution_count": 35
        }
      ]
    },
    {
      "cell_type": "code",
      "metadata": {
        "colab": {
          "base_uri": "https://localhost:8080/"
        },
        "id": "GA20SZINsntU",
        "outputId": "c0e35ffc-f438-439b-f81c-1fc724ce62ef"
      },
      "source": [
        "concrete_data.shape"
      ],
      "execution_count": 36,
      "outputs": [
        {
          "output_type": "execute_result",
          "data": {
            "text/plain": [
              "(1030, 9)"
            ]
          },
          "metadata": {
            "tags": []
          },
          "execution_count": 36
        }
      ]
    },
    {
      "cell_type": "code",
      "metadata": {
        "colab": {
          "base_uri": "https://localhost:8080/"
        },
        "id": "_xgQ8lQEsrjl",
        "outputId": "5d9f1471-d9c9-47a8-d865-22fcaba6f3c9"
      },
      "source": [
        "concrete_data.isnull().any()"
      ],
      "execution_count": 37,
      "outputs": [
        {
          "output_type": "execute_result",
          "data": {
            "text/plain": [
              "Cement (component 1)(kg in a m^3 mixture)                False\n",
              "Blast Furnace Slag (component 2)(kg in a m^3 mixture)    False\n",
              "Fly Ash (component 3)(kg in a m^3 mixture)               False\n",
              "Water  (component 4)(kg in a m^3 mixture)                False\n",
              "Superplasticizer (component 5)(kg in a m^3 mixture)      False\n",
              "Coarse Aggregate  (component 6)(kg in a m^3 mixture)     False\n",
              "Fine Aggregate (component 7)(kg in a m^3 mixture)        False\n",
              "Age (day)                                                False\n",
              "Concrete compressive strength(MPa, megapascals)          False\n",
              "dtype: bool"
            ]
          },
          "metadata": {
            "tags": []
          },
          "execution_count": 37
        }
      ]
    },
    {
      "cell_type": "code",
      "metadata": {
        "colab": {
          "base_uri": "https://localhost:8080/"
        },
        "id": "1d81P2FQsuI-",
        "outputId": "2acb3d55-14ef-42c7-f2b8-a886e829a6ce"
      },
      "source": [
        "np.where(concrete_data.applymap(lambda x: x == ''))"
      ],
      "execution_count": 38,
      "outputs": [
        {
          "output_type": "execute_result",
          "data": {
            "text/plain": [
              "(array([], dtype=int64), array([], dtype=int64))"
            ]
          },
          "metadata": {
            "tags": []
          },
          "execution_count": 38
        }
      ]
    },
    {
      "cell_type": "code",
      "metadata": {
        "id": "B-42kqrxsyeC"
      },
      "source": [
        "train_data = concrete_data.sample(frac = 0.7, random_state = 123)\n",
        "test_data = concrete_data.drop(train_data.index)"
      ],
      "execution_count": 39,
      "outputs": []
    },
    {
      "cell_type": "code",
      "metadata": {
        "colab": {
          "base_uri": "https://localhost:8080/",
          "height": 326
        },
        "id": "n7ADHkI5s1U0",
        "outputId": "366fdd0a-6835-4b7e-b60e-c393a6f92a26"
      },
      "source": [
        "train_data.head()"
      ],
      "execution_count": 40,
      "outputs": [
        {
          "output_type": "execute_result",
          "data": {
            "text/html": [
              "<div>\n",
              "<style scoped>\n",
              "    .dataframe tbody tr th:only-of-type {\n",
              "        vertical-align: middle;\n",
              "    }\n",
              "\n",
              "    .dataframe tbody tr th {\n",
              "        vertical-align: top;\n",
              "    }\n",
              "\n",
              "    .dataframe thead th {\n",
              "        text-align: right;\n",
              "    }\n",
              "</style>\n",
              "<table border=\"1\" class=\"dataframe\">\n",
              "  <thead>\n",
              "    <tr style=\"text-align: right;\">\n",
              "      <th></th>\n",
              "      <th>Cement (component 1)(kg in a m^3 mixture)</th>\n",
              "      <th>Blast Furnace Slag (component 2)(kg in a m^3 mixture)</th>\n",
              "      <th>Fly Ash (component 3)(kg in a m^3 mixture)</th>\n",
              "      <th>Water  (component 4)(kg in a m^3 mixture)</th>\n",
              "      <th>Superplasticizer (component 5)(kg in a m^3 mixture)</th>\n",
              "      <th>Coarse Aggregate  (component 6)(kg in a m^3 mixture)</th>\n",
              "      <th>Fine Aggregate (component 7)(kg in a m^3 mixture)</th>\n",
              "      <th>Age (day)</th>\n",
              "      <th>Concrete compressive strength(MPa, megapascals)</th>\n",
              "    </tr>\n",
              "  </thead>\n",
              "  <tbody>\n",
              "    <tr>\n",
              "      <th>134</th>\n",
              "      <td>362.6</td>\n",
              "      <td>189.0</td>\n",
              "      <td>0.0</td>\n",
              "      <td>164.9</td>\n",
              "      <td>11.6</td>\n",
              "      <td>944.7</td>\n",
              "      <td>755.8</td>\n",
              "      <td>28</td>\n",
              "      <td>71.30</td>\n",
              "    </tr>\n",
              "    <tr>\n",
              "      <th>13</th>\n",
              "      <td>190.0</td>\n",
              "      <td>190.0</td>\n",
              "      <td>0.0</td>\n",
              "      <td>228.0</td>\n",
              "      <td>0.0</td>\n",
              "      <td>932.0</td>\n",
              "      <td>670.0</td>\n",
              "      <td>90</td>\n",
              "      <td>42.33</td>\n",
              "    </tr>\n",
              "    <tr>\n",
              "      <th>996</th>\n",
              "      <td>152.6</td>\n",
              "      <td>238.7</td>\n",
              "      <td>0.0</td>\n",
              "      <td>200.0</td>\n",
              "      <td>6.3</td>\n",
              "      <td>1001.8</td>\n",
              "      <td>683.9</td>\n",
              "      <td>28</td>\n",
              "      <td>26.86</td>\n",
              "    </tr>\n",
              "    <tr>\n",
              "      <th>770</th>\n",
              "      <td>349.0</td>\n",
              "      <td>0.0</td>\n",
              "      <td>0.0</td>\n",
              "      <td>192.0</td>\n",
              "      <td>0.0</td>\n",
              "      <td>1047.0</td>\n",
              "      <td>806.0</td>\n",
              "      <td>3</td>\n",
              "      <td>14.99</td>\n",
              "    </tr>\n",
              "    <tr>\n",
              "      <th>937</th>\n",
              "      <td>313.3</td>\n",
              "      <td>0.0</td>\n",
              "      <td>113.0</td>\n",
              "      <td>178.5</td>\n",
              "      <td>8.0</td>\n",
              "      <td>1001.9</td>\n",
              "      <td>688.7</td>\n",
              "      <td>28</td>\n",
              "      <td>36.80</td>\n",
              "    </tr>\n",
              "  </tbody>\n",
              "</table>\n",
              "</div>"
            ],
            "text/plain": [
              "     Cement (component 1)(kg in a m^3 mixture)  ...  Concrete compressive strength(MPa, megapascals) \n",
              "134                                      362.6  ...                                             71.30\n",
              "13                                       190.0  ...                                             42.33\n",
              "996                                      152.6  ...                                             26.86\n",
              "770                                      349.0  ...                                             14.99\n",
              "937                                      313.3  ...                                             36.80\n",
              "\n",
              "[5 rows x 9 columns]"
            ]
          },
          "metadata": {
            "tags": []
          },
          "execution_count": 40
        }
      ]
    },
    {
      "cell_type": "code",
      "metadata": {
        "id": "PnzSjppJs4-x"
      },
      "source": [
        "Y_train = train_data.iloc[:,-1]\n",
        "X_train = train_data.iloc[:,0:-1]\n",
        "Y_test = test_data.iloc[:,-1]\n",
        "X_test = test_data.iloc[:,0:-1]"
      ],
      "execution_count": 41,
      "outputs": []
    },
    {
      "cell_type": "code",
      "metadata": {
        "id": "eaWEpGSJtAaH"
      },
      "source": [
        "X_mean = X_train.mean()\n",
        "X_train -= X_mean\n",
        "X_std = X_train.std()\n",
        "X_train /= X_std\n",
        "X_test -= X_mean\n",
        "X_test /= X_std"
      ],
      "execution_count": 42,
      "outputs": []
    },
    {
      "cell_type": "code",
      "metadata": {
        "id": "X8TI-66itDPD"
      },
      "source": [
        "Y_mean = Y_train.mean()\n",
        "Y_train -= Y_mean\n",
        "Y_std = Y_train.std()\n",
        "Y_train /= Y_std\n",
        "Y_test -= Y_mean\n",
        "Y_test /= Y_std"
      ],
      "execution_count": 43,
      "outputs": []
    },
    {
      "cell_type": "code",
      "metadata": {
        "colab": {
          "base_uri": "https://localhost:8080/"
        },
        "id": "mYgQP10etF7y",
        "outputId": "7d030933-a048-4105-f656-06892d46a1fd"
      },
      "source": [
        "X_train.dtypes"
      ],
      "execution_count": 44,
      "outputs": [
        {
          "output_type": "execute_result",
          "data": {
            "text/plain": [
              "Cement (component 1)(kg in a m^3 mixture)                float64\n",
              "Blast Furnace Slag (component 2)(kg in a m^3 mixture)    float64\n",
              "Fly Ash (component 3)(kg in a m^3 mixture)               float64\n",
              "Water  (component 4)(kg in a m^3 mixture)                float64\n",
              "Superplasticizer (component 5)(kg in a m^3 mixture)      float64\n",
              "Coarse Aggregate  (component 6)(kg in a m^3 mixture)     float64\n",
              "Fine Aggregate (component 7)(kg in a m^3 mixture)        float64\n",
              "Age (day)                                                float64\n",
              "dtype: object"
            ]
          },
          "metadata": {
            "tags": []
          },
          "execution_count": 44
        }
      ]
    },
    {
      "cell_type": "code",
      "metadata": {
        "id": "VWqydyzNtJq9"
      },
      "source": [
        "X_train = X_train.to_numpy()\n",
        "Y_train = Y_train.to_numpy()\n",
        "X_test = X_test.to_numpy()\n",
        "Y_test = Y_test.to_numpy()"
      ],
      "execution_count": 45,
      "outputs": []
    },
    {
      "cell_type": "code",
      "metadata": {
        "id": "ycLlcE_WtOZ-"
      },
      "source": [
        "from tensorflow.keras import layers\n",
        "from tensorflow.keras import models"
      ],
      "execution_count": 46,
      "outputs": []
    },
    {
      "cell_type": "code",
      "metadata": {
        "id": "6y_FIQhvtTfH"
      },
      "source": [
        "network = models.Sequential()"
      ],
      "execution_count": 47,
      "outputs": []
    },
    {
      "cell_type": "code",
      "metadata": {
        "id": "yJgAS5qDtrG4"
      },
      "source": [
        "network.add(layers.Dense(128,activation=\"relu\",input_shape=(X_train.shape[1],)))"
      ],
      "execution_count": 48,
      "outputs": []
    },
    {
      "cell_type": "code",
      "metadata": {
        "id": "Ma-if4jCtxtR"
      },
      "source": [
        "network.add(layers.Dense(64,activation=\"relu\"))"
      ],
      "execution_count": 49,
      "outputs": []
    },
    {
      "cell_type": "code",
      "metadata": {
        "id": "4b3Tk2dst2Ys"
      },
      "source": [
        "network.add(layers.Dense(32,activation=\"relu\"))"
      ],
      "execution_count": 50,
      "outputs": []
    },
    {
      "cell_type": "code",
      "metadata": {
        "id": "yWKTdma1t5_2"
      },
      "source": [
        "network.add(layers.Dense(1))"
      ],
      "execution_count": 51,
      "outputs": []
    },
    {
      "cell_type": "code",
      "metadata": {
        "id": "xKOGHzaRt_Og"
      },
      "source": [
        "network.compile(optimizer=\"rmsprop\",loss=[\"mse\"],metrics=[\"mae\"])"
      ],
      "execution_count": 52,
      "outputs": []
    },
    {
      "cell_type": "code",
      "metadata": {
        "colab": {
          "base_uri": "https://localhost:8080/"
        },
        "id": "6OzyM6mYuCq8",
        "outputId": "8d58a3f8-f000-4704-a562-b3e8510b540f"
      },
      "source": [
        "history = network.fit(X_train,Y_train,epochs=200,validation_split=0.3, batch_size = 16)"
      ],
      "execution_count": 53,
      "outputs": [
        {
          "output_type": "stream",
          "text": [
            "Epoch 1/200\n",
            "32/32 [==============================] - 1s 18ms/step - loss: 0.6224 - mae: 0.6411 - val_loss: 0.4651 - val_mae: 0.5319\n",
            "Epoch 2/200\n",
            "32/32 [==============================] - 0s 3ms/step - loss: 0.3358 - mae: 0.4637 - val_loss: 0.3085 - val_mae: 0.4327\n",
            "Epoch 3/200\n",
            "32/32 [==============================] - 0s 3ms/step - loss: 0.2375 - mae: 0.3858 - val_loss: 0.2706 - val_mae: 0.3980\n",
            "Epoch 4/200\n",
            "32/32 [==============================] - 0s 3ms/step - loss: 0.1905 - mae: 0.3423 - val_loss: 0.2421 - val_mae: 0.3653\n",
            "Epoch 5/200\n",
            "32/32 [==============================] - 0s 3ms/step - loss: 0.1679 - mae: 0.3131 - val_loss: 0.2485 - val_mae: 0.3725\n",
            "Epoch 6/200\n",
            "32/32 [==============================] - 0s 3ms/step - loss: 0.1509 - mae: 0.2968 - val_loss: 0.2077 - val_mae: 0.3441\n",
            "Epoch 7/200\n",
            "32/32 [==============================] - 0s 3ms/step - loss: 0.1256 - mae: 0.2833 - val_loss: 0.2097 - val_mae: 0.3432\n",
            "Epoch 8/200\n",
            "32/32 [==============================] - 0s 3ms/step - loss: 0.1187 - mae: 0.2629 - val_loss: 0.2108 - val_mae: 0.3558\n",
            "Epoch 9/200\n",
            "32/32 [==============================] - 0s 3ms/step - loss: 0.1204 - mae: 0.2698 - val_loss: 0.2077 - val_mae: 0.3389\n",
            "Epoch 10/200\n",
            "32/32 [==============================] - 0s 3ms/step - loss: 0.1108 - mae: 0.2619 - val_loss: 0.1747 - val_mae: 0.3096\n",
            "Epoch 11/200\n",
            "32/32 [==============================] - 0s 3ms/step - loss: 0.0987 - mae: 0.2383 - val_loss: 0.1844 - val_mae: 0.3151\n",
            "Epoch 12/200\n",
            "32/32 [==============================] - 0s 3ms/step - loss: 0.0801 - mae: 0.2155 - val_loss: 0.1969 - val_mae: 0.3258\n",
            "Epoch 13/200\n",
            "32/32 [==============================] - 0s 3ms/step - loss: 0.0866 - mae: 0.2297 - val_loss: 0.1927 - val_mae: 0.3261\n",
            "Epoch 14/200\n",
            "32/32 [==============================] - 0s 3ms/step - loss: 0.0911 - mae: 0.2358 - val_loss: 0.2034 - val_mae: 0.3354\n",
            "Epoch 15/200\n",
            "32/32 [==============================] - 0s 3ms/step - loss: 0.0749 - mae: 0.2174 - val_loss: 0.1661 - val_mae: 0.3005\n",
            "Epoch 16/200\n",
            "32/32 [==============================] - 0s 3ms/step - loss: 0.0669 - mae: 0.2041 - val_loss: 0.1620 - val_mae: 0.2925\n",
            "Epoch 17/200\n",
            "32/32 [==============================] - 0s 3ms/step - loss: 0.0656 - mae: 0.1978 - val_loss: 0.1676 - val_mae: 0.3238\n",
            "Epoch 18/200\n",
            "32/32 [==============================] - 0s 3ms/step - loss: 0.0707 - mae: 0.2101 - val_loss: 0.1607 - val_mae: 0.3008\n",
            "Epoch 19/200\n",
            "32/32 [==============================] - 0s 3ms/step - loss: 0.0614 - mae: 0.1868 - val_loss: 0.1679 - val_mae: 0.3152\n",
            "Epoch 20/200\n",
            "32/32 [==============================] - 0s 3ms/step - loss: 0.0557 - mae: 0.1777 - val_loss: 0.1816 - val_mae: 0.3311\n",
            "Epoch 21/200\n",
            "32/32 [==============================] - 0s 3ms/step - loss: 0.0623 - mae: 0.1941 - val_loss: 0.1429 - val_mae: 0.2856\n",
            "Epoch 22/200\n",
            "32/32 [==============================] - 0s 3ms/step - loss: 0.0542 - mae: 0.1834 - val_loss: 0.1578 - val_mae: 0.3014\n",
            "Epoch 23/200\n",
            "32/32 [==============================] - 0s 3ms/step - loss: 0.0648 - mae: 0.1913 - val_loss: 0.1467 - val_mae: 0.2898\n",
            "Epoch 24/200\n",
            "32/32 [==============================] - 0s 3ms/step - loss: 0.0530 - mae: 0.1772 - val_loss: 0.1421 - val_mae: 0.2906\n",
            "Epoch 25/200\n",
            "32/32 [==============================] - 0s 3ms/step - loss: 0.0594 - mae: 0.1833 - val_loss: 0.1459 - val_mae: 0.2968\n",
            "Epoch 26/200\n",
            "32/32 [==============================] - 0s 3ms/step - loss: 0.0494 - mae: 0.1768 - val_loss: 0.1396 - val_mae: 0.2812\n",
            "Epoch 27/200\n",
            "32/32 [==============================] - 0s 3ms/step - loss: 0.0543 - mae: 0.1755 - val_loss: 0.1417 - val_mae: 0.2886\n",
            "Epoch 28/200\n",
            "32/32 [==============================] - 0s 3ms/step - loss: 0.0543 - mae: 0.1747 - val_loss: 0.1401 - val_mae: 0.2798\n",
            "Epoch 29/200\n",
            "32/32 [==============================] - 0s 3ms/step - loss: 0.0445 - mae: 0.1628 - val_loss: 0.1531 - val_mae: 0.2987\n",
            "Epoch 30/200\n",
            "32/32 [==============================] - 0s 3ms/step - loss: 0.0583 - mae: 0.1767 - val_loss: 0.1502 - val_mae: 0.2987\n",
            "Epoch 31/200\n",
            "32/32 [==============================] - 0s 3ms/step - loss: 0.0462 - mae: 0.1602 - val_loss: 0.1455 - val_mae: 0.2865\n",
            "Epoch 32/200\n",
            "32/32 [==============================] - 0s 3ms/step - loss: 0.0397 - mae: 0.1528 - val_loss: 0.1562 - val_mae: 0.3035\n",
            "Epoch 33/200\n",
            "32/32 [==============================] - 0s 3ms/step - loss: 0.0523 - mae: 0.1665 - val_loss: 0.1397 - val_mae: 0.2816\n",
            "Epoch 34/200\n",
            "32/32 [==============================] - 0s 3ms/step - loss: 0.0409 - mae: 0.1499 - val_loss: 0.1479 - val_mae: 0.2876\n",
            "Epoch 35/200\n",
            "32/32 [==============================] - 0s 3ms/step - loss: 0.0467 - mae: 0.1624 - val_loss: 0.1260 - val_mae: 0.2718\n",
            "Epoch 36/200\n",
            "32/32 [==============================] - 0s 3ms/step - loss: 0.0442 - mae: 0.1597 - val_loss: 0.1567 - val_mae: 0.3064\n",
            "Epoch 37/200\n",
            "32/32 [==============================] - 0s 3ms/step - loss: 0.0452 - mae: 0.1649 - val_loss: 0.1457 - val_mae: 0.2979\n",
            "Epoch 38/200\n",
            "32/32 [==============================] - 0s 3ms/step - loss: 0.0445 - mae: 0.1499 - val_loss: 0.1478 - val_mae: 0.2934\n",
            "Epoch 39/200\n",
            "32/32 [==============================] - 0s 3ms/step - loss: 0.0463 - mae: 0.1621 - val_loss: 0.1544 - val_mae: 0.2962\n",
            "Epoch 40/200\n",
            "32/32 [==============================] - 0s 3ms/step - loss: 0.0455 - mae: 0.1646 - val_loss: 0.1297 - val_mae: 0.2684\n",
            "Epoch 41/200\n",
            "32/32 [==============================] - 0s 3ms/step - loss: 0.0353 - mae: 0.1414 - val_loss: 0.1446 - val_mae: 0.2820\n",
            "Epoch 42/200\n",
            "32/32 [==============================] - 0s 3ms/step - loss: 0.0370 - mae: 0.1400 - val_loss: 0.1393 - val_mae: 0.2860\n",
            "Epoch 43/200\n",
            "32/32 [==============================] - 0s 3ms/step - loss: 0.0401 - mae: 0.1415 - val_loss: 0.1283 - val_mae: 0.2704\n",
            "Epoch 44/200\n",
            "32/32 [==============================] - 0s 3ms/step - loss: 0.0455 - mae: 0.1533 - val_loss: 0.1594 - val_mae: 0.2923\n",
            "Epoch 45/200\n",
            "32/32 [==============================] - 0s 3ms/step - loss: 0.0428 - mae: 0.1518 - val_loss: 0.1418 - val_mae: 0.2771\n",
            "Epoch 46/200\n",
            "32/32 [==============================] - 0s 3ms/step - loss: 0.0466 - mae: 0.1629 - val_loss: 0.1375 - val_mae: 0.2874\n",
            "Epoch 47/200\n",
            "32/32 [==============================] - 0s 3ms/step - loss: 0.0458 - mae: 0.1528 - val_loss: 0.1230 - val_mae: 0.2688\n",
            "Epoch 48/200\n",
            "32/32 [==============================] - 0s 3ms/step - loss: 0.0398 - mae: 0.1505 - val_loss: 0.1372 - val_mae: 0.2710\n",
            "Epoch 49/200\n",
            "32/32 [==============================] - 0s 3ms/step - loss: 0.0355 - mae: 0.1405 - val_loss: 0.1330 - val_mae: 0.2684\n",
            "Epoch 50/200\n",
            "32/32 [==============================] - 0s 3ms/step - loss: 0.0409 - mae: 0.1503 - val_loss: 0.1271 - val_mae: 0.2790\n",
            "Epoch 51/200\n",
            "32/32 [==============================] - 0s 3ms/step - loss: 0.0396 - mae: 0.1417 - val_loss: 0.1367 - val_mae: 0.2821\n",
            "Epoch 52/200\n",
            "32/32 [==============================] - 0s 3ms/step - loss: 0.0338 - mae: 0.1337 - val_loss: 0.1298 - val_mae: 0.2647\n",
            "Epoch 53/200\n",
            "32/32 [==============================] - 0s 3ms/step - loss: 0.0425 - mae: 0.1521 - val_loss: 0.1227 - val_mae: 0.2615\n",
            "Epoch 54/200\n",
            "32/32 [==============================] - 0s 3ms/step - loss: 0.0295 - mae: 0.1264 - val_loss: 0.1317 - val_mae: 0.2751\n",
            "Epoch 55/200\n",
            "32/32 [==============================] - 0s 3ms/step - loss: 0.0372 - mae: 0.1427 - val_loss: 0.1312 - val_mae: 0.2663\n",
            "Epoch 56/200\n",
            "32/32 [==============================] - 0s 3ms/step - loss: 0.0405 - mae: 0.1421 - val_loss: 0.1236 - val_mae: 0.2616\n",
            "Epoch 57/200\n",
            "32/32 [==============================] - 0s 3ms/step - loss: 0.0351 - mae: 0.1317 - val_loss: 0.1504 - val_mae: 0.2991\n",
            "Epoch 58/200\n",
            "32/32 [==============================] - 0s 3ms/step - loss: 0.0388 - mae: 0.1452 - val_loss: 0.1284 - val_mae: 0.2669\n",
            "Epoch 59/200\n",
            "32/32 [==============================] - 0s 3ms/step - loss: 0.0392 - mae: 0.1473 - val_loss: 0.1400 - val_mae: 0.2980\n",
            "Epoch 60/200\n",
            "32/32 [==============================] - 0s 3ms/step - loss: 0.0325 - mae: 0.1337 - val_loss: 0.1217 - val_mae: 0.2614\n",
            "Epoch 61/200\n",
            "32/32 [==============================] - 0s 3ms/step - loss: 0.0346 - mae: 0.1299 - val_loss: 0.1307 - val_mae: 0.2702\n",
            "Epoch 62/200\n",
            "32/32 [==============================] - 0s 3ms/step - loss: 0.0342 - mae: 0.1322 - val_loss: 0.1424 - val_mae: 0.2778\n",
            "Epoch 63/200\n",
            "32/32 [==============================] - 0s 3ms/step - loss: 0.0295 - mae: 0.1264 - val_loss: 0.1250 - val_mae: 0.2626\n",
            "Epoch 64/200\n",
            "32/32 [==============================] - 0s 3ms/step - loss: 0.0264 - mae: 0.1188 - val_loss: 0.1437 - val_mae: 0.2764\n",
            "Epoch 65/200\n",
            "32/32 [==============================] - 0s 3ms/step - loss: 0.0297 - mae: 0.1216 - val_loss: 0.1316 - val_mae: 0.2657\n",
            "Epoch 66/200\n",
            "32/32 [==============================] - 0s 3ms/step - loss: 0.0301 - mae: 0.1283 - val_loss: 0.1251 - val_mae: 0.2653\n",
            "Epoch 67/200\n",
            "32/32 [==============================] - 0s 3ms/step - loss: 0.0307 - mae: 0.1192 - val_loss: 0.1205 - val_mae: 0.2587\n",
            "Epoch 68/200\n",
            "32/32 [==============================] - 0s 3ms/step - loss: 0.0304 - mae: 0.1267 - val_loss: 0.1390 - val_mae: 0.2815\n",
            "Epoch 69/200\n",
            "32/32 [==============================] - 0s 3ms/step - loss: 0.0319 - mae: 0.1352 - val_loss: 0.1304 - val_mae: 0.2590\n",
            "Epoch 70/200\n",
            "32/32 [==============================] - 0s 3ms/step - loss: 0.0275 - mae: 0.1154 - val_loss: 0.1213 - val_mae: 0.2568\n",
            "Epoch 71/200\n",
            "32/32 [==============================] - 0s 3ms/step - loss: 0.0298 - mae: 0.1238 - val_loss: 0.1269 - val_mae: 0.2619\n",
            "Epoch 72/200\n",
            "32/32 [==============================] - 0s 3ms/step - loss: 0.0351 - mae: 0.1350 - val_loss: 0.1322 - val_mae: 0.2720\n",
            "Epoch 73/200\n",
            "32/32 [==============================] - 0s 3ms/step - loss: 0.0392 - mae: 0.1398 - val_loss: 0.1242 - val_mae: 0.2648\n",
            "Epoch 74/200\n",
            "32/32 [==============================] - 0s 3ms/step - loss: 0.0236 - mae: 0.1074 - val_loss: 0.1296 - val_mae: 0.2605\n",
            "Epoch 75/200\n",
            "32/32 [==============================] - 0s 3ms/step - loss: 0.0321 - mae: 0.1261 - val_loss: 0.1241 - val_mae: 0.2622\n",
            "Epoch 76/200\n",
            "32/32 [==============================] - 0s 3ms/step - loss: 0.0309 - mae: 0.1269 - val_loss: 0.1254 - val_mae: 0.2635\n",
            "Epoch 77/200\n",
            "32/32 [==============================] - 0s 3ms/step - loss: 0.0259 - mae: 0.1125 - val_loss: 0.1498 - val_mae: 0.3061\n",
            "Epoch 78/200\n",
            "32/32 [==============================] - 0s 3ms/step - loss: 0.0338 - mae: 0.1387 - val_loss: 0.1678 - val_mae: 0.3008\n",
            "Epoch 79/200\n",
            "32/32 [==============================] - 0s 3ms/step - loss: 0.0247 - mae: 0.1208 - val_loss: 0.1246 - val_mae: 0.2586\n",
            "Epoch 80/200\n",
            "32/32 [==============================] - 0s 3ms/step - loss: 0.0248 - mae: 0.1139 - val_loss: 0.1162 - val_mae: 0.2545\n",
            "Epoch 81/200\n",
            "32/32 [==============================] - 0s 3ms/step - loss: 0.0218 - mae: 0.1111 - val_loss: 0.1260 - val_mae: 0.2626\n",
            "Epoch 82/200\n",
            "32/32 [==============================] - 0s 3ms/step - loss: 0.0316 - mae: 0.1263 - val_loss: 0.1159 - val_mae: 0.2523\n",
            "Epoch 83/200\n",
            "32/32 [==============================] - 0s 3ms/step - loss: 0.0225 - mae: 0.1104 - val_loss: 0.1186 - val_mae: 0.2557\n",
            "Epoch 84/200\n",
            "32/32 [==============================] - 0s 4ms/step - loss: 0.0253 - mae: 0.1204 - val_loss: 0.1213 - val_mae: 0.2560\n",
            "Epoch 85/200\n",
            "32/32 [==============================] - 0s 4ms/step - loss: 0.0271 - mae: 0.1174 - val_loss: 0.1159 - val_mae: 0.2574\n",
            "Epoch 86/200\n",
            "32/32 [==============================] - 0s 3ms/step - loss: 0.0247 - mae: 0.1129 - val_loss: 0.1269 - val_mae: 0.2695\n",
            "Epoch 87/200\n",
            "32/32 [==============================] - 0s 3ms/step - loss: 0.0297 - mae: 0.1166 - val_loss: 0.1195 - val_mae: 0.2576\n",
            "Epoch 88/200\n",
            "32/32 [==============================] - 0s 3ms/step - loss: 0.0264 - mae: 0.1167 - val_loss: 0.1129 - val_mae: 0.2475\n",
            "Epoch 89/200\n",
            "32/32 [==============================] - 0s 3ms/step - loss: 0.0309 - mae: 0.1295 - val_loss: 0.1234 - val_mae: 0.2632\n",
            "Epoch 90/200\n",
            "32/32 [==============================] - 0s 3ms/step - loss: 0.0219 - mae: 0.1103 - val_loss: 0.1149 - val_mae: 0.2514\n",
            "Epoch 91/200\n",
            "32/32 [==============================] - 0s 3ms/step - loss: 0.0232 - mae: 0.1120 - val_loss: 0.1111 - val_mae: 0.2482\n",
            "Epoch 92/200\n",
            "32/32 [==============================] - 0s 3ms/step - loss: 0.0219 - mae: 0.1080 - val_loss: 0.1180 - val_mae: 0.2587\n",
            "Epoch 93/200\n",
            "32/32 [==============================] - 0s 3ms/step - loss: 0.0246 - mae: 0.1077 - val_loss: 0.1263 - val_mae: 0.2672\n",
            "Epoch 94/200\n",
            "32/32 [==============================] - 0s 3ms/step - loss: 0.0274 - mae: 0.1195 - val_loss: 0.1581 - val_mae: 0.2914\n",
            "Epoch 95/200\n",
            "32/32 [==============================] - 0s 4ms/step - loss: 0.0284 - mae: 0.1207 - val_loss: 0.1220 - val_mae: 0.2661\n",
            "Epoch 96/200\n",
            "32/32 [==============================] - 0s 3ms/step - loss: 0.0222 - mae: 0.1080 - val_loss: 0.1322 - val_mae: 0.2707\n",
            "Epoch 97/200\n",
            "32/32 [==============================] - 0s 3ms/step - loss: 0.0318 - mae: 0.1224 - val_loss: 0.1312 - val_mae: 0.2729\n",
            "Epoch 98/200\n",
            "32/32 [==============================] - 0s 3ms/step - loss: 0.0346 - mae: 0.1212 - val_loss: 0.1165 - val_mae: 0.2467\n",
            "Epoch 99/200\n",
            "32/32 [==============================] - 0s 3ms/step - loss: 0.0304 - mae: 0.1230 - val_loss: 0.1274 - val_mae: 0.2737\n",
            "Epoch 100/200\n",
            "32/32 [==============================] - 0s 3ms/step - loss: 0.0289 - mae: 0.1225 - val_loss: 0.1355 - val_mae: 0.2861\n",
            "Epoch 101/200\n",
            "32/32 [==============================] - 0s 3ms/step - loss: 0.0251 - mae: 0.1183 - val_loss: 0.1420 - val_mae: 0.2854\n",
            "Epoch 102/200\n",
            "32/32 [==============================] - 0s 3ms/step - loss: 0.0326 - mae: 0.1226 - val_loss: 0.1192 - val_mae: 0.2658\n",
            "Epoch 103/200\n",
            "32/32 [==============================] - 0s 3ms/step - loss: 0.0272 - mae: 0.1126 - val_loss: 0.1116 - val_mae: 0.2519\n",
            "Epoch 104/200\n",
            "32/32 [==============================] - 0s 3ms/step - loss: 0.0242 - mae: 0.1118 - val_loss: 0.1291 - val_mae: 0.2619\n",
            "Epoch 105/200\n",
            "32/32 [==============================] - 0s 3ms/step - loss: 0.0225 - mae: 0.1073 - val_loss: 0.1284 - val_mae: 0.2651\n",
            "Epoch 106/200\n",
            "32/32 [==============================] - 0s 3ms/step - loss: 0.0226 - mae: 0.1111 - val_loss: 0.1227 - val_mae: 0.2604\n",
            "Epoch 107/200\n",
            "32/32 [==============================] - 0s 3ms/step - loss: 0.0259 - mae: 0.1086 - val_loss: 0.1252 - val_mae: 0.2577\n",
            "Epoch 108/200\n",
            "32/32 [==============================] - 0s 3ms/step - loss: 0.0242 - mae: 0.1127 - val_loss: 0.1185 - val_mae: 0.2460\n",
            "Epoch 109/200\n",
            "32/32 [==============================] - 0s 3ms/step - loss: 0.0239 - mae: 0.1045 - val_loss: 0.1169 - val_mae: 0.2508\n",
            "Epoch 110/200\n",
            "32/32 [==============================] - 0s 3ms/step - loss: 0.0250 - mae: 0.1148 - val_loss: 0.1144 - val_mae: 0.2527\n",
            "Epoch 111/200\n",
            "32/32 [==============================] - 0s 3ms/step - loss: 0.0218 - mae: 0.1089 - val_loss: 0.1110 - val_mae: 0.2420\n",
            "Epoch 112/200\n",
            "32/32 [==============================] - 0s 3ms/step - loss: 0.0264 - mae: 0.1122 - val_loss: 0.1212 - val_mae: 0.2538\n",
            "Epoch 113/200\n",
            "32/32 [==============================] - 0s 3ms/step - loss: 0.0271 - mae: 0.1142 - val_loss: 0.1148 - val_mae: 0.2544\n",
            "Epoch 114/200\n",
            "32/32 [==============================] - 0s 3ms/step - loss: 0.0231 - mae: 0.1066 - val_loss: 0.1150 - val_mae: 0.2480\n",
            "Epoch 115/200\n",
            "32/32 [==============================] - 0s 3ms/step - loss: 0.0226 - mae: 0.1065 - val_loss: 0.1239 - val_mae: 0.2491\n",
            "Epoch 116/200\n",
            "32/32 [==============================] - 0s 3ms/step - loss: 0.0188 - mae: 0.0983 - val_loss: 0.1083 - val_mae: 0.2391\n",
            "Epoch 117/200\n",
            "32/32 [==============================] - 0s 3ms/step - loss: 0.0217 - mae: 0.1045 - val_loss: 0.1176 - val_mae: 0.2468\n",
            "Epoch 118/200\n",
            "32/32 [==============================] - 0s 3ms/step - loss: 0.0204 - mae: 0.1055 - val_loss: 0.1286 - val_mae: 0.2579\n",
            "Epoch 119/200\n",
            "32/32 [==============================] - 0s 3ms/step - loss: 0.0239 - mae: 0.1088 - val_loss: 0.1192 - val_mae: 0.2425\n",
            "Epoch 120/200\n",
            "32/32 [==============================] - 0s 3ms/step - loss: 0.0209 - mae: 0.0980 - val_loss: 0.1216 - val_mae: 0.2511\n",
            "Epoch 121/200\n",
            "32/32 [==============================] - 0s 3ms/step - loss: 0.0181 - mae: 0.0977 - val_loss: 0.1217 - val_mae: 0.2452\n",
            "Epoch 122/200\n",
            "32/32 [==============================] - 0s 3ms/step - loss: 0.0250 - mae: 0.1031 - val_loss: 0.1324 - val_mae: 0.2648\n",
            "Epoch 123/200\n",
            "32/32 [==============================] - 0s 3ms/step - loss: 0.0203 - mae: 0.0985 - val_loss: 0.1097 - val_mae: 0.2413\n",
            "Epoch 124/200\n",
            "32/32 [==============================] - 0s 3ms/step - loss: 0.0186 - mae: 0.0924 - val_loss: 0.1203 - val_mae: 0.2537\n",
            "Epoch 125/200\n",
            "32/32 [==============================] - 0s 3ms/step - loss: 0.0176 - mae: 0.0926 - val_loss: 0.1267 - val_mae: 0.2563\n",
            "Epoch 126/200\n",
            "32/32 [==============================] - 0s 3ms/step - loss: 0.0242 - mae: 0.1038 - val_loss: 0.1165 - val_mae: 0.2550\n",
            "Epoch 127/200\n",
            "32/32 [==============================] - 0s 3ms/step - loss: 0.0207 - mae: 0.1012 - val_loss: 0.1136 - val_mae: 0.2459\n",
            "Epoch 128/200\n",
            "32/32 [==============================] - 0s 4ms/step - loss: 0.0219 - mae: 0.0959 - val_loss: 0.1198 - val_mae: 0.2525\n",
            "Epoch 129/200\n",
            "32/32 [==============================] - 0s 3ms/step - loss: 0.0199 - mae: 0.0993 - val_loss: 0.1202 - val_mae: 0.2423\n",
            "Epoch 130/200\n",
            "32/32 [==============================] - 0s 3ms/step - loss: 0.0198 - mae: 0.0961 - val_loss: 0.1172 - val_mae: 0.2480\n",
            "Epoch 131/200\n",
            "32/32 [==============================] - 0s 3ms/step - loss: 0.0183 - mae: 0.0957 - val_loss: 0.1132 - val_mae: 0.2364\n",
            "Epoch 132/200\n",
            "32/32 [==============================] - 0s 3ms/step - loss: 0.0210 - mae: 0.1006 - val_loss: 0.1147 - val_mae: 0.2443\n",
            "Epoch 133/200\n",
            "32/32 [==============================] - 0s 3ms/step - loss: 0.0159 - mae: 0.0860 - val_loss: 0.1191 - val_mae: 0.2506\n",
            "Epoch 134/200\n",
            "32/32 [==============================] - 0s 3ms/step - loss: 0.0221 - mae: 0.1041 - val_loss: 0.1314 - val_mae: 0.2522\n",
            "Epoch 135/200\n",
            "32/32 [==============================] - 0s 3ms/step - loss: 0.0233 - mae: 0.1113 - val_loss: 0.1206 - val_mae: 0.2437\n",
            "Epoch 136/200\n",
            "32/32 [==============================] - 0s 3ms/step - loss: 0.0211 - mae: 0.1003 - val_loss: 0.1127 - val_mae: 0.2393\n",
            "Epoch 137/200\n",
            "32/32 [==============================] - 0s 4ms/step - loss: 0.0187 - mae: 0.0889 - val_loss: 0.1315 - val_mae: 0.2645\n",
            "Epoch 138/200\n",
            "32/32 [==============================] - 0s 3ms/step - loss: 0.0284 - mae: 0.1088 - val_loss: 0.1100 - val_mae: 0.2406\n",
            "Epoch 139/200\n",
            "32/32 [==============================] - 0s 3ms/step - loss: 0.0197 - mae: 0.0977 - val_loss: 0.1220 - val_mae: 0.2545\n",
            "Epoch 140/200\n",
            "32/32 [==============================] - 0s 3ms/step - loss: 0.0272 - mae: 0.1006 - val_loss: 0.1166 - val_mae: 0.2461\n",
            "Epoch 141/200\n",
            "32/32 [==============================] - 0s 3ms/step - loss: 0.0192 - mae: 0.1000 - val_loss: 0.1346 - val_mae: 0.2612\n",
            "Epoch 142/200\n",
            "32/32 [==============================] - 0s 3ms/step - loss: 0.0214 - mae: 0.1048 - val_loss: 0.1384 - val_mae: 0.2609\n",
            "Epoch 143/200\n",
            "32/32 [==============================] - 0s 3ms/step - loss: 0.0258 - mae: 0.1025 - val_loss: 0.1193 - val_mae: 0.2587\n",
            "Epoch 144/200\n",
            "32/32 [==============================] - 0s 4ms/step - loss: 0.0233 - mae: 0.1087 - val_loss: 0.1375 - val_mae: 0.2731\n",
            "Epoch 145/200\n",
            "32/32 [==============================] - 0s 3ms/step - loss: 0.0330 - mae: 0.1145 - val_loss: 0.1331 - val_mae: 0.2628\n",
            "Epoch 146/200\n",
            "32/32 [==============================] - 0s 3ms/step - loss: 0.0214 - mae: 0.1036 - val_loss: 0.1294 - val_mae: 0.2760\n",
            "Epoch 147/200\n",
            "32/32 [==============================] - 0s 3ms/step - loss: 0.0287 - mae: 0.1195 - val_loss: 0.1125 - val_mae: 0.2472\n",
            "Epoch 148/200\n",
            "32/32 [==============================] - 0s 4ms/step - loss: 0.0167 - mae: 0.0901 - val_loss: 0.1176 - val_mae: 0.2524\n",
            "Epoch 149/200\n",
            "32/32 [==============================] - 0s 3ms/step - loss: 0.0265 - mae: 0.1054 - val_loss: 0.1127 - val_mae: 0.2461\n",
            "Epoch 150/200\n",
            "32/32 [==============================] - 0s 3ms/step - loss: 0.0204 - mae: 0.0996 - val_loss: 0.1188 - val_mae: 0.2522\n",
            "Epoch 151/200\n",
            "32/32 [==============================] - 0s 3ms/step - loss: 0.0199 - mae: 0.1019 - val_loss: 0.1268 - val_mae: 0.2631\n",
            "Epoch 152/200\n",
            "32/32 [==============================] - 0s 3ms/step - loss: 0.0188 - mae: 0.0942 - val_loss: 0.1203 - val_mae: 0.2472\n",
            "Epoch 153/200\n",
            "32/32 [==============================] - 0s 3ms/step - loss: 0.0246 - mae: 0.1055 - val_loss: 0.1144 - val_mae: 0.2459\n",
            "Epoch 154/200\n",
            "32/32 [==============================] - 0s 3ms/step - loss: 0.0202 - mae: 0.1008 - val_loss: 0.1252 - val_mae: 0.2439\n",
            "Epoch 155/200\n",
            "32/32 [==============================] - 0s 3ms/step - loss: 0.0159 - mae: 0.0869 - val_loss: 0.1084 - val_mae: 0.2301\n",
            "Epoch 156/200\n",
            "32/32 [==============================] - 0s 3ms/step - loss: 0.0182 - mae: 0.0924 - val_loss: 0.1126 - val_mae: 0.2397\n",
            "Epoch 157/200\n",
            "32/32 [==============================] - 0s 3ms/step - loss: 0.0166 - mae: 0.0903 - val_loss: 0.1170 - val_mae: 0.2456\n",
            "Epoch 158/200\n",
            "32/32 [==============================] - 0s 3ms/step - loss: 0.0224 - mae: 0.0971 - val_loss: 0.1099 - val_mae: 0.2368\n",
            "Epoch 159/200\n",
            "32/32 [==============================] - 0s 3ms/step - loss: 0.0160 - mae: 0.0883 - val_loss: 0.1167 - val_mae: 0.2574\n",
            "Epoch 160/200\n",
            "32/32 [==============================] - 0s 3ms/step - loss: 0.0199 - mae: 0.0971 - val_loss: 0.1243 - val_mae: 0.2736\n",
            "Epoch 161/200\n",
            "32/32 [==============================] - 0s 3ms/step - loss: 0.0243 - mae: 0.1030 - val_loss: 0.1137 - val_mae: 0.2325\n",
            "Epoch 162/200\n",
            "32/32 [==============================] - 0s 3ms/step - loss: 0.0155 - mae: 0.0844 - val_loss: 0.1068 - val_mae: 0.2317\n",
            "Epoch 163/200\n",
            "32/32 [==============================] - 0s 3ms/step - loss: 0.0205 - mae: 0.0974 - val_loss: 0.1117 - val_mae: 0.2456\n",
            "Epoch 164/200\n",
            "32/32 [==============================] - 0s 3ms/step - loss: 0.0256 - mae: 0.1003 - val_loss: 0.1167 - val_mae: 0.2431\n",
            "Epoch 165/200\n",
            "32/32 [==============================] - 0s 3ms/step - loss: 0.0158 - mae: 0.0865 - val_loss: 0.1359 - val_mae: 0.2636\n",
            "Epoch 166/200\n",
            "32/32 [==============================] - 0s 4ms/step - loss: 0.0221 - mae: 0.0945 - val_loss: 0.1053 - val_mae: 0.2410\n",
            "Epoch 167/200\n",
            "32/32 [==============================] - 0s 3ms/step - loss: 0.0154 - mae: 0.0858 - val_loss: 0.1115 - val_mae: 0.2352\n",
            "Epoch 168/200\n",
            "32/32 [==============================] - 0s 3ms/step - loss: 0.0171 - mae: 0.0923 - val_loss: 0.1289 - val_mae: 0.2676\n",
            "Epoch 169/200\n",
            "32/32 [==============================] - 0s 3ms/step - loss: 0.0218 - mae: 0.1019 - val_loss: 0.1088 - val_mae: 0.2378\n",
            "Epoch 170/200\n",
            "32/32 [==============================] - 0s 3ms/step - loss: 0.0181 - mae: 0.0944 - val_loss: 0.1284 - val_mae: 0.2546\n",
            "Epoch 171/200\n",
            "32/32 [==============================] - 0s 3ms/step - loss: 0.0260 - mae: 0.1102 - val_loss: 0.1118 - val_mae: 0.2337\n",
            "Epoch 172/200\n",
            "32/32 [==============================] - 0s 3ms/step - loss: 0.0217 - mae: 0.0941 - val_loss: 0.1183 - val_mae: 0.2461\n",
            "Epoch 173/200\n",
            "32/32 [==============================] - 0s 3ms/step - loss: 0.0244 - mae: 0.1006 - val_loss: 0.1292 - val_mae: 0.2593\n",
            "Epoch 174/200\n",
            "32/32 [==============================] - 0s 3ms/step - loss: 0.0222 - mae: 0.1026 - val_loss: 0.1174 - val_mae: 0.2487\n",
            "Epoch 175/200\n",
            "32/32 [==============================] - 0s 3ms/step - loss: 0.0170 - mae: 0.0925 - val_loss: 0.1082 - val_mae: 0.2350\n",
            "Epoch 176/200\n",
            "32/32 [==============================] - 0s 3ms/step - loss: 0.0224 - mae: 0.1030 - val_loss: 0.1132 - val_mae: 0.2444\n",
            "Epoch 177/200\n",
            "32/32 [==============================] - 0s 3ms/step - loss: 0.0201 - mae: 0.0923 - val_loss: 0.1023 - val_mae: 0.2343\n",
            "Epoch 178/200\n",
            "32/32 [==============================] - 0s 3ms/step - loss: 0.0175 - mae: 0.0873 - val_loss: 0.1069 - val_mae: 0.2410\n",
            "Epoch 179/200\n",
            "32/32 [==============================] - 0s 3ms/step - loss: 0.0184 - mae: 0.0904 - val_loss: 0.1072 - val_mae: 0.2368\n",
            "Epoch 180/200\n",
            "32/32 [==============================] - 0s 3ms/step - loss: 0.0214 - mae: 0.0935 - val_loss: 0.1197 - val_mae: 0.2469\n",
            "Epoch 181/200\n",
            "32/32 [==============================] - 0s 3ms/step - loss: 0.0168 - mae: 0.0905 - val_loss: 0.1101 - val_mae: 0.2361\n",
            "Epoch 182/200\n",
            "32/32 [==============================] - 0s 3ms/step - loss: 0.0230 - mae: 0.0968 - val_loss: 0.1098 - val_mae: 0.2394\n",
            "Epoch 183/200\n",
            "32/32 [==============================] - 0s 3ms/step - loss: 0.0169 - mae: 0.0826 - val_loss: 0.1200 - val_mae: 0.2564\n",
            "Epoch 184/200\n",
            "32/32 [==============================] - 0s 3ms/step - loss: 0.0203 - mae: 0.0990 - val_loss: 0.1145 - val_mae: 0.2430\n",
            "Epoch 185/200\n",
            "32/32 [==============================] - 0s 3ms/step - loss: 0.0181 - mae: 0.0926 - val_loss: 0.1147 - val_mae: 0.2440\n",
            "Epoch 186/200\n",
            "32/32 [==============================] - 0s 3ms/step - loss: 0.0160 - mae: 0.0879 - val_loss: 0.1141 - val_mae: 0.2527\n",
            "Epoch 187/200\n",
            "32/32 [==============================] - 0s 3ms/step - loss: 0.0189 - mae: 0.0940 - val_loss: 0.1175 - val_mae: 0.2562\n",
            "Epoch 188/200\n",
            "32/32 [==============================] - 0s 3ms/step - loss: 0.0197 - mae: 0.0912 - val_loss: 0.1107 - val_mae: 0.2295\n",
            "Epoch 189/200\n",
            "32/32 [==============================] - 0s 3ms/step - loss: 0.0161 - mae: 0.0862 - val_loss: 0.1307 - val_mae: 0.2578\n",
            "Epoch 190/200\n",
            "32/32 [==============================] - 0s 3ms/step - loss: 0.0199 - mae: 0.0941 - val_loss: 0.1091 - val_mae: 0.2321\n",
            "Epoch 191/200\n",
            "32/32 [==============================] - 0s 3ms/step - loss: 0.0177 - mae: 0.0905 - val_loss: 0.1082 - val_mae: 0.2266\n",
            "Epoch 192/200\n",
            "32/32 [==============================] - 0s 4ms/step - loss: 0.0197 - mae: 0.0932 - val_loss: 0.1191 - val_mae: 0.2374\n",
            "Epoch 193/200\n",
            "32/32 [==============================] - 0s 3ms/step - loss: 0.0206 - mae: 0.0965 - val_loss: 0.1126 - val_mae: 0.2601\n",
            "Epoch 194/200\n",
            "32/32 [==============================] - 0s 3ms/step - loss: 0.0191 - mae: 0.0967 - val_loss: 0.1117 - val_mae: 0.2401\n",
            "Epoch 195/200\n",
            "32/32 [==============================] - 0s 3ms/step - loss: 0.0167 - mae: 0.0862 - val_loss: 0.1105 - val_mae: 0.2396\n",
            "Epoch 196/200\n",
            "32/32 [==============================] - 0s 3ms/step - loss: 0.0136 - mae: 0.0758 - val_loss: 0.1172 - val_mae: 0.2464\n",
            "Epoch 197/200\n",
            "32/32 [==============================] - 0s 3ms/step - loss: 0.0207 - mae: 0.0932 - val_loss: 0.1086 - val_mae: 0.2299\n",
            "Epoch 198/200\n",
            "32/32 [==============================] - 0s 3ms/step - loss: 0.0218 - mae: 0.1007 - val_loss: 0.1082 - val_mae: 0.2315\n",
            "Epoch 199/200\n",
            "32/32 [==============================] - 0s 3ms/step - loss: 0.0196 - mae: 0.0907 - val_loss: 0.1194 - val_mae: 0.2484\n",
            "Epoch 200/200\n",
            "32/32 [==============================] - 0s 3ms/step - loss: 0.0184 - mae: 0.0914 - val_loss: 0.1045 - val_mae: 0.2344\n"
          ],
          "name": "stdout"
        }
      ]
    },
    {
      "cell_type": "code",
      "metadata": {
        "colab": {
          "base_uri": "https://localhost:8080/"
        },
        "id": "2Cb7IdQyuG7S",
        "outputId": "9a7ea4c3-0c4d-4a41-89ad-28be7673f47f"
      },
      "source": [
        "history.history.keys()"
      ],
      "execution_count": 54,
      "outputs": [
        {
          "output_type": "execute_result",
          "data": {
            "text/plain": [
              "dict_keys(['loss', 'mae', 'val_loss', 'val_mae'])"
            ]
          },
          "metadata": {
            "tags": []
          },
          "execution_count": 54
        }
      ]
    },
    {
      "cell_type": "code",
      "metadata": {
        "colab": {
          "base_uri": "https://localhost:8080/"
        },
        "id": "-L6Nm82DuYiS",
        "outputId": "5f8fa404-24ea-4dc1-ca69-c1c25802e5b8"
      },
      "source": [
        "loss,mae=network.evaluate(X_test,Y_test)"
      ],
      "execution_count": 55,
      "outputs": [
        {
          "output_type": "stream",
          "text": [
            "10/10 [==============================] - 0s 2ms/step - loss: 0.1143 - mae: 0.2265\n"
          ],
          "name": "stdout"
        }
      ]
    },
    {
      "cell_type": "code",
      "metadata": {
        "id": "PDwHGUCcubnP"
      },
      "source": [
        "val_mae = history.history['val_mae']\n",
        "val_loss = history.history['val_loss']"
      ],
      "execution_count": 56,
      "outputs": []
    },
    {
      "cell_type": "code",
      "metadata": {
        "id": "cxjxUhbRu2a6"
      },
      "source": [
        "import matplotlib.pyplot as plt"
      ],
      "execution_count": 58,
      "outputs": []
    },
    {
      "cell_type": "code",
      "metadata": {
        "colab": {
          "base_uri": "https://localhost:8080/",
          "height": 295
        },
        "id": "ZYbJWHeduha9",
        "outputId": "b1ebdbbd-426b-4cbe-a6cf-2ed00e404f14"
      },
      "source": [
        "history_dict = history.history\n",
        "loss_values = history_dict['loss']\n",
        "val_loss_values = history_dict['val_loss']\n",
        "epochs = range(200)\n",
        "plt.plot(epochs, loss_values, 'bo', label='Training loss')\n",
        "plt.plot(epochs, val_loss_values, 'b', label='Validation loss')\n",
        "plt.title('Training and validation loss')\n",
        "plt.xlabel('Epochs')\n",
        "plt.ylabel('Loss')\n",
        "plt.legend()\n",
        "plt.show()"
      ],
      "execution_count": 59,
      "outputs": [
        {
          "output_type": "display_data",
          "data": {
            "image/png": "[encoded data removed]",
            "text/plain": [
              "<Figure size 432x288 with 1 Axes>"
            ]
          },
          "metadata": {
            "tags": [],
            "needs_background": "light"
          }
        }
      ]
    },
    {
      "cell_type": "code",
      "metadata": {
        "colab": {
          "base_uri": "https://localhost:8080/",
          "height": 295
        },
        "id": "uCuIZ8PnummG",
        "outputId": "b8e7d6a1-d213-47d6-be14-15b9c754b12f"
      },
      "source": [
        "acc_values = history_dict['mae']\n",
        "val_acc_values = history_dict['val_mae']\n",
        "plt.plot(epochs, acc_values, 'bo', label='Training mae')\n",
        "plt.plot(epochs, val_acc_values, 'b', label='Validation mae')\n",
        "plt.title('Training and validation accuracy')\n",
        "plt.xlabel('Epochs')\n",
        "plt.ylabel('mae')\n",
        "plt.legend()\n",
        "plt.show()"
      ],
      "execution_count": 60,
      "outputs": [
        {
          "output_type": "display_data",
          "data": {
            "image/png": "[encoded data removed]",
            "text/plain": [
              "<Figure size 432x288 with 1 Axes>"
            ]
          },
          "metadata": {
            "tags": [],
            "needs_background": "light"
          }
        }
      ]
    },
    {
      "cell_type": "code",
      "metadata": {
        "id": "Y1aeUia1u5-R"
      },
      "source": [
        "y_pred = network.predict(X_test)"
      ],
      "execution_count": 61,
      "outputs": []
    },
    {
      "cell_type": "code",
      "metadata": {
        "id": "TgdpKHeVu_v8"
      },
      "source": [
        "def denorm(x):\n",
        "    return (x * Y_std) + Y_mean"
      ],
      "execution_count": 62,
      "outputs": []
    },
    {
      "cell_type": "code",
      "metadata": {
        "id": "_J9VSXzNvCw6"
      },
      "source": [
        "y_pred = denorm(y_pred)"
      ],
      "execution_count": 63,
      "outputs": []
    },
    {
      "cell_type": "code",
      "metadata": {
        "id": "z9g3pZZ3vGHU"
      },
      "source": [
        "y_true = denorm(Y_test)"
      ],
      "execution_count": 64,
      "outputs": []
    },
    {
      "cell_type": "code",
      "metadata": {
        "id": "4upRl8SXvIpx"
      },
      "source": [
        "y_pred = y_pred.flatten()"
      ],
      "execution_count": 65,
      "outputs": []
    },
    {
      "cell_type": "code",
      "metadata": {
        "colab": {
          "base_uri": "https://localhost:8080/"
        },
        "id": "Id0YeyHsvLUP",
        "outputId": "e383bc25-8279-4f23-cc96-894149ddacdd"
      },
      "source": [
        "y_pred.shape"
      ],
      "execution_count": 66,
      "outputs": [
        {
          "output_type": "execute_result",
          "data": {
            "text/plain": [
              "(309,)"
            ]
          },
          "metadata": {
            "tags": []
          },
          "execution_count": 66
        }
      ]
    },
    {
      "cell_type": "code",
      "metadata": {
        "colab": {
          "base_uri": "https://localhost:8080/"
        },
        "id": "yqwqZ_5gvOIK",
        "outputId": "57fa7504-8678-475e-e43f-95c4ca28cff7"
      },
      "source": [
        "y_true.shape"
      ],
      "execution_count": 67,
      "outputs": [
        {
          "output_type": "execute_result",
          "data": {
            "text/plain": [
              "(309,)"
            ]
          },
          "metadata": {
            "tags": []
          },
          "execution_count": 67
        }
      ]
    },
    {
      "cell_type": "code",
      "metadata": {
        "colab": {
          "base_uri": "https://localhost:8080/",
          "height": 286
        },
        "id": "QWiDTxuHvSFY",
        "outputId": "35b2c21c-7855-4e11-b212-00ea83d3c926"
      },
      "source": [
        "coef = np.polyfit(y_true,y_pred,1)\n",
        "poly1d_fn = np.poly1d(coef) \n",
        "# poly1d_fn is now a function which takes in x and returns an estimate for y\n",
        "plt.plot(y_true,y_pred, 'yo', y_true, poly1d_fn(y_true), '--k')\n",
        "plt.xlim(0, 100)\n",
        "plt.ylim(0, 100)"
      ],
      "execution_count": 68,
      "outputs": [
        {
          "output_type": "execute_result",
          "data": {
            "text/plain": [
              "(0.0, 100.0)"
            ]
          },
          "metadata": {
            "tags": []
          },
          "execution_count": 68
        },
        {
          "output_type": "display_data",
          "data": {
            "image/png": "[encoded data removed]",
            "text/plain": [
              "<Figure size 432x288 with 1 Axes>"
            ]
          },
          "metadata": {
            "tags": [],
            "needs_background": "light"
          }
        }
      ]
    },
    {
      "cell_type": "code",
      "metadata": {
        "id": "ZEG0GRFnvXKJ"
      },
      "source": [
        ""
      ],
      "execution_count": null,
      "outputs": []
    }
  ]
}