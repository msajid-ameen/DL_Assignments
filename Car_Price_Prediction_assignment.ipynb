{
  "nbformat": 4,
  "nbformat_minor": 0,
  "metadata": {
    "kernelspec": {
      "display_name": "Python 3",
      "language": "python",
      "name": "python3"
    },
    "language_info": {
      "codemirror_mode": {
        "name": "ipython",
        "version": 3
      },
      "file_extension": ".py",
      "mimetype": "text/x-python",
      "name": "python",
      "nbconvert_exporter": "python",
      "pygments_lexer": "ipython3",
      "version": "3.7.3"
    },
    "colab": {
      "name": "Car Price Prediction assignment.ipynb",
      "provenance": [],
      "collapsed_sections": []
    }
  },
  "cells": [
    {
      "cell_type": "markdown",
      "metadata": {
        "id": "mBRu7WRuJKkM"
      },
      "source": [
        "# Car Price Prediction::"
      ]
    },
    {
      "cell_type": "markdown",
      "metadata": {
        "id": "Zt7oHE_KJKkX"
      },
      "source": [
        "Download dataset from this link:\n",
        "\n",
        "https://www.kaggle.com/hellbuoy/car-price-prediction"
      ]
    },
    {
      "cell_type": "markdown",
      "metadata": {
        "id": "R33gfoN_JKkY"
      },
      "source": [
        "# Problem Statement::"
      ]
    },
    {
      "cell_type": "markdown",
      "metadata": {
        "id": "4V4dtyUfJKkZ"
      },
      "source": [
        "A Chinese automobile company Geely Auto aspires to enter the US market by setting up their manufacturing unit there and producing cars locally to give competition to their US and European counterparts.\n",
        "\n",
        "They have contracted an automobile consulting company to understand the factors on which the pricing of cars depends. Specifically, they want to understand the factors affecting the pricing of cars in the American market, since those may be very different from the Chinese market. The company wants to know:\n",
        "\n",
        "Which variables are significant in predicting the price of a car\n",
        "How well those variables describe the price of a car\n",
        "Based on various market surveys, the consulting firm has gathered a large data set of different types of cars across the America market.\n",
        "\n",
        "# task::\n",
        "We are required to model the price of cars with the available independent variables. It will be used by the management to understand how exactly the prices vary with the independent variables. They can accordingly manipulate the design of the cars, the business strategy etc. to meet certain price levels. Further, the model will be a good way for management to understand the pricing dynamics of a new market."
      ]
    },
    {
      "cell_type": "markdown",
      "metadata": {
        "id": "AW9hQCOtJKka"
      },
      "source": [
        "# WORKFLOW ::"
      ]
    },
    {
      "cell_type": "markdown",
      "metadata": {
        "id": "aKnElJ_xJKka"
      },
      "source": [
        "1.Load Data\n",
        "\n",
        "2.Check Missing Values ( If Exist ; Fill each record with mean of its feature )\n",
        "\n",
        "3.Split into 50% Training(Samples,Labels) , 30% Test(Samples,Labels) and 20% Validation Data(Samples,Labels).\n",
        "\n",
        "4.Model : input Layer (No. of features ), 3 hidden layers including 10,8,6 unit & Output Layer with activation function relu/tanh (check by experiment).\n",
        "\n",
        "5.Compilation Step (Note : Its a Regression problem , select loss , metrics according to it)\n",
        "6.Train the Model with Epochs (100) and validate it\n",
        "\n",
        "7.If the model gets overfit tune your model by changing the units , No. of layers , activation function , epochs , add dropout layer or add Regularizer according to the need .\n",
        "\n",
        "8.Evaluation Step\n",
        "\n",
        "9.Prediction"
      ]
    },
    {
      "cell_type": "code",
      "metadata": {
        "colab": {
          "base_uri": "https://localhost:8080/"
        },
        "id": "Lp4Un14LNUVi",
        "outputId": "3275c37b-abc1-4294-e070-49f9120f5532"
      },
      "source": [
        "from google.colab import drive\n",
        "drive.mount('/content/drive')"
      ],
      "execution_count": 1,
      "outputs": [
        {
          "output_type": "stream",
          "text": [
            "Drive already mounted at /content/drive; to attempt to forcibly remount, call drive.mount(\"/content/drive\", force_remount=True).\n"
          ],
          "name": "stdout"
        }
      ]
    },
    {
      "cell_type": "code",
      "metadata": {
        "id": "LIR6LBrNOYL9"
      },
      "source": [
        "import numpy as np\n",
        "import pandas as pd\n",
        "import tensorflow as tf\n",
        "tf.compat.v1.logging.set_verbosity(tf.compat.v1.logging.ERROR)"
      ],
      "execution_count": 2,
      "outputs": []
    },
    {
      "cell_type": "markdown",
      "metadata": {
        "id": "Tq-JSXPDegsk"
      },
      "source": [
        "## **1.Load Data**"
      ]
    },
    {
      "cell_type": "code",
      "metadata": {
        "id": "1BkhOvjXJKkc",
        "colab": {
          "base_uri": "https://localhost:8080/",
          "height": 275
        },
        "outputId": "dca1f8a9-dc7c-4aaf-e35d-4f9016b3d35c"
      },
      "source": [
        "car_data = pd.read_csv('/content/drive/My Drive/DLAssignments/datasets/CarPrice_Assignment.csv')\n",
        "car_data.head()"
      ],
      "execution_count": 3,
      "outputs": [
        {
          "output_type": "execute_result",
          "data": {
            "text/html": [
              "<div>\n",
              "<style scoped>\n",
              "    .dataframe tbody tr th:only-of-type {\n",
              "        vertical-align: middle;\n",
              "    }\n",
              "\n",
              "    .dataframe tbody tr th {\n",
              "        vertical-align: top;\n",
              "    }\n",
              "\n",
              "    .dataframe thead th {\n",
              "        text-align: right;\n",
              "    }\n",
              "</style>\n",
              "<table border=\"1\" class=\"dataframe\">\n",
              "  <thead>\n",
              "    <tr style=\"text-align: right;\">\n",
              "      <th></th>\n",
              "      <th>car_ID</th>\n",
              "      <th>symboling</th>\n",
              "      <th>CarName</th>\n",
              "      <th>fueltype</th>\n",
              "      <th>aspiration</th>\n",
              "      <th>doornumber</th>\n",
              "      <th>carbody</th>\n",
              "      <th>drivewheel</th>\n",
              "      <th>enginelocation</th>\n",
              "      <th>wheelbase</th>\n",
              "      <th>carlength</th>\n",
              "      <th>carwidth</th>\n",
              "      <th>carheight</th>\n",
              "      <th>curbweight</th>\n",
              "      <th>enginetype</th>\n",
              "      <th>cylindernumber</th>\n",
              "      <th>enginesize</th>\n",
              "      <th>fuelsystem</th>\n",
              "      <th>boreratio</th>\n",
              "      <th>stroke</th>\n",
              "      <th>compressionratio</th>\n",
              "      <th>horsepower</th>\n",
              "      <th>peakrpm</th>\n",
              "      <th>citympg</th>\n",
              "      <th>highwaympg</th>\n",
              "      <th>price</th>\n",
              "    </tr>\n",
              "  </thead>\n",
              "  <tbody>\n",
              "    <tr>\n",
              "      <th>0</th>\n",
              "      <td>1</td>\n",
              "      <td>3</td>\n",
              "      <td>alfa-romero giulia</td>\n",
              "      <td>gas</td>\n",
              "      <td>std</td>\n",
              "      <td>two</td>\n",
              "      <td>convertible</td>\n",
              "      <td>rwd</td>\n",
              "      <td>front</td>\n",
              "      <td>88.6</td>\n",
              "      <td>168.8</td>\n",
              "      <td>64.1</td>\n",
              "      <td>48.8</td>\n",
              "      <td>2548</td>\n",
              "      <td>dohc</td>\n",
              "      <td>four</td>\n",
              "      <td>130</td>\n",
              "      <td>mpfi</td>\n",
              "      <td>3.47</td>\n",
              "      <td>2.68</td>\n",
              "      <td>9.0</td>\n",
              "      <td>111</td>\n",
              "      <td>5000</td>\n",
              "      <td>21</td>\n",
              "      <td>27</td>\n",
              "      <td>13495.0</td>\n",
              "    </tr>\n",
              "    <tr>\n",
              "      <th>1</th>\n",
              "      <td>2</td>\n",
              "      <td>3</td>\n",
              "      <td>alfa-romero stelvio</td>\n",
              "      <td>gas</td>\n",
              "      <td>std</td>\n",
              "      <td>two</td>\n",
              "      <td>convertible</td>\n",
              "      <td>rwd</td>\n",
              "      <td>front</td>\n",
              "      <td>88.6</td>\n",
              "      <td>168.8</td>\n",
              "      <td>64.1</td>\n",
              "      <td>48.8</td>\n",
              "      <td>2548</td>\n",
              "      <td>dohc</td>\n",
              "      <td>four</td>\n",
              "      <td>130</td>\n",
              "      <td>mpfi</td>\n",
              "      <td>3.47</td>\n",
              "      <td>2.68</td>\n",
              "      <td>9.0</td>\n",
              "      <td>111</td>\n",
              "      <td>5000</td>\n",
              "      <td>21</td>\n",
              "      <td>27</td>\n",
              "      <td>16500.0</td>\n",
              "    </tr>\n",
              "    <tr>\n",
              "      <th>2</th>\n",
              "      <td>3</td>\n",
              "      <td>1</td>\n",
              "      <td>alfa-romero Quadrifoglio</td>\n",
              "      <td>gas</td>\n",
              "      <td>std</td>\n",
              "      <td>two</td>\n",
              "      <td>hatchback</td>\n",
              "      <td>rwd</td>\n",
              "      <td>front</td>\n",
              "      <td>94.5</td>\n",
              "      <td>171.2</td>\n",
              "      <td>65.5</td>\n",
              "      <td>52.4</td>\n",
              "      <td>2823</td>\n",
              "      <td>ohcv</td>\n",
              "      <td>six</td>\n",
              "      <td>152</td>\n",
              "      <td>mpfi</td>\n",
              "      <td>2.68</td>\n",
              "      <td>3.47</td>\n",
              "      <td>9.0</td>\n",
              "      <td>154</td>\n",
              "      <td>5000</td>\n",
              "      <td>19</td>\n",
              "      <td>26</td>\n",
              "      <td>16500.0</td>\n",
              "    </tr>\n",
              "    <tr>\n",
              "      <th>3</th>\n",
              "      <td>4</td>\n",
              "      <td>2</td>\n",
              "      <td>audi 100 ls</td>\n",
              "      <td>gas</td>\n",
              "      <td>std</td>\n",
              "      <td>four</td>\n",
              "      <td>sedan</td>\n",
              "      <td>fwd</td>\n",
              "      <td>front</td>\n",
              "      <td>99.8</td>\n",
              "      <td>176.6</td>\n",
              "      <td>66.2</td>\n",
              "      <td>54.3</td>\n",
              "      <td>2337</td>\n",
              "      <td>ohc</td>\n",
              "      <td>four</td>\n",
              "      <td>109</td>\n",
              "      <td>mpfi</td>\n",
              "      <td>3.19</td>\n",
              "      <td>3.40</td>\n",
              "      <td>10.0</td>\n",
              "      <td>102</td>\n",
              "      <td>5500</td>\n",
              "      <td>24</td>\n",
              "      <td>30</td>\n",
              "      <td>13950.0</td>\n",
              "    </tr>\n",
              "    <tr>\n",
              "      <th>4</th>\n",
              "      <td>5</td>\n",
              "      <td>2</td>\n",
              "      <td>audi 100ls</td>\n",
              "      <td>gas</td>\n",
              "      <td>std</td>\n",
              "      <td>four</td>\n",
              "      <td>sedan</td>\n",
              "      <td>4wd</td>\n",
              "      <td>front</td>\n",
              "      <td>99.4</td>\n",
              "      <td>176.6</td>\n",
              "      <td>66.4</td>\n",
              "      <td>54.3</td>\n",
              "      <td>2824</td>\n",
              "      <td>ohc</td>\n",
              "      <td>five</td>\n",
              "      <td>136</td>\n",
              "      <td>mpfi</td>\n",
              "      <td>3.19</td>\n",
              "      <td>3.40</td>\n",
              "      <td>8.0</td>\n",
              "      <td>115</td>\n",
              "      <td>5500</td>\n",
              "      <td>18</td>\n",
              "      <td>22</td>\n",
              "      <td>17450.0</td>\n",
              "    </tr>\n",
              "  </tbody>\n",
              "</table>\n",
              "</div>"
            ],
            "text/plain": [
              "   car_ID  symboling                   CarName  ... citympg highwaympg    price\n",
              "0       1          3        alfa-romero giulia  ...      21         27  13495.0\n",
              "1       2          3       alfa-romero stelvio  ...      21         27  16500.0\n",
              "2       3          1  alfa-romero Quadrifoglio  ...      19         26  16500.0\n",
              "3       4          2               audi 100 ls  ...      24         30  13950.0\n",
              "4       5          2                audi 100ls  ...      18         22  17450.0\n",
              "\n",
              "[5 rows x 26 columns]"
            ]
          },
          "metadata": {
            "tags": []
          },
          "execution_count": 3
        }
      ]
    },
    {
      "cell_type": "markdown",
      "metadata": {
        "id": "JTPX9fbbeyJG"
      },
      "source": [
        "## **2.Check Missing Values ( If Exist ; Fill each record with mean of its feature )**"
      ]
    },
    {
      "cell_type": "code",
      "metadata": {
        "id": "FOBcloYcJKkd",
        "colab": {
          "base_uri": "https://localhost:8080/"
        },
        "outputId": "da5cc22a-d7ee-468b-9e3c-f79502f5b9f6"
      },
      "source": [
        "np.where(car_data.applymap(lambda x: x == ''))"
      ],
      "execution_count": 4,
      "outputs": [
        {
          "output_type": "execute_result",
          "data": {
            "text/plain": [
              "(array([], dtype=int64), array([], dtype=int64))"
            ]
          },
          "metadata": {
            "tags": []
          },
          "execution_count": 4
        }
      ]
    },
    {
      "cell_type": "code",
      "metadata": {
        "id": "M-YXJ8FEJKkd",
        "colab": {
          "base_uri": "https://localhost:8080/"
        },
        "outputId": "f3b23623-0a3c-4a81-97ee-2c5727d9db82"
      },
      "source": [
        "car_data.isnull().sum()"
      ],
      "execution_count": 5,
      "outputs": [
        {
          "output_type": "execute_result",
          "data": {
            "text/plain": [
              "car_ID              0\n",
              "symboling           0\n",
              "CarName             0\n",
              "fueltype            0\n",
              "aspiration          0\n",
              "doornumber          0\n",
              "carbody             0\n",
              "drivewheel          0\n",
              "enginelocation      0\n",
              "wheelbase           0\n",
              "carlength           0\n",
              "carwidth            0\n",
              "carheight           0\n",
              "curbweight          0\n",
              "enginetype          0\n",
              "cylindernumber      0\n",
              "enginesize          0\n",
              "fuelsystem          0\n",
              "boreratio           0\n",
              "stroke              0\n",
              "compressionratio    0\n",
              "horsepower          0\n",
              "peakrpm             0\n",
              "citympg             0\n",
              "highwaympg          0\n",
              "price               0\n",
              "dtype: int64"
            ]
          },
          "metadata": {
            "tags": []
          },
          "execution_count": 5
        }
      ]
    },
    {
      "cell_type": "code",
      "metadata": {
        "id": "Vb4qS9WGJTOC"
      },
      "source": [
        "car_data['CarName'] = car_data['CarName'].str.replace('audi 100 ls','audi 100ls')\n",
        "#car_data.iloc[3,2] = 'audi 100ls'"
      ],
      "execution_count": 6,
      "outputs": []
    },
    {
      "cell_type": "code",
      "metadata": {
        "id": "p4Dd0wsXJaql",
        "colab": {
          "base_uri": "https://localhost:8080/"
        },
        "outputId": "61c5cbb0-4acf-467f-c111-f431b000ed5a"
      },
      "source": [
        "car_data.dtypes"
      ],
      "execution_count": 7,
      "outputs": [
        {
          "output_type": "execute_result",
          "data": {
            "text/plain": [
              "car_ID                int64\n",
              "symboling             int64\n",
              "CarName              object\n",
              "fueltype             object\n",
              "aspiration           object\n",
              "doornumber           object\n",
              "carbody              object\n",
              "drivewheel           object\n",
              "enginelocation       object\n",
              "wheelbase           float64\n",
              "carlength           float64\n",
              "carwidth            float64\n",
              "carheight           float64\n",
              "curbweight            int64\n",
              "enginetype           object\n",
              "cylindernumber       object\n",
              "enginesize            int64\n",
              "fuelsystem           object\n",
              "boreratio           float64\n",
              "stroke              float64\n",
              "compressionratio    float64\n",
              "horsepower            int64\n",
              "peakrpm               int64\n",
              "citympg               int64\n",
              "highwaympg            int64\n",
              "price               float64\n",
              "dtype: object"
            ]
          },
          "metadata": {
            "tags": []
          },
          "execution_count": 7
        }
      ]
    },
    {
      "cell_type": "code",
      "metadata": {
        "id": "H7QFpSwD5j98"
      },
      "source": [
        "car_data.drop(columns=[\"car_ID\"], inplace=True)"
      ],
      "execution_count": 8,
      "outputs": []
    },
    {
      "cell_type": "code",
      "metadata": {
        "colab": {
          "base_uri": "https://localhost:8080/"
        },
        "id": "ui5egl-s6YcB",
        "outputId": "e074526b-1eba-491e-bdda-adfb0f01120f"
      },
      "source": [
        "car_data.columns"
      ],
      "execution_count": 9,
      "outputs": [
        {
          "output_type": "execute_result",
          "data": {
            "text/plain": [
              "Index(['symboling', 'CarName', 'fueltype', 'aspiration', 'doornumber',\n",
              "       'carbody', 'drivewheel', 'enginelocation', 'wheelbase', 'carlength',\n",
              "       'carwidth', 'carheight', 'curbweight', 'enginetype', 'cylindernumber',\n",
              "       'enginesize', 'fuelsystem', 'boreratio', 'stroke', 'compressionratio',\n",
              "       'horsepower', 'peakrpm', 'citympg', 'highwaympg', 'price'],\n",
              "      dtype='object')"
            ]
          },
          "metadata": {
            "tags": []
          },
          "execution_count": 9
        }
      ]
    },
    {
      "cell_type": "code",
      "metadata": {
        "id": "mS3vFskj6ftT"
      },
      "source": [
        "final_car_data = pd.get_dummies(car_data, columns=['symboling','CarName','fueltype','aspiration','doornumber','carbody','drivewheel','enginelocation','enginetype','cylindernumber','fuelsystem'], drop_first=True)"
      ],
      "execution_count": 10,
      "outputs": []
    },
    {
      "cell_type": "code",
      "metadata": {
        "colab": {
          "base_uri": "https://localhost:8080/",
          "height": 287
        },
        "id": "Kt9Cmu_r9O03",
        "outputId": "257146d7-3ce5-44cb-dbfa-479c0627276f"
      },
      "source": [
        "final_car_data.head()"
      ],
      "execution_count": 11,
      "outputs": [
        {
          "output_type": "execute_result",
          "data": {
            "text/html": [
              "<div>\n",
              "<style scoped>\n",
              "    .dataframe tbody tr th:only-of-type {\n",
              "        vertical-align: middle;\n",
              "    }\n",
              "\n",
              "    .dataframe tbody tr th {\n",
              "        vertical-align: top;\n",
              "    }\n",
              "\n",
              "    .dataframe thead th {\n",
              "        text-align: right;\n",
              "    }\n",
              "</style>\n",
              "<table border=\"1\" class=\"dataframe\">\n",
              "  <thead>\n",
              "    <tr style=\"text-align: right;\">\n",
              "      <th></th>\n",
              "      <th>wheelbase</th>\n",
              "      <th>carlength</th>\n",
              "      <th>carwidth</th>\n",
              "      <th>carheight</th>\n",
              "      <th>curbweight</th>\n",
              "      <th>enginesize</th>\n",
              "      <th>boreratio</th>\n",
              "      <th>stroke</th>\n",
              "      <th>compressionratio</th>\n",
              "      <th>horsepower</th>\n",
              "      <th>peakrpm</th>\n",
              "      <th>citympg</th>\n",
              "      <th>highwaympg</th>\n",
              "      <th>price</th>\n",
              "      <th>symboling_-1</th>\n",
              "      <th>symboling_0</th>\n",
              "      <th>symboling_1</th>\n",
              "      <th>symboling_2</th>\n",
              "      <th>symboling_3</th>\n",
              "      <th>CarName_alfa-romero Quadrifoglio</th>\n",
              "      <th>CarName_alfa-romero giulia</th>\n",
              "      <th>CarName_alfa-romero stelvio</th>\n",
              "      <th>CarName_audi 100ls</th>\n",
              "      <th>CarName_audi 4000</th>\n",
              "      <th>CarName_audi 5000</th>\n",
              "      <th>CarName_audi 5000s (diesel)</th>\n",
              "      <th>CarName_audi fox</th>\n",
              "      <th>CarName_bmw 320i</th>\n",
              "      <th>CarName_bmw x1</th>\n",
              "      <th>CarName_bmw x3</th>\n",
              "      <th>CarName_bmw x4</th>\n",
              "      <th>CarName_bmw x5</th>\n",
              "      <th>CarName_bmw z4</th>\n",
              "      <th>CarName_buick century</th>\n",
              "      <th>CarName_buick century luxus (sw)</th>\n",
              "      <th>CarName_buick century special</th>\n",
              "      <th>CarName_buick electra 225 custom</th>\n",
              "      <th>CarName_buick opel isuzu deluxe</th>\n",
              "      <th>CarName_buick regal sport coupe (turbo)</th>\n",
              "      <th>CarName_buick skyhawk</th>\n",
              "      <th>...</th>\n",
              "      <th>CarName_volkswagen super beetle</th>\n",
              "      <th>CarName_volkswagen type 3</th>\n",
              "      <th>CarName_volvo 144ea</th>\n",
              "      <th>CarName_volvo 145e (sw)</th>\n",
              "      <th>CarName_volvo 244dl</th>\n",
              "      <th>CarName_volvo 245</th>\n",
              "      <th>CarName_volvo 246</th>\n",
              "      <th>CarName_volvo 264gl</th>\n",
              "      <th>CarName_volvo diesel</th>\n",
              "      <th>CarName_vw dasher</th>\n",
              "      <th>CarName_vw rabbit</th>\n",
              "      <th>fueltype_gas</th>\n",
              "      <th>aspiration_turbo</th>\n",
              "      <th>doornumber_two</th>\n",
              "      <th>carbody_hardtop</th>\n",
              "      <th>carbody_hatchback</th>\n",
              "      <th>carbody_sedan</th>\n",
              "      <th>carbody_wagon</th>\n",
              "      <th>drivewheel_fwd</th>\n",
              "      <th>drivewheel_rwd</th>\n",
              "      <th>enginelocation_rear</th>\n",
              "      <th>enginetype_dohcv</th>\n",
              "      <th>enginetype_l</th>\n",
              "      <th>enginetype_ohc</th>\n",
              "      <th>enginetype_ohcf</th>\n",
              "      <th>enginetype_ohcv</th>\n",
              "      <th>enginetype_rotor</th>\n",
              "      <th>cylindernumber_five</th>\n",
              "      <th>cylindernumber_four</th>\n",
              "      <th>cylindernumber_six</th>\n",
              "      <th>cylindernumber_three</th>\n",
              "      <th>cylindernumber_twelve</th>\n",
              "      <th>cylindernumber_two</th>\n",
              "      <th>fuelsystem_2bbl</th>\n",
              "      <th>fuelsystem_4bbl</th>\n",
              "      <th>fuelsystem_idi</th>\n",
              "      <th>fuelsystem_mfi</th>\n",
              "      <th>fuelsystem_mpfi</th>\n",
              "      <th>fuelsystem_spdi</th>\n",
              "      <th>fuelsystem_spfi</th>\n",
              "    </tr>\n",
              "  </thead>\n",
              "  <tbody>\n",
              "    <tr>\n",
              "      <th>0</th>\n",
              "      <td>88.6</td>\n",
              "      <td>168.8</td>\n",
              "      <td>64.1</td>\n",
              "      <td>48.8</td>\n",
              "      <td>2548</td>\n",
              "      <td>130</td>\n",
              "      <td>3.47</td>\n",
              "      <td>2.68</td>\n",
              "      <td>9.0</td>\n",
              "      <td>111</td>\n",
              "      <td>5000</td>\n",
              "      <td>21</td>\n",
              "      <td>27</td>\n",
              "      <td>13495.0</td>\n",
              "      <td>0</td>\n",
              "      <td>0</td>\n",
              "      <td>0</td>\n",
              "      <td>0</td>\n",
              "      <td>1</td>\n",
              "      <td>0</td>\n",
              "      <td>1</td>\n",
              "      <td>0</td>\n",
              "      <td>0</td>\n",
              "      <td>0</td>\n",
              "      <td>0</td>\n",
              "      <td>0</td>\n",
              "      <td>0</td>\n",
              "      <td>0</td>\n",
              "      <td>0</td>\n",
              "      <td>0</td>\n",
              "      <td>0</td>\n",
              "      <td>0</td>\n",
              "      <td>0</td>\n",
              "      <td>0</td>\n",
              "      <td>0</td>\n",
              "      <td>0</td>\n",
              "      <td>0</td>\n",
              "      <td>0</td>\n",
              "      <td>0</td>\n",
              "      <td>0</td>\n",
              "      <td>...</td>\n",
              "      <td>0</td>\n",
              "      <td>0</td>\n",
              "      <td>0</td>\n",
              "      <td>0</td>\n",
              "      <td>0</td>\n",
              "      <td>0</td>\n",
              "      <td>0</td>\n",
              "      <td>0</td>\n",
              "      <td>0</td>\n",
              "      <td>0</td>\n",
              "      <td>0</td>\n",
              "      <td>1</td>\n",
              "      <td>0</td>\n",
              "      <td>1</td>\n",
              "      <td>0</td>\n",
              "      <td>0</td>\n",
              "      <td>0</td>\n",
              "      <td>0</td>\n",
              "      <td>0</td>\n",
              "      <td>1</td>\n",
              "      <td>0</td>\n",
              "      <td>0</td>\n",
              "      <td>0</td>\n",
              "      <td>0</td>\n",
              "      <td>0</td>\n",
              "      <td>0</td>\n",
              "      <td>0</td>\n",
              "      <td>0</td>\n",
              "      <td>1</td>\n",
              "      <td>0</td>\n",
              "      <td>0</td>\n",
              "      <td>0</td>\n",
              "      <td>0</td>\n",
              "      <td>0</td>\n",
              "      <td>0</td>\n",
              "      <td>0</td>\n",
              "      <td>0</td>\n",
              "      <td>1</td>\n",
              "      <td>0</td>\n",
              "      <td>0</td>\n",
              "    </tr>\n",
              "    <tr>\n",
              "      <th>1</th>\n",
              "      <td>88.6</td>\n",
              "      <td>168.8</td>\n",
              "      <td>64.1</td>\n",
              "      <td>48.8</td>\n",
              "      <td>2548</td>\n",
              "      <td>130</td>\n",
              "      <td>3.47</td>\n",
              "      <td>2.68</td>\n",
              "      <td>9.0</td>\n",
              "      <td>111</td>\n",
              "      <td>5000</td>\n",
              "      <td>21</td>\n",
              "      <td>27</td>\n",
              "      <td>16500.0</td>\n",
              "      <td>0</td>\n",
              "      <td>0</td>\n",
              "      <td>0</td>\n",
              "      <td>0</td>\n",
              "      <td>1</td>\n",
              "      <td>0</td>\n",
              "      <td>0</td>\n",
              "      <td>1</td>\n",
              "      <td>0</td>\n",
              "      <td>0</td>\n",
              "      <td>0</td>\n",
              "      <td>0</td>\n",
              "      <td>0</td>\n",
              "      <td>0</td>\n",
              "      <td>0</td>\n",
              "      <td>0</td>\n",
              "      <td>0</td>\n",
              "      <td>0</td>\n",
              "      <td>0</td>\n",
              "      <td>0</td>\n",
              "      <td>0</td>\n",
              "      <td>0</td>\n",
              "      <td>0</td>\n",
              "      <td>0</td>\n",
              "      <td>0</td>\n",
              "      <td>0</td>\n",
              "      <td>...</td>\n",
              "      <td>0</td>\n",
              "      <td>0</td>\n",
              "      <td>0</td>\n",
              "      <td>0</td>\n",
              "      <td>0</td>\n",
              "      <td>0</td>\n",
              "      <td>0</td>\n",
              "      <td>0</td>\n",
              "      <td>0</td>\n",
              "      <td>0</td>\n",
              "      <td>0</td>\n",
              "      <td>1</td>\n",
              "      <td>0</td>\n",
              "      <td>1</td>\n",
              "      <td>0</td>\n",
              "      <td>0</td>\n",
              "      <td>0</td>\n",
              "      <td>0</td>\n",
              "      <td>0</td>\n",
              "      <td>1</td>\n",
              "      <td>0</td>\n",
              "      <td>0</td>\n",
              "      <td>0</td>\n",
              "      <td>0</td>\n",
              "      <td>0</td>\n",
              "      <td>0</td>\n",
              "      <td>0</td>\n",
              "      <td>0</td>\n",
              "      <td>1</td>\n",
              "      <td>0</td>\n",
              "      <td>0</td>\n",
              "      <td>0</td>\n",
              "      <td>0</td>\n",
              "      <td>0</td>\n",
              "      <td>0</td>\n",
              "      <td>0</td>\n",
              "      <td>0</td>\n",
              "      <td>1</td>\n",
              "      <td>0</td>\n",
              "      <td>0</td>\n",
              "    </tr>\n",
              "    <tr>\n",
              "      <th>2</th>\n",
              "      <td>94.5</td>\n",
              "      <td>171.2</td>\n",
              "      <td>65.5</td>\n",
              "      <td>52.4</td>\n",
              "      <td>2823</td>\n",
              "      <td>152</td>\n",
              "      <td>2.68</td>\n",
              "      <td>3.47</td>\n",
              "      <td>9.0</td>\n",
              "      <td>154</td>\n",
              "      <td>5000</td>\n",
              "      <td>19</td>\n",
              "      <td>26</td>\n",
              "      <td>16500.0</td>\n",
              "      <td>0</td>\n",
              "      <td>0</td>\n",
              "      <td>1</td>\n",
              "      <td>0</td>\n",
              "      <td>0</td>\n",
              "      <td>1</td>\n",
              "      <td>0</td>\n",
              "      <td>0</td>\n",
              "      <td>0</td>\n",
              "      <td>0</td>\n",
              "      <td>0</td>\n",
              "      <td>0</td>\n",
              "      <td>0</td>\n",
              "      <td>0</td>\n",
              "      <td>0</td>\n",
              "      <td>0</td>\n",
              "      <td>0</td>\n",
              "      <td>0</td>\n",
              "      <td>0</td>\n",
              "      <td>0</td>\n",
              "      <td>0</td>\n",
              "      <td>0</td>\n",
              "      <td>0</td>\n",
              "      <td>0</td>\n",
              "      <td>0</td>\n",
              "      <td>0</td>\n",
              "      <td>...</td>\n",
              "      <td>0</td>\n",
              "      <td>0</td>\n",
              "      <td>0</td>\n",
              "      <td>0</td>\n",
              "      <td>0</td>\n",
              "      <td>0</td>\n",
              "      <td>0</td>\n",
              "      <td>0</td>\n",
              "      <td>0</td>\n",
              "      <td>0</td>\n",
              "      <td>0</td>\n",
              "      <td>1</td>\n",
              "      <td>0</td>\n",
              "      <td>1</td>\n",
              "      <td>0</td>\n",
              "      <td>1</td>\n",
              "      <td>0</td>\n",
              "      <td>0</td>\n",
              "      <td>0</td>\n",
              "      <td>1</td>\n",
              "      <td>0</td>\n",
              "      <td>0</td>\n",
              "      <td>0</td>\n",
              "      <td>0</td>\n",
              "      <td>0</td>\n",
              "      <td>1</td>\n",
              "      <td>0</td>\n",
              "      <td>0</td>\n",
              "      <td>0</td>\n",
              "      <td>1</td>\n",
              "      <td>0</td>\n",
              "      <td>0</td>\n",
              "      <td>0</td>\n",
              "      <td>0</td>\n",
              "      <td>0</td>\n",
              "      <td>0</td>\n",
              "      <td>0</td>\n",
              "      <td>1</td>\n",
              "      <td>0</td>\n",
              "      <td>0</td>\n",
              "    </tr>\n",
              "    <tr>\n",
              "      <th>3</th>\n",
              "      <td>99.8</td>\n",
              "      <td>176.6</td>\n",
              "      <td>66.2</td>\n",
              "      <td>54.3</td>\n",
              "      <td>2337</td>\n",
              "      <td>109</td>\n",
              "      <td>3.19</td>\n",
              "      <td>3.40</td>\n",
              "      <td>10.0</td>\n",
              "      <td>102</td>\n",
              "      <td>5500</td>\n",
              "      <td>24</td>\n",
              "      <td>30</td>\n",
              "      <td>13950.0</td>\n",
              "      <td>0</td>\n",
              "      <td>0</td>\n",
              "      <td>0</td>\n",
              "      <td>1</td>\n",
              "      <td>0</td>\n",
              "      <td>0</td>\n",
              "      <td>0</td>\n",
              "      <td>0</td>\n",
              "      <td>1</td>\n",
              "      <td>0</td>\n",
              "      <td>0</td>\n",
              "      <td>0</td>\n",
              "      <td>0</td>\n",
              "      <td>0</td>\n",
              "      <td>0</td>\n",
              "      <td>0</td>\n",
              "      <td>0</td>\n",
              "      <td>0</td>\n",
              "      <td>0</td>\n",
              "      <td>0</td>\n",
              "      <td>0</td>\n",
              "      <td>0</td>\n",
              "      <td>0</td>\n",
              "      <td>0</td>\n",
              "      <td>0</td>\n",
              "      <td>0</td>\n",
              "      <td>...</td>\n",
              "      <td>0</td>\n",
              "      <td>0</td>\n",
              "      <td>0</td>\n",
              "      <td>0</td>\n",
              "      <td>0</td>\n",
              "      <td>0</td>\n",
              "      <td>0</td>\n",
              "      <td>0</td>\n",
              "      <td>0</td>\n",
              "      <td>0</td>\n",
              "      <td>0</td>\n",
              "      <td>1</td>\n",
              "      <td>0</td>\n",
              "      <td>0</td>\n",
              "      <td>0</td>\n",
              "      <td>0</td>\n",
              "      <td>1</td>\n",
              "      <td>0</td>\n",
              "      <td>1</td>\n",
              "      <td>0</td>\n",
              "      <td>0</td>\n",
              "      <td>0</td>\n",
              "      <td>0</td>\n",
              "      <td>1</td>\n",
              "      <td>0</td>\n",
              "      <td>0</td>\n",
              "      <td>0</td>\n",
              "      <td>0</td>\n",
              "      <td>1</td>\n",
              "      <td>0</td>\n",
              "      <td>0</td>\n",
              "      <td>0</td>\n",
              "      <td>0</td>\n",
              "      <td>0</td>\n",
              "      <td>0</td>\n",
              "      <td>0</td>\n",
              "      <td>0</td>\n",
              "      <td>1</td>\n",
              "      <td>0</td>\n",
              "      <td>0</td>\n",
              "    </tr>\n",
              "    <tr>\n",
              "      <th>4</th>\n",
              "      <td>99.4</td>\n",
              "      <td>176.6</td>\n",
              "      <td>66.4</td>\n",
              "      <td>54.3</td>\n",
              "      <td>2824</td>\n",
              "      <td>136</td>\n",
              "      <td>3.19</td>\n",
              "      <td>3.40</td>\n",
              "      <td>8.0</td>\n",
              "      <td>115</td>\n",
              "      <td>5500</td>\n",
              "      <td>18</td>\n",
              "      <td>22</td>\n",
              "      <td>17450.0</td>\n",
              "      <td>0</td>\n",
              "      <td>0</td>\n",
              "      <td>0</td>\n",
              "      <td>1</td>\n",
              "      <td>0</td>\n",
              "      <td>0</td>\n",
              "      <td>0</td>\n",
              "      <td>0</td>\n",
              "      <td>1</td>\n",
              "      <td>0</td>\n",
              "      <td>0</td>\n",
              "      <td>0</td>\n",
              "      <td>0</td>\n",
              "      <td>0</td>\n",
              "      <td>0</td>\n",
              "      <td>0</td>\n",
              "      <td>0</td>\n",
              "      <td>0</td>\n",
              "      <td>0</td>\n",
              "      <td>0</td>\n",
              "      <td>0</td>\n",
              "      <td>0</td>\n",
              "      <td>0</td>\n",
              "      <td>0</td>\n",
              "      <td>0</td>\n",
              "      <td>0</td>\n",
              "      <td>...</td>\n",
              "      <td>0</td>\n",
              "      <td>0</td>\n",
              "      <td>0</td>\n",
              "      <td>0</td>\n",
              "      <td>0</td>\n",
              "      <td>0</td>\n",
              "      <td>0</td>\n",
              "      <td>0</td>\n",
              "      <td>0</td>\n",
              "      <td>0</td>\n",
              "      <td>0</td>\n",
              "      <td>1</td>\n",
              "      <td>0</td>\n",
              "      <td>0</td>\n",
              "      <td>0</td>\n",
              "      <td>0</td>\n",
              "      <td>1</td>\n",
              "      <td>0</td>\n",
              "      <td>0</td>\n",
              "      <td>0</td>\n",
              "      <td>0</td>\n",
              "      <td>0</td>\n",
              "      <td>0</td>\n",
              "      <td>1</td>\n",
              "      <td>0</td>\n",
              "      <td>0</td>\n",
              "      <td>0</td>\n",
              "      <td>1</td>\n",
              "      <td>0</td>\n",
              "      <td>0</td>\n",
              "      <td>0</td>\n",
              "      <td>0</td>\n",
              "      <td>0</td>\n",
              "      <td>0</td>\n",
              "      <td>0</td>\n",
              "      <td>0</td>\n",
              "      <td>0</td>\n",
              "      <td>1</td>\n",
              "      <td>0</td>\n",
              "      <td>0</td>\n",
              "    </tr>\n",
              "  </tbody>\n",
              "</table>\n",
              "<p>5 rows × 193 columns</p>\n",
              "</div>"
            ],
            "text/plain": [
              "   wheelbase  carlength  ...  fuelsystem_spdi  fuelsystem_spfi\n",
              "0       88.6      168.8  ...                0                0\n",
              "1       88.6      168.8  ...                0                0\n",
              "2       94.5      171.2  ...                0                0\n",
              "3       99.8      176.6  ...                0                0\n",
              "4       99.4      176.6  ...                0                0\n",
              "\n",
              "[5 rows x 193 columns]"
            ]
          },
          "metadata": {
            "tags": []
          },
          "execution_count": 11
        }
      ]
    },
    {
      "cell_type": "code",
      "metadata": {
        "colab": {
          "base_uri": "https://localhost:8080/",
          "height": 380
        },
        "id": "m0ZpKiqU9Uxl",
        "outputId": "ab5d104d-8009-4c70-8f8c-a337e6ad97c4"
      },
      "source": [
        "final_car_data.describe()"
      ],
      "execution_count": 12,
      "outputs": [
        {
          "output_type": "execute_result",
          "data": {
            "text/html": [
              "<div>\n",
              "<style scoped>\n",
              "    .dataframe tbody tr th:only-of-type {\n",
              "        vertical-align: middle;\n",
              "    }\n",
              "\n",
              "    .dataframe tbody tr th {\n",
              "        vertical-align: top;\n",
              "    }\n",
              "\n",
              "    .dataframe thead th {\n",
              "        text-align: right;\n",
              "    }\n",
              "</style>\n",
              "<table border=\"1\" class=\"dataframe\">\n",
              "  <thead>\n",
              "    <tr style=\"text-align: right;\">\n",
              "      <th></th>\n",
              "      <th>wheelbase</th>\n",
              "      <th>carlength</th>\n",
              "      <th>carwidth</th>\n",
              "      <th>carheight</th>\n",
              "      <th>curbweight</th>\n",
              "      <th>enginesize</th>\n",
              "      <th>boreratio</th>\n",
              "      <th>stroke</th>\n",
              "      <th>compressionratio</th>\n",
              "      <th>horsepower</th>\n",
              "      <th>peakrpm</th>\n",
              "      <th>citympg</th>\n",
              "      <th>highwaympg</th>\n",
              "      <th>price</th>\n",
              "      <th>symboling_-1</th>\n",
              "      <th>symboling_0</th>\n",
              "      <th>symboling_1</th>\n",
              "      <th>symboling_2</th>\n",
              "      <th>symboling_3</th>\n",
              "      <th>CarName_alfa-romero Quadrifoglio</th>\n",
              "      <th>CarName_alfa-romero giulia</th>\n",
              "      <th>CarName_alfa-romero stelvio</th>\n",
              "      <th>CarName_audi 100ls</th>\n",
              "      <th>CarName_audi 4000</th>\n",
              "      <th>CarName_audi 5000</th>\n",
              "      <th>CarName_audi 5000s (diesel)</th>\n",
              "      <th>CarName_audi fox</th>\n",
              "      <th>CarName_bmw 320i</th>\n",
              "      <th>CarName_bmw x1</th>\n",
              "      <th>CarName_bmw x3</th>\n",
              "      <th>CarName_bmw x4</th>\n",
              "      <th>CarName_bmw x5</th>\n",
              "      <th>CarName_bmw z4</th>\n",
              "      <th>CarName_buick century</th>\n",
              "      <th>CarName_buick century luxus (sw)</th>\n",
              "      <th>CarName_buick century special</th>\n",
              "      <th>CarName_buick electra 225 custom</th>\n",
              "      <th>CarName_buick opel isuzu deluxe</th>\n",
              "      <th>CarName_buick regal sport coupe (turbo)</th>\n",
              "      <th>CarName_buick skyhawk</th>\n",
              "      <th>...</th>\n",
              "      <th>CarName_volkswagen super beetle</th>\n",
              "      <th>CarName_volkswagen type 3</th>\n",
              "      <th>CarName_volvo 144ea</th>\n",
              "      <th>CarName_volvo 145e (sw)</th>\n",
              "      <th>CarName_volvo 244dl</th>\n",
              "      <th>CarName_volvo 245</th>\n",
              "      <th>CarName_volvo 246</th>\n",
              "      <th>CarName_volvo 264gl</th>\n",
              "      <th>CarName_volvo diesel</th>\n",
              "      <th>CarName_vw dasher</th>\n",
              "      <th>CarName_vw rabbit</th>\n",
              "      <th>fueltype_gas</th>\n",
              "      <th>aspiration_turbo</th>\n",
              "      <th>doornumber_two</th>\n",
              "      <th>carbody_hardtop</th>\n",
              "      <th>carbody_hatchback</th>\n",
              "      <th>carbody_sedan</th>\n",
              "      <th>carbody_wagon</th>\n",
              "      <th>drivewheel_fwd</th>\n",
              "      <th>drivewheel_rwd</th>\n",
              "      <th>enginelocation_rear</th>\n",
              "      <th>enginetype_dohcv</th>\n",
              "      <th>enginetype_l</th>\n",
              "      <th>enginetype_ohc</th>\n",
              "      <th>enginetype_ohcf</th>\n",
              "      <th>enginetype_ohcv</th>\n",
              "      <th>enginetype_rotor</th>\n",
              "      <th>cylindernumber_five</th>\n",
              "      <th>cylindernumber_four</th>\n",
              "      <th>cylindernumber_six</th>\n",
              "      <th>cylindernumber_three</th>\n",
              "      <th>cylindernumber_twelve</th>\n",
              "      <th>cylindernumber_two</th>\n",
              "      <th>fuelsystem_2bbl</th>\n",
              "      <th>fuelsystem_4bbl</th>\n",
              "      <th>fuelsystem_idi</th>\n",
              "      <th>fuelsystem_mfi</th>\n",
              "      <th>fuelsystem_mpfi</th>\n",
              "      <th>fuelsystem_spdi</th>\n",
              "      <th>fuelsystem_spfi</th>\n",
              "    </tr>\n",
              "  </thead>\n",
              "  <tbody>\n",
              "    <tr>\n",
              "      <th>count</th>\n",
              "      <td>205.000000</td>\n",
              "      <td>205.000000</td>\n",
              "      <td>205.000000</td>\n",
              "      <td>205.000000</td>\n",
              "      <td>205.000000</td>\n",
              "      <td>205.000000</td>\n",
              "      <td>205.000000</td>\n",
              "      <td>205.000000</td>\n",
              "      <td>205.000000</td>\n",
              "      <td>205.000000</td>\n",
              "      <td>205.000000</td>\n",
              "      <td>205.000000</td>\n",
              "      <td>205.000000</td>\n",
              "      <td>205.000000</td>\n",
              "      <td>205.000000</td>\n",
              "      <td>205.000000</td>\n",
              "      <td>205.000000</td>\n",
              "      <td>205.000000</td>\n",
              "      <td>205.000000</td>\n",
              "      <td>205.000000</td>\n",
              "      <td>205.000000</td>\n",
              "      <td>205.000000</td>\n",
              "      <td>205.000000</td>\n",
              "      <td>205.000000</td>\n",
              "      <td>205.000000</td>\n",
              "      <td>205.000000</td>\n",
              "      <td>205.000000</td>\n",
              "      <td>205.000000</td>\n",
              "      <td>205.000000</td>\n",
              "      <td>205.000000</td>\n",
              "      <td>205.000000</td>\n",
              "      <td>205.000000</td>\n",
              "      <td>205.000000</td>\n",
              "      <td>205.000000</td>\n",
              "      <td>205.000000</td>\n",
              "      <td>205.000000</td>\n",
              "      <td>205.000000</td>\n",
              "      <td>205.000000</td>\n",
              "      <td>205.000000</td>\n",
              "      <td>205.000000</td>\n",
              "      <td>...</td>\n",
              "      <td>205.000000</td>\n",
              "      <td>205.000000</td>\n",
              "      <td>205.000000</td>\n",
              "      <td>205.000000</td>\n",
              "      <td>205.000000</td>\n",
              "      <td>205.000000</td>\n",
              "      <td>205.000000</td>\n",
              "      <td>205.000000</td>\n",
              "      <td>205.000000</td>\n",
              "      <td>205.000000</td>\n",
              "      <td>205.000000</td>\n",
              "      <td>205.000000</td>\n",
              "      <td>205.000000</td>\n",
              "      <td>205.000000</td>\n",
              "      <td>205.000000</td>\n",
              "      <td>205.000000</td>\n",
              "      <td>205.000000</td>\n",
              "      <td>205.000000</td>\n",
              "      <td>205.000000</td>\n",
              "      <td>205.000000</td>\n",
              "      <td>205.000000</td>\n",
              "      <td>205.000000</td>\n",
              "      <td>205.000000</td>\n",
              "      <td>205.000000</td>\n",
              "      <td>205.000000</td>\n",
              "      <td>205.000000</td>\n",
              "      <td>205.000000</td>\n",
              "      <td>205.000000</td>\n",
              "      <td>205.000000</td>\n",
              "      <td>205.000000</td>\n",
              "      <td>205.000000</td>\n",
              "      <td>205.000000</td>\n",
              "      <td>205.000000</td>\n",
              "      <td>205.000000</td>\n",
              "      <td>205.000000</td>\n",
              "      <td>205.000000</td>\n",
              "      <td>205.000000</td>\n",
              "      <td>205.000000</td>\n",
              "      <td>205.000000</td>\n",
              "      <td>205.000000</td>\n",
              "    </tr>\n",
              "    <tr>\n",
              "      <th>mean</th>\n",
              "      <td>98.756585</td>\n",
              "      <td>174.049268</td>\n",
              "      <td>65.907805</td>\n",
              "      <td>53.724878</td>\n",
              "      <td>2555.565854</td>\n",
              "      <td>126.907317</td>\n",
              "      <td>3.329756</td>\n",
              "      <td>3.255415</td>\n",
              "      <td>10.142537</td>\n",
              "      <td>104.117073</td>\n",
              "      <td>5125.121951</td>\n",
              "      <td>25.219512</td>\n",
              "      <td>30.751220</td>\n",
              "      <td>13276.710571</td>\n",
              "      <td>0.107317</td>\n",
              "      <td>0.326829</td>\n",
              "      <td>0.263415</td>\n",
              "      <td>0.156098</td>\n",
              "      <td>0.131707</td>\n",
              "      <td>0.004878</td>\n",
              "      <td>0.004878</td>\n",
              "      <td>0.004878</td>\n",
              "      <td>0.014634</td>\n",
              "      <td>0.004878</td>\n",
              "      <td>0.004878</td>\n",
              "      <td>0.004878</td>\n",
              "      <td>0.004878</td>\n",
              "      <td>0.009756</td>\n",
              "      <td>0.004878</td>\n",
              "      <td>0.009756</td>\n",
              "      <td>0.004878</td>\n",
              "      <td>0.004878</td>\n",
              "      <td>0.004878</td>\n",
              "      <td>0.004878</td>\n",
              "      <td>0.004878</td>\n",
              "      <td>0.004878</td>\n",
              "      <td>0.004878</td>\n",
              "      <td>0.004878</td>\n",
              "      <td>0.004878</td>\n",
              "      <td>0.004878</td>\n",
              "      <td>...</td>\n",
              "      <td>0.004878</td>\n",
              "      <td>0.004878</td>\n",
              "      <td>0.009756</td>\n",
              "      <td>0.009756</td>\n",
              "      <td>0.009756</td>\n",
              "      <td>0.004878</td>\n",
              "      <td>0.004878</td>\n",
              "      <td>0.009756</td>\n",
              "      <td>0.004878</td>\n",
              "      <td>0.004878</td>\n",
              "      <td>0.004878</td>\n",
              "      <td>0.902439</td>\n",
              "      <td>0.180488</td>\n",
              "      <td>0.439024</td>\n",
              "      <td>0.039024</td>\n",
              "      <td>0.341463</td>\n",
              "      <td>0.468293</td>\n",
              "      <td>0.121951</td>\n",
              "      <td>0.585366</td>\n",
              "      <td>0.370732</td>\n",
              "      <td>0.014634</td>\n",
              "      <td>0.004878</td>\n",
              "      <td>0.058537</td>\n",
              "      <td>0.721951</td>\n",
              "      <td>0.073171</td>\n",
              "      <td>0.063415</td>\n",
              "      <td>0.019512</td>\n",
              "      <td>0.053659</td>\n",
              "      <td>0.775610</td>\n",
              "      <td>0.117073</td>\n",
              "      <td>0.004878</td>\n",
              "      <td>0.004878</td>\n",
              "      <td>0.019512</td>\n",
              "      <td>0.321951</td>\n",
              "      <td>0.014634</td>\n",
              "      <td>0.097561</td>\n",
              "      <td>0.004878</td>\n",
              "      <td>0.458537</td>\n",
              "      <td>0.043902</td>\n",
              "      <td>0.004878</td>\n",
              "    </tr>\n",
              "    <tr>\n",
              "      <th>std</th>\n",
              "      <td>6.021776</td>\n",
              "      <td>12.337289</td>\n",
              "      <td>2.145204</td>\n",
              "      <td>2.443522</td>\n",
              "      <td>520.680204</td>\n",
              "      <td>41.642693</td>\n",
              "      <td>0.270844</td>\n",
              "      <td>0.313597</td>\n",
              "      <td>3.972040</td>\n",
              "      <td>39.544167</td>\n",
              "      <td>476.985643</td>\n",
              "      <td>6.542142</td>\n",
              "      <td>6.886443</td>\n",
              "      <td>7988.852332</td>\n",
              "      <td>0.310274</td>\n",
              "      <td>0.470202</td>\n",
              "      <td>0.441564</td>\n",
              "      <td>0.363836</td>\n",
              "      <td>0.339000</td>\n",
              "      <td>0.069843</td>\n",
              "      <td>0.069843</td>\n",
              "      <td>0.069843</td>\n",
              "      <td>0.120377</td>\n",
              "      <td>0.069843</td>\n",
              "      <td>0.069843</td>\n",
              "      <td>0.069843</td>\n",
              "      <td>0.069843</td>\n",
              "      <td>0.098531</td>\n",
              "      <td>0.069843</td>\n",
              "      <td>0.098531</td>\n",
              "      <td>0.069843</td>\n",
              "      <td>0.069843</td>\n",
              "      <td>0.069843</td>\n",
              "      <td>0.069843</td>\n",
              "      <td>0.069843</td>\n",
              "      <td>0.069843</td>\n",
              "      <td>0.069843</td>\n",
              "      <td>0.069843</td>\n",
              "      <td>0.069843</td>\n",
              "      <td>0.069843</td>\n",
              "      <td>...</td>\n",
              "      <td>0.069843</td>\n",
              "      <td>0.069843</td>\n",
              "      <td>0.098531</td>\n",
              "      <td>0.098531</td>\n",
              "      <td>0.098531</td>\n",
              "      <td>0.069843</td>\n",
              "      <td>0.069843</td>\n",
              "      <td>0.098531</td>\n",
              "      <td>0.069843</td>\n",
              "      <td>0.069843</td>\n",
              "      <td>0.069843</td>\n",
              "      <td>0.297446</td>\n",
              "      <td>0.385535</td>\n",
              "      <td>0.497483</td>\n",
              "      <td>0.194127</td>\n",
              "      <td>0.475361</td>\n",
              "      <td>0.500215</td>\n",
              "      <td>0.328031</td>\n",
              "      <td>0.493865</td>\n",
              "      <td>0.484183</td>\n",
              "      <td>0.120377</td>\n",
              "      <td>0.069843</td>\n",
              "      <td>0.235330</td>\n",
              "      <td>0.449134</td>\n",
              "      <td>0.261054</td>\n",
              "      <td>0.244304</td>\n",
              "      <td>0.138655</td>\n",
              "      <td>0.225894</td>\n",
              "      <td>0.418201</td>\n",
              "      <td>0.322294</td>\n",
              "      <td>0.069843</td>\n",
              "      <td>0.069843</td>\n",
              "      <td>0.138655</td>\n",
              "      <td>0.468368</td>\n",
              "      <td>0.120377</td>\n",
              "      <td>0.297446</td>\n",
              "      <td>0.069843</td>\n",
              "      <td>0.499498</td>\n",
              "      <td>0.205380</td>\n",
              "      <td>0.069843</td>\n",
              "    </tr>\n",
              "    <tr>\n",
              "      <th>min</th>\n",
              "      <td>86.600000</td>\n",
              "      <td>141.100000</td>\n",
              "      <td>60.300000</td>\n",
              "      <td>47.800000</td>\n",
              "      <td>1488.000000</td>\n",
              "      <td>61.000000</td>\n",
              "      <td>2.540000</td>\n",
              "      <td>2.070000</td>\n",
              "      <td>7.000000</td>\n",
              "      <td>48.000000</td>\n",
              "      <td>4150.000000</td>\n",
              "      <td>13.000000</td>\n",
              "      <td>16.000000</td>\n",
              "      <td>5118.000000</td>\n",
              "      <td>0.000000</td>\n",
              "      <td>0.000000</td>\n",
              "      <td>0.000000</td>\n",
              "      <td>0.000000</td>\n",
              "      <td>0.000000</td>\n",
              "      <td>0.000000</td>\n",
              "      <td>0.000000</td>\n",
              "      <td>0.000000</td>\n",
              "      <td>0.000000</td>\n",
              "      <td>0.000000</td>\n",
              "      <td>0.000000</td>\n",
              "      <td>0.000000</td>\n",
              "      <td>0.000000</td>\n",
              "      <td>0.000000</td>\n",
              "      <td>0.000000</td>\n",
              "      <td>0.000000</td>\n",
              "      <td>0.000000</td>\n",
              "      <td>0.000000</td>\n",
              "      <td>0.000000</td>\n",
              "      <td>0.000000</td>\n",
              "      <td>0.000000</td>\n",
              "      <td>0.000000</td>\n",
              "      <td>0.000000</td>\n",
              "      <td>0.000000</td>\n",
              "      <td>0.000000</td>\n",
              "      <td>0.000000</td>\n",
              "      <td>...</td>\n",
              "      <td>0.000000</td>\n",
              "      <td>0.000000</td>\n",
              "      <td>0.000000</td>\n",
              "      <td>0.000000</td>\n",
              "      <td>0.000000</td>\n",
              "      <td>0.000000</td>\n",
              "      <td>0.000000</td>\n",
              "      <td>0.000000</td>\n",
              "      <td>0.000000</td>\n",
              "      <td>0.000000</td>\n",
              "      <td>0.000000</td>\n",
              "      <td>0.000000</td>\n",
              "      <td>0.000000</td>\n",
              "      <td>0.000000</td>\n",
              "      <td>0.000000</td>\n",
              "      <td>0.000000</td>\n",
              "      <td>0.000000</td>\n",
              "      <td>0.000000</td>\n",
              "      <td>0.000000</td>\n",
              "      <td>0.000000</td>\n",
              "      <td>0.000000</td>\n",
              "      <td>0.000000</td>\n",
              "      <td>0.000000</td>\n",
              "      <td>0.000000</td>\n",
              "      <td>0.000000</td>\n",
              "      <td>0.000000</td>\n",
              "      <td>0.000000</td>\n",
              "      <td>0.000000</td>\n",
              "      <td>0.000000</td>\n",
              "      <td>0.000000</td>\n",
              "      <td>0.000000</td>\n",
              "      <td>0.000000</td>\n",
              "      <td>0.000000</td>\n",
              "      <td>0.000000</td>\n",
              "      <td>0.000000</td>\n",
              "      <td>0.000000</td>\n",
              "      <td>0.000000</td>\n",
              "      <td>0.000000</td>\n",
              "      <td>0.000000</td>\n",
              "      <td>0.000000</td>\n",
              "    </tr>\n",
              "    <tr>\n",
              "      <th>25%</th>\n",
              "      <td>94.500000</td>\n",
              "      <td>166.300000</td>\n",
              "      <td>64.100000</td>\n",
              "      <td>52.000000</td>\n",
              "      <td>2145.000000</td>\n",
              "      <td>97.000000</td>\n",
              "      <td>3.150000</td>\n",
              "      <td>3.110000</td>\n",
              "      <td>8.600000</td>\n",
              "      <td>70.000000</td>\n",
              "      <td>4800.000000</td>\n",
              "      <td>19.000000</td>\n",
              "      <td>25.000000</td>\n",
              "      <td>7788.000000</td>\n",
              "      <td>0.000000</td>\n",
              "      <td>0.000000</td>\n",
              "      <td>0.000000</td>\n",
              "      <td>0.000000</td>\n",
              "      <td>0.000000</td>\n",
              "      <td>0.000000</td>\n",
              "      <td>0.000000</td>\n",
              "      <td>0.000000</td>\n",
              "      <td>0.000000</td>\n",
              "      <td>0.000000</td>\n",
              "      <td>0.000000</td>\n",
              "      <td>0.000000</td>\n",
              "      <td>0.000000</td>\n",
              "      <td>0.000000</td>\n",
              "      <td>0.000000</td>\n",
              "      <td>0.000000</td>\n",
              "      <td>0.000000</td>\n",
              "      <td>0.000000</td>\n",
              "      <td>0.000000</td>\n",
              "      <td>0.000000</td>\n",
              "      <td>0.000000</td>\n",
              "      <td>0.000000</td>\n",
              "      <td>0.000000</td>\n",
              "      <td>0.000000</td>\n",
              "      <td>0.000000</td>\n",
              "      <td>0.000000</td>\n",
              "      <td>...</td>\n",
              "      <td>0.000000</td>\n",
              "      <td>0.000000</td>\n",
              "      <td>0.000000</td>\n",
              "      <td>0.000000</td>\n",
              "      <td>0.000000</td>\n",
              "      <td>0.000000</td>\n",
              "      <td>0.000000</td>\n",
              "      <td>0.000000</td>\n",
              "      <td>0.000000</td>\n",
              "      <td>0.000000</td>\n",
              "      <td>0.000000</td>\n",
              "      <td>1.000000</td>\n",
              "      <td>0.000000</td>\n",
              "      <td>0.000000</td>\n",
              "      <td>0.000000</td>\n",
              "      <td>0.000000</td>\n",
              "      <td>0.000000</td>\n",
              "      <td>0.000000</td>\n",
              "      <td>0.000000</td>\n",
              "      <td>0.000000</td>\n",
              "      <td>0.000000</td>\n",
              "      <td>0.000000</td>\n",
              "      <td>0.000000</td>\n",
              "      <td>0.000000</td>\n",
              "      <td>0.000000</td>\n",
              "      <td>0.000000</td>\n",
              "      <td>0.000000</td>\n",
              "      <td>0.000000</td>\n",
              "      <td>1.000000</td>\n",
              "      <td>0.000000</td>\n",
              "      <td>0.000000</td>\n",
              "      <td>0.000000</td>\n",
              "      <td>0.000000</td>\n",
              "      <td>0.000000</td>\n",
              "      <td>0.000000</td>\n",
              "      <td>0.000000</td>\n",
              "      <td>0.000000</td>\n",
              "      <td>0.000000</td>\n",
              "      <td>0.000000</td>\n",
              "      <td>0.000000</td>\n",
              "    </tr>\n",
              "    <tr>\n",
              "      <th>50%</th>\n",
              "      <td>97.000000</td>\n",
              "      <td>173.200000</td>\n",
              "      <td>65.500000</td>\n",
              "      <td>54.100000</td>\n",
              "      <td>2414.000000</td>\n",
              "      <td>120.000000</td>\n",
              "      <td>3.310000</td>\n",
              "      <td>3.290000</td>\n",
              "      <td>9.000000</td>\n",
              "      <td>95.000000</td>\n",
              "      <td>5200.000000</td>\n",
              "      <td>24.000000</td>\n",
              "      <td>30.000000</td>\n",
              "      <td>10295.000000</td>\n",
              "      <td>0.000000</td>\n",
              "      <td>0.000000</td>\n",
              "      <td>0.000000</td>\n",
              "      <td>0.000000</td>\n",
              "      <td>0.000000</td>\n",
              "      <td>0.000000</td>\n",
              "      <td>0.000000</td>\n",
              "      <td>0.000000</td>\n",
              "      <td>0.000000</td>\n",
              "      <td>0.000000</td>\n",
              "      <td>0.000000</td>\n",
              "      <td>0.000000</td>\n",
              "      <td>0.000000</td>\n",
              "      <td>0.000000</td>\n",
              "      <td>0.000000</td>\n",
              "      <td>0.000000</td>\n",
              "      <td>0.000000</td>\n",
              "      <td>0.000000</td>\n",
              "      <td>0.000000</td>\n",
              "      <td>0.000000</td>\n",
              "      <td>0.000000</td>\n",
              "      <td>0.000000</td>\n",
              "      <td>0.000000</td>\n",
              "      <td>0.000000</td>\n",
              "      <td>0.000000</td>\n",
              "      <td>0.000000</td>\n",
              "      <td>...</td>\n",
              "      <td>0.000000</td>\n",
              "      <td>0.000000</td>\n",
              "      <td>0.000000</td>\n",
              "      <td>0.000000</td>\n",
              "      <td>0.000000</td>\n",
              "      <td>0.000000</td>\n",
              "      <td>0.000000</td>\n",
              "      <td>0.000000</td>\n",
              "      <td>0.000000</td>\n",
              "      <td>0.000000</td>\n",
              "      <td>0.000000</td>\n",
              "      <td>1.000000</td>\n",
              "      <td>0.000000</td>\n",
              "      <td>0.000000</td>\n",
              "      <td>0.000000</td>\n",
              "      <td>0.000000</td>\n",
              "      <td>0.000000</td>\n",
              "      <td>0.000000</td>\n",
              "      <td>1.000000</td>\n",
              "      <td>0.000000</td>\n",
              "      <td>0.000000</td>\n",
              "      <td>0.000000</td>\n",
              "      <td>0.000000</td>\n",
              "      <td>1.000000</td>\n",
              "      <td>0.000000</td>\n",
              "      <td>0.000000</td>\n",
              "      <td>0.000000</td>\n",
              "      <td>0.000000</td>\n",
              "      <td>1.000000</td>\n",
              "      <td>0.000000</td>\n",
              "      <td>0.000000</td>\n",
              "      <td>0.000000</td>\n",
              "      <td>0.000000</td>\n",
              "      <td>0.000000</td>\n",
              "      <td>0.000000</td>\n",
              "      <td>0.000000</td>\n",
              "      <td>0.000000</td>\n",
              "      <td>0.000000</td>\n",
              "      <td>0.000000</td>\n",
              "      <td>0.000000</td>\n",
              "    </tr>\n",
              "    <tr>\n",
              "      <th>75%</th>\n",
              "      <td>102.400000</td>\n",
              "      <td>183.100000</td>\n",
              "      <td>66.900000</td>\n",
              "      <td>55.500000</td>\n",
              "      <td>2935.000000</td>\n",
              "      <td>141.000000</td>\n",
              "      <td>3.580000</td>\n",
              "      <td>3.410000</td>\n",
              "      <td>9.400000</td>\n",
              "      <td>116.000000</td>\n",
              "      <td>5500.000000</td>\n",
              "      <td>30.000000</td>\n",
              "      <td>34.000000</td>\n",
              "      <td>16503.000000</td>\n",
              "      <td>0.000000</td>\n",
              "      <td>1.000000</td>\n",
              "      <td>1.000000</td>\n",
              "      <td>0.000000</td>\n",
              "      <td>0.000000</td>\n",
              "      <td>0.000000</td>\n",
              "      <td>0.000000</td>\n",
              "      <td>0.000000</td>\n",
              "      <td>0.000000</td>\n",
              "      <td>0.000000</td>\n",
              "      <td>0.000000</td>\n",
              "      <td>0.000000</td>\n",
              "      <td>0.000000</td>\n",
              "      <td>0.000000</td>\n",
              "      <td>0.000000</td>\n",
              "      <td>0.000000</td>\n",
              "      <td>0.000000</td>\n",
              "      <td>0.000000</td>\n",
              "      <td>0.000000</td>\n",
              "      <td>0.000000</td>\n",
              "      <td>0.000000</td>\n",
              "      <td>0.000000</td>\n",
              "      <td>0.000000</td>\n",
              "      <td>0.000000</td>\n",
              "      <td>0.000000</td>\n",
              "      <td>0.000000</td>\n",
              "      <td>...</td>\n",
              "      <td>0.000000</td>\n",
              "      <td>0.000000</td>\n",
              "      <td>0.000000</td>\n",
              "      <td>0.000000</td>\n",
              "      <td>0.000000</td>\n",
              "      <td>0.000000</td>\n",
              "      <td>0.000000</td>\n",
              "      <td>0.000000</td>\n",
              "      <td>0.000000</td>\n",
              "      <td>0.000000</td>\n",
              "      <td>0.000000</td>\n",
              "      <td>1.000000</td>\n",
              "      <td>0.000000</td>\n",
              "      <td>1.000000</td>\n",
              "      <td>0.000000</td>\n",
              "      <td>1.000000</td>\n",
              "      <td>1.000000</td>\n",
              "      <td>0.000000</td>\n",
              "      <td>1.000000</td>\n",
              "      <td>1.000000</td>\n",
              "      <td>0.000000</td>\n",
              "      <td>0.000000</td>\n",
              "      <td>0.000000</td>\n",
              "      <td>1.000000</td>\n",
              "      <td>0.000000</td>\n",
              "      <td>0.000000</td>\n",
              "      <td>0.000000</td>\n",
              "      <td>0.000000</td>\n",
              "      <td>1.000000</td>\n",
              "      <td>0.000000</td>\n",
              "      <td>0.000000</td>\n",
              "      <td>0.000000</td>\n",
              "      <td>0.000000</td>\n",
              "      <td>1.000000</td>\n",
              "      <td>0.000000</td>\n",
              "      <td>0.000000</td>\n",
              "      <td>0.000000</td>\n",
              "      <td>1.000000</td>\n",
              "      <td>0.000000</td>\n",
              "      <td>0.000000</td>\n",
              "    </tr>\n",
              "    <tr>\n",
              "      <th>max</th>\n",
              "      <td>120.900000</td>\n",
              "      <td>208.100000</td>\n",
              "      <td>72.300000</td>\n",
              "      <td>59.800000</td>\n",
              "      <td>4066.000000</td>\n",
              "      <td>326.000000</td>\n",
              "      <td>3.940000</td>\n",
              "      <td>4.170000</td>\n",
              "      <td>23.000000</td>\n",
              "      <td>288.000000</td>\n",
              "      <td>6600.000000</td>\n",
              "      <td>49.000000</td>\n",
              "      <td>54.000000</td>\n",
              "      <td>45400.000000</td>\n",
              "      <td>1.000000</td>\n",
              "      <td>1.000000</td>\n",
              "      <td>1.000000</td>\n",
              "      <td>1.000000</td>\n",
              "      <td>1.000000</td>\n",
              "      <td>1.000000</td>\n",
              "      <td>1.000000</td>\n",
              "      <td>1.000000</td>\n",
              "      <td>1.000000</td>\n",
              "      <td>1.000000</td>\n",
              "      <td>1.000000</td>\n",
              "      <td>1.000000</td>\n",
              "      <td>1.000000</td>\n",
              "      <td>1.000000</td>\n",
              "      <td>1.000000</td>\n",
              "      <td>1.000000</td>\n",
              "      <td>1.000000</td>\n",
              "      <td>1.000000</td>\n",
              "      <td>1.000000</td>\n",
              "      <td>1.000000</td>\n",
              "      <td>1.000000</td>\n",
              "      <td>1.000000</td>\n",
              "      <td>1.000000</td>\n",
              "      <td>1.000000</td>\n",
              "      <td>1.000000</td>\n",
              "      <td>1.000000</td>\n",
              "      <td>...</td>\n",
              "      <td>1.000000</td>\n",
              "      <td>1.000000</td>\n",
              "      <td>1.000000</td>\n",
              "      <td>1.000000</td>\n",
              "      <td>1.000000</td>\n",
              "      <td>1.000000</td>\n",
              "      <td>1.000000</td>\n",
              "      <td>1.000000</td>\n",
              "      <td>1.000000</td>\n",
              "      <td>1.000000</td>\n",
              "      <td>1.000000</td>\n",
              "      <td>1.000000</td>\n",
              "      <td>1.000000</td>\n",
              "      <td>1.000000</td>\n",
              "      <td>1.000000</td>\n",
              "      <td>1.000000</td>\n",
              "      <td>1.000000</td>\n",
              "      <td>1.000000</td>\n",
              "      <td>1.000000</td>\n",
              "      <td>1.000000</td>\n",
              "      <td>1.000000</td>\n",
              "      <td>1.000000</td>\n",
              "      <td>1.000000</td>\n",
              "      <td>1.000000</td>\n",
              "      <td>1.000000</td>\n",
              "      <td>1.000000</td>\n",
              "      <td>1.000000</td>\n",
              "      <td>1.000000</td>\n",
              "      <td>1.000000</td>\n",
              "      <td>1.000000</td>\n",
              "      <td>1.000000</td>\n",
              "      <td>1.000000</td>\n",
              "      <td>1.000000</td>\n",
              "      <td>1.000000</td>\n",
              "      <td>1.000000</td>\n",
              "      <td>1.000000</td>\n",
              "      <td>1.000000</td>\n",
              "      <td>1.000000</td>\n",
              "      <td>1.000000</td>\n",
              "      <td>1.000000</td>\n",
              "    </tr>\n",
              "  </tbody>\n",
              "</table>\n",
              "<p>8 rows × 193 columns</p>\n",
              "</div>"
            ],
            "text/plain": [
              "        wheelbase   carlength  ...  fuelsystem_spdi  fuelsystem_spfi\n",
              "count  205.000000  205.000000  ...       205.000000       205.000000\n",
              "mean    98.756585  174.049268  ...         0.043902         0.004878\n",
              "std      6.021776   12.337289  ...         0.205380         0.069843\n",
              "min     86.600000  141.100000  ...         0.000000         0.000000\n",
              "25%     94.500000  166.300000  ...         0.000000         0.000000\n",
              "50%     97.000000  173.200000  ...         0.000000         0.000000\n",
              "75%    102.400000  183.100000  ...         0.000000         0.000000\n",
              "max    120.900000  208.100000  ...         1.000000         1.000000\n",
              "\n",
              "[8 rows x 193 columns]"
            ]
          },
          "metadata": {
            "tags": []
          },
          "execution_count": 12
        }
      ]
    },
    {
      "cell_type": "markdown",
      "metadata": {
        "id": "eLICFZhVfPNg"
      },
      "source": [
        "## **3.Split into 50% Training(Samples,Labels) , 30% Test(Samples,Labels) and 20% Validation Data(Samples,Labels).**"
      ]
    },
    {
      "cell_type": "code",
      "metadata": {
        "id": "SAwMpqgB9oL9"
      },
      "source": [
        "np.random.seed(11111)\n",
        "mask = np.random.rand(len(final_car_data)) < 0.75\n",
        "train_data = final_car_data[mask]\n",
        "test_data = final_car_data[~mask]"
      ],
      "execution_count": 13,
      "outputs": []
    },
    {
      "cell_type": "code",
      "metadata": {
        "id": "gNGZd8pqAISr",
        "colab": {
          "base_uri": "https://localhost:8080/"
        },
        "outputId": "bfa26341-6c35-4e28-f1c8-11deadfac32d"
      },
      "source": [
        "print(len(train_data))\n",
        "print(len(test_data))"
      ],
      "execution_count": 14,
      "outputs": [
        {
          "output_type": "stream",
          "text": [
            "149\n",
            "56\n"
          ],
          "name": "stdout"
        }
      ]
    },
    {
      "cell_type": "code",
      "metadata": {
        "colab": {
          "base_uri": "https://localhost:8080/"
        },
        "id": "X5yNGd8tLsaQ",
        "outputId": "4589d44e-cf7d-4cec-e00b-7f02450005c1"
      },
      "source": [
        "train_data.dtypes"
      ],
      "execution_count": 15,
      "outputs": [
        {
          "output_type": "execute_result",
          "data": {
            "text/plain": [
              "wheelbase          float64\n",
              "carlength          float64\n",
              "carwidth           float64\n",
              "carheight          float64\n",
              "curbweight           int64\n",
              "                    ...   \n",
              "fuelsystem_idi       uint8\n",
              "fuelsystem_mfi       uint8\n",
              "fuelsystem_mpfi      uint8\n",
              "fuelsystem_spdi      uint8\n",
              "fuelsystem_spfi      uint8\n",
              "Length: 193, dtype: object"
            ]
          },
          "metadata": {
            "tags": []
          },
          "execution_count": 15
        }
      ]
    },
    {
      "cell_type": "code",
      "metadata": {
        "id": "mpdcJAB3MicC"
      },
      "source": [
        "train_label = train_data.loc[:,'price']\n",
        "test_label = test_data.loc[:,'price']"
      ],
      "execution_count": 16,
      "outputs": []
    },
    {
      "cell_type": "code",
      "metadata": {
        "colab": {
          "base_uri": "https://localhost:8080/"
        },
        "id": "3J30UOUZNXVF",
        "outputId": "99d6758c-04fe-4758-8d64-47f36e820032"
      },
      "source": [
        "train_label"
      ],
      "execution_count": 17,
      "outputs": [
        {
          "output_type": "execute_result",
          "data": {
            "text/plain": [
              "1      16500.0\n",
              "2      16500.0\n",
              "3      13950.0\n",
              "4      17450.0\n",
              "5      15250.0\n",
              "        ...   \n",
              "200    16845.0\n",
              "201    19045.0\n",
              "202    21485.0\n",
              "203    22470.0\n",
              "204    22625.0\n",
              "Name: price, Length: 149, dtype: float64"
            ]
          },
          "metadata": {
            "tags": []
          },
          "execution_count": 17
        }
      ]
    },
    {
      "cell_type": "code",
      "metadata": {
        "id": "IDKDMbtVNabJ"
      },
      "source": [
        "train_data = train_data.drop(columns=['price'])\n",
        "test_data = test_data.drop(columns=['price'])"
      ],
      "execution_count": 18,
      "outputs": []
    },
    {
      "cell_type": "code",
      "metadata": {
        "colab": {
          "base_uri": "https://localhost:8080/"
        },
        "id": "bjLXlDDCPZCp",
        "outputId": "f765d908-f5ee-4c64-8093-11922490d918"
      },
      "source": [
        "train_data.shape"
      ],
      "execution_count": 19,
      "outputs": [
        {
          "output_type": "execute_result",
          "data": {
            "text/plain": [
              "(149, 192)"
            ]
          },
          "metadata": {
            "tags": []
          },
          "execution_count": 19
        }
      ]
    },
    {
      "cell_type": "code",
      "metadata": {
        "colab": {
          "base_uri": "https://localhost:8080/"
        },
        "id": "otXgY-kcRBq2",
        "outputId": "dbb164e5-7cbc-408b-bc6c-1a508d67f665"
      },
      "source": [
        "{train_data.columns.get_loc(c): c for idx, c in enumerate(train_data.columns)}"
      ],
      "execution_count": 20,
      "outputs": [
        {
          "output_type": "execute_result",
          "data": {
            "text/plain": [
              "{0: 'wheelbase',\n",
              " 1: 'carlength',\n",
              " 2: 'carwidth',\n",
              " 3: 'carheight',\n",
              " 4: 'curbweight',\n",
              " 5: 'enginesize',\n",
              " 6: 'boreratio',\n",
              " 7: 'stroke',\n",
              " 8: 'compressionratio',\n",
              " 9: 'horsepower',\n",
              " 10: 'peakrpm',\n",
              " 11: 'citympg',\n",
              " 12: 'highwaympg',\n",
              " 13: 'symboling_-1',\n",
              " 14: 'symboling_0',\n",
              " 15: 'symboling_1',\n",
              " 16: 'symboling_2',\n",
              " 17: 'symboling_3',\n",
              " 18: 'CarName_alfa-romero Quadrifoglio',\n",
              " 19: 'CarName_alfa-romero giulia',\n",
              " 20: 'CarName_alfa-romero stelvio',\n",
              " 21: 'CarName_audi 100ls',\n",
              " 22: 'CarName_audi 4000',\n",
              " 23: 'CarName_audi 5000',\n",
              " 24: 'CarName_audi 5000s (diesel)',\n",
              " 25: 'CarName_audi fox',\n",
              " 26: 'CarName_bmw 320i',\n",
              " 27: 'CarName_bmw x1',\n",
              " 28: 'CarName_bmw x3',\n",
              " 29: 'CarName_bmw x4',\n",
              " 30: 'CarName_bmw x5',\n",
              " 31: 'CarName_bmw z4',\n",
              " 32: 'CarName_buick century',\n",
              " 33: 'CarName_buick century luxus (sw)',\n",
              " 34: 'CarName_buick century special',\n",
              " 35: 'CarName_buick electra 225 custom',\n",
              " 36: 'CarName_buick opel isuzu deluxe',\n",
              " 37: 'CarName_buick regal sport coupe (turbo)',\n",
              " 38: 'CarName_buick skyhawk',\n",
              " 39: 'CarName_buick skylark',\n",
              " 40: 'CarName_chevrolet impala',\n",
              " 41: 'CarName_chevrolet monte carlo',\n",
              " 42: 'CarName_chevrolet vega 2300',\n",
              " 43: 'CarName_dodge challenger se',\n",
              " 44: 'CarName_dodge colt (sw)',\n",
              " 45: 'CarName_dodge colt hardtop',\n",
              " 46: 'CarName_dodge coronet custom',\n",
              " 47: 'CarName_dodge coronet custom (sw)',\n",
              " 48: 'CarName_dodge d200',\n",
              " 49: 'CarName_dodge dart custom',\n",
              " 50: 'CarName_dodge monaco (sw)',\n",
              " 51: 'CarName_dodge rampage',\n",
              " 52: 'CarName_honda accord',\n",
              " 53: 'CarName_honda accord cvcc',\n",
              " 54: 'CarName_honda accord lx',\n",
              " 55: 'CarName_honda civic',\n",
              " 56: 'CarName_honda civic (auto)',\n",
              " 57: 'CarName_honda civic 1300',\n",
              " 58: 'CarName_honda civic 1500 gl',\n",
              " 59: 'CarName_honda civic cvcc',\n",
              " 60: 'CarName_honda prelude',\n",
              " 61: 'CarName_isuzu D-Max ',\n",
              " 62: 'CarName_isuzu D-Max V-Cross',\n",
              " 63: 'CarName_isuzu MU-X',\n",
              " 64: 'CarName_jaguar xf',\n",
              " 65: 'CarName_jaguar xj',\n",
              " 66: 'CarName_jaguar xk',\n",
              " 67: 'CarName_maxda glc deluxe',\n",
              " 68: 'CarName_maxda rx3',\n",
              " 69: 'CarName_mazda 626',\n",
              " 70: 'CarName_mazda glc',\n",
              " 71: 'CarName_mazda glc 4',\n",
              " 72: 'CarName_mazda glc custom',\n",
              " 73: 'CarName_mazda glc custom l',\n",
              " 74: 'CarName_mazda glc deluxe',\n",
              " 75: 'CarName_mazda rx-4',\n",
              " 76: 'CarName_mazda rx-7 gs',\n",
              " 77: 'CarName_mazda rx2 coupe',\n",
              " 78: 'CarName_mercury cougar',\n",
              " 79: 'CarName_mitsubishi g4',\n",
              " 80: 'CarName_mitsubishi lancer',\n",
              " 81: 'CarName_mitsubishi mirage',\n",
              " 82: 'CarName_mitsubishi mirage g4',\n",
              " 83: 'CarName_mitsubishi montero',\n",
              " 84: 'CarName_mitsubishi outlander',\n",
              " 85: 'CarName_mitsubishi pajero',\n",
              " 86: 'CarName_nissan clipper',\n",
              " 87: 'CarName_nissan dayz',\n",
              " 88: 'CarName_nissan fuga',\n",
              " 89: 'CarName_nissan gt-r',\n",
              " 90: 'CarName_nissan juke',\n",
              " 91: 'CarName_nissan kicks',\n",
              " 92: 'CarName_nissan latio',\n",
              " 93: 'CarName_nissan leaf',\n",
              " 94: 'CarName_nissan note',\n",
              " 95: 'CarName_nissan nv200',\n",
              " 96: 'CarName_nissan otti',\n",
              " 97: 'CarName_nissan rogue',\n",
              " 98: 'CarName_nissan teana',\n",
              " 99: 'CarName_nissan titan',\n",
              " 100: 'CarName_peugeot 304',\n",
              " 101: 'CarName_peugeot 504',\n",
              " 102: 'CarName_peugeot 504 (sw)',\n",
              " 103: 'CarName_peugeot 505s turbo diesel',\n",
              " 104: 'CarName_peugeot 604sl',\n",
              " 105: 'CarName_plymouth cricket',\n",
              " 106: 'CarName_plymouth duster',\n",
              " 107: 'CarName_plymouth fury gran sedan',\n",
              " 108: 'CarName_plymouth fury iii',\n",
              " 109: 'CarName_plymouth satellite custom (sw)',\n",
              " 110: 'CarName_plymouth valiant',\n",
              " 111: 'CarName_porcshce panamera',\n",
              " 112: 'CarName_porsche boxter',\n",
              " 113: 'CarName_porsche cayenne',\n",
              " 114: 'CarName_porsche macan',\n",
              " 115: 'CarName_renault 12tl',\n",
              " 116: 'CarName_renault 5 gtl',\n",
              " 117: 'CarName_saab 99e',\n",
              " 118: 'CarName_saab 99gle',\n",
              " 119: 'CarName_saab 99le',\n",
              " 120: 'CarName_subaru',\n",
              " 121: 'CarName_subaru baja',\n",
              " 122: 'CarName_subaru brz',\n",
              " 123: 'CarName_subaru dl',\n",
              " 124: 'CarName_subaru r1',\n",
              " 125: 'CarName_subaru r2',\n",
              " 126: 'CarName_subaru trezia',\n",
              " 127: 'CarName_subaru tribeca',\n",
              " 128: 'CarName_toyota carina',\n",
              " 129: 'CarName_toyota celica gt',\n",
              " 130: 'CarName_toyota celica gt liftback',\n",
              " 131: 'CarName_toyota corolla',\n",
              " 132: 'CarName_toyota corolla 1200',\n",
              " 133: 'CarName_toyota corolla 1600 (sw)',\n",
              " 134: 'CarName_toyota corolla liftback',\n",
              " 135: 'CarName_toyota corolla tercel',\n",
              " 136: 'CarName_toyota corona',\n",
              " 137: 'CarName_toyota corona hardtop',\n",
              " 138: 'CarName_toyota corona liftback',\n",
              " 139: 'CarName_toyota corona mark ii',\n",
              " 140: 'CarName_toyota cressida',\n",
              " 141: 'CarName_toyota mark ii',\n",
              " 142: 'CarName_toyota starlet',\n",
              " 143: 'CarName_toyota tercel',\n",
              " 144: 'CarName_toyouta tercel',\n",
              " 145: 'CarName_vokswagen rabbit',\n",
              " 146: 'CarName_volkswagen 1131 deluxe sedan',\n",
              " 147: 'CarName_volkswagen 411 (sw)',\n",
              " 148: 'CarName_volkswagen dasher',\n",
              " 149: 'CarName_volkswagen model 111',\n",
              " 150: 'CarName_volkswagen rabbit',\n",
              " 151: 'CarName_volkswagen rabbit custom',\n",
              " 152: 'CarName_volkswagen super beetle',\n",
              " 153: 'CarName_volkswagen type 3',\n",
              " 154: 'CarName_volvo 144ea',\n",
              " 155: 'CarName_volvo 145e (sw)',\n",
              " 156: 'CarName_volvo 244dl',\n",
              " 157: 'CarName_volvo 245',\n",
              " 158: 'CarName_volvo 246',\n",
              " 159: 'CarName_volvo 264gl',\n",
              " 160: 'CarName_volvo diesel',\n",
              " 161: 'CarName_vw dasher',\n",
              " 162: 'CarName_vw rabbit',\n",
              " 163: 'fueltype_gas',\n",
              " 164: 'aspiration_turbo',\n",
              " 165: 'doornumber_two',\n",
              " 166: 'carbody_hardtop',\n",
              " 167: 'carbody_hatchback',\n",
              " 168: 'carbody_sedan',\n",
              " 169: 'carbody_wagon',\n",
              " 170: 'drivewheel_fwd',\n",
              " 171: 'drivewheel_rwd',\n",
              " 172: 'enginelocation_rear',\n",
              " 173: 'enginetype_dohcv',\n",
              " 174: 'enginetype_l',\n",
              " 175: 'enginetype_ohc',\n",
              " 176: 'enginetype_ohcf',\n",
              " 177: 'enginetype_ohcv',\n",
              " 178: 'enginetype_rotor',\n",
              " 179: 'cylindernumber_five',\n",
              " 180: 'cylindernumber_four',\n",
              " 181: 'cylindernumber_six',\n",
              " 182: 'cylindernumber_three',\n",
              " 183: 'cylindernumber_twelve',\n",
              " 184: 'cylindernumber_two',\n",
              " 185: 'fuelsystem_2bbl',\n",
              " 186: 'fuelsystem_4bbl',\n",
              " 187: 'fuelsystem_idi',\n",
              " 188: 'fuelsystem_mfi',\n",
              " 189: 'fuelsystem_mpfi',\n",
              " 190: 'fuelsystem_spdi',\n",
              " 191: 'fuelsystem_spfi'}"
            ]
          },
          "metadata": {
            "tags": []
          },
          "execution_count": 20
        }
      ]
    },
    {
      "cell_type": "code",
      "metadata": {
        "id": "U0P2wAKBS8Ow"
      },
      "source": [
        "mean = train_data.iloc[:,0:13].mean(axis=0) # taking the mean of\n",
        "train_data.iloc[:,0:13] -= mean\n",
        "std = train_data.iloc[:,0:13].std(axis=0)\n",
        "train_data.iloc[:,0:13] /= std\n",
        "test_data.iloc[:,0:13] -= mean\n",
        "test_data.iloc[:,0:13] /= std"
      ],
      "execution_count": 21,
      "outputs": []
    },
    {
      "cell_type": "code",
      "metadata": {
        "colab": {
          "base_uri": "https://localhost:8080/"
        },
        "id": "qFsbAYMjUFog",
        "outputId": "f011374f-a17f-413d-80ee-6660027ae8b8"
      },
      "source": [
        "mean"
      ],
      "execution_count": 22,
      "outputs": [
        {
          "output_type": "execute_result",
          "data": {
            "text/plain": [
              "wheelbase             98.730201\n",
              "carlength            173.867785\n",
              "carwidth              65.892617\n",
              "carheight             53.712081\n",
              "curbweight          2553.724832\n",
              "enginesize           126.181208\n",
              "boreratio              3.318859\n",
              "stroke                 3.252685\n",
              "compressionratio      10.094765\n",
              "horsepower           103.771812\n",
              "peakrpm             5141.610738\n",
              "citympg               25.040268\n",
              "highwaympg            30.523490\n",
              "dtype: float64"
            ]
          },
          "metadata": {
            "tags": []
          },
          "execution_count": 22
        }
      ]
    },
    {
      "cell_type": "code",
      "metadata": {
        "colab": {
          "base_uri": "https://localhost:8080/"
        },
        "id": "21dP1apoUHl7",
        "outputId": "e7b7ae3e-1493-4fa8-a05c-5ec97800996a"
      },
      "source": [
        "std"
      ],
      "execution_count": 23,
      "outputs": [
        {
          "output_type": "execute_result",
          "data": {
            "text/plain": [
              "wheelbase             5.919228\n",
              "carlength            12.235787\n",
              "carwidth              2.152971\n",
              "carheight             2.489652\n",
              "curbweight          528.446203\n",
              "enginesize           41.321916\n",
              "boreratio             0.270978\n",
              "stroke                0.305513\n",
              "compressionratio      3.875605\n",
              "horsepower           38.059896\n",
              "peakrpm             471.462743\n",
              "citympg               6.470180\n",
              "highwaympg            6.703754\n",
              "dtype: float64"
            ]
          },
          "metadata": {
            "tags": []
          },
          "execution_count": 23
        }
      ]
    },
    {
      "cell_type": "code",
      "metadata": {
        "id": "RKHHEPoHUcxL"
      },
      "source": [
        "mean_label = train_label.mean()\n",
        "train_label -= mean_label\n",
        "std_label = train_label.std()\n",
        "train_label /= std_label\n",
        "test_label -= mean_label\n",
        "test_label /= std_label"
      ],
      "execution_count": 24,
      "outputs": []
    },
    {
      "cell_type": "code",
      "metadata": {
        "colab": {
          "base_uri": "https://localhost:8080/"
        },
        "id": "bzRslBQWVUCH",
        "outputId": "55da06e8-b866-4ae8-8d50-e96f602eadc1"
      },
      "source": [
        "mean_label"
      ],
      "execution_count": 25,
      "outputs": [
        {
          "output_type": "execute_result",
          "data": {
            "text/plain": [
              "13320.96420805369"
            ]
          },
          "metadata": {
            "tags": []
          },
          "execution_count": 25
        }
      ]
    },
    {
      "cell_type": "code",
      "metadata": {
        "colab": {
          "base_uri": "https://localhost:8080/"
        },
        "id": "Cyyu7PcMVX8B",
        "outputId": "1ecc47ee-9877-45bf-f588-1ec3e36db582"
      },
      "source": [
        "std_label"
      ],
      "execution_count": 26,
      "outputs": [
        {
          "output_type": "execute_result",
          "data": {
            "text/plain": [
              "8008.693671853602"
            ]
          },
          "metadata": {
            "tags": []
          },
          "execution_count": 26
        }
      ]
    },
    {
      "cell_type": "code",
      "metadata": {
        "id": "gatEpYj5VaaL",
        "colab": {
          "base_uri": "https://localhost:8080/"
        },
        "outputId": "aa44aec7-c0a6-46f8-cdaa-cdcec9cce9e7"
      },
      "source": [
        "test_label"
      ],
      "execution_count": 27,
      "outputs": [
        {
          "output_type": "execute_result",
          "data": {
            "text/plain": [
              "0      0.021731\n",
              "10     0.388208\n",
              "14     1.403979\n",
              "15     2.177513\n",
              "18    -1.020137\n",
              "26    -0.713220\n",
              "27    -0.594724\n",
              "32    -0.989171\n",
              "34    -0.773155\n",
              "38    -0.527672\n",
              "41    -0.046945\n",
              "42    -0.371592\n",
              "45    -0.549960\n",
              "52    -0.814860\n",
              "59    -0.558888\n",
              "66     0.627198\n",
              "67     1.527220\n",
              "71     2.605049\n",
              "73     3.451129\n",
              "82    -0.086402\n",
              "83     0.193294\n",
              "85    -0.790636\n",
              "88    -0.504697\n",
              "89    -0.976684\n",
              "99    -0.545902\n",
              "104    0.484228\n",
              "107   -0.177428\n",
              "111    0.282073\n",
              "114    0.468745\n",
              "124   -0.069545\n",
              "126    2.398273\n",
              "129    2.257489\n",
              "130   -0.502699\n",
              "135    0.273332\n",
              "142   -0.692493\n",
              "146   -0.731451\n",
              "148   -0.662775\n",
              "150   -0.995539\n",
              "153   -0.799502\n",
              "157   -0.764540\n",
              "160   -0.697113\n",
              "164   -0.634681\n",
              "165   -0.502325\n",
              "167   -0.608334\n",
              "169   -0.416043\n",
              "171   -0.221255\n",
              "173   -0.546027\n",
              "180    0.295808\n",
              "182   -0.692493\n",
              "184   -0.665023\n",
              "186   -0.602591\n",
              "192    0.065433\n",
              "193   -0.128731\n",
              "194   -0.047569\n",
              "196    0.332643\n",
              "198    0.636688\n",
              "Name: price, dtype: float64"
            ]
          },
          "metadata": {
            "tags": []
          },
          "execution_count": 27
        }
      ]
    },
    {
      "cell_type": "code",
      "metadata": {
        "id": "U7JfgG_Wb9vv"
      },
      "source": [
        "testData = np.array(test_data.iloc[:]).astype('float32')"
      ],
      "execution_count": 28,
      "outputs": []
    },
    {
      "cell_type": "code",
      "metadata": {
        "id": "vBEvqRK-dkIz"
      },
      "source": [
        "trainData = np.array(train_data.iloc[:]).astype('float32')"
      ],
      "execution_count": 29,
      "outputs": []
    },
    {
      "cell_type": "code",
      "metadata": {
        "id": "xEd5njwmdqD7"
      },
      "source": [
        "testLabel= np.array(test_label.astype('float32'))"
      ],
      "execution_count": 30,
      "outputs": []
    },
    {
      "cell_type": "code",
      "metadata": {
        "id": "uQYfeW4AeAnN"
      },
      "source": [
        "trainLabel= np.array(train_label.astype('float32'))"
      ],
      "execution_count": 31,
      "outputs": []
    },
    {
      "cell_type": "code",
      "metadata": {
        "colab": {
          "base_uri": "https://localhost:8080/"
        },
        "id": "Y0WpQK46ePRI",
        "outputId": "a20f5fc2-4dd2-4c10-90c4-043852fde2e2"
      },
      "source": [
        "trainData.shape[1]"
      ],
      "execution_count": 32,
      "outputs": [
        {
          "output_type": "execute_result",
          "data": {
            "text/plain": [
              "192"
            ]
          },
          "metadata": {
            "tags": []
          },
          "execution_count": 32
        }
      ]
    },
    {
      "cell_type": "code",
      "metadata": {
        "colab": {
          "base_uri": "https://localhost:8080/"
        },
        "id": "RsOSpwLbeW51",
        "outputId": "d1056c17-0d41-4603-a32e-854f83de6a65"
      },
      "source": [
        "(149,192)[1]"
      ],
      "execution_count": 33,
      "outputs": [
        {
          "output_type": "execute_result",
          "data": {
            "text/plain": [
              "192"
            ]
          },
          "metadata": {
            "tags": []
          },
          "execution_count": 33
        }
      ]
    },
    {
      "cell_type": "code",
      "metadata": {
        "colab": {
          "base_uri": "https://localhost:8080/"
        },
        "id": "MMHxlcsSehhf",
        "outputId": "a7e7db40-0f2b-4431-9e85-33b59b8596d9"
      },
      "source": [
        "trainData.dtype"
      ],
      "execution_count": 34,
      "outputs": [
        {
          "output_type": "execute_result",
          "data": {
            "text/plain": [
              "dtype('float32')"
            ]
          },
          "metadata": {
            "tags": []
          },
          "execution_count": 34
        }
      ]
    },
    {
      "cell_type": "markdown",
      "metadata": {
        "id": "zLvJI0HWghXA"
      },
      "source": [
        "## **4.Model : input Layer (No. of features ), 3 hidden layers including 10,8,6 unit & Output Layer with activation function relu/tanh (check by experiment)**."
      ]
    },
    {
      "cell_type": "code",
      "metadata": {
        "id": "0A77sQVgexjl"
      },
      "source": [
        "from keras import models\n",
        "from keras import layers\n",
        "def build_model(act):\n",
        "  model = models.Sequential()\n",
        "  model.add(layers.Dense(128, activation= act,input_shape=(trainData.shape[1],)))\n",
        "  model.add(layers.Dense(64, activation= act))\n",
        "  model.add(layers.Dense(32, activation= act))\n",
        "  model.add(layers.Dense(1))\n",
        "  model.compile(optimizer='rmsprop', loss='mse', metrics=['mae'])\n",
        "  return model"
      ],
      "execution_count": 35,
      "outputs": []
    },
    {
      "cell_type": "code",
      "metadata": {
        "colab": {
          "base_uri": "https://localhost:8080/"
        },
        "id": "1Dr37uqyfmUx",
        "outputId": "49622c55-5d6c-4895-e262-0a50fbed2fbd"
      },
      "source": [
        "build_model('relu').summary()"
      ],
      "execution_count": 36,
      "outputs": [
        {
          "output_type": "stream",
          "text": [
            "Model: \"sequential\"\n",
            "_________________________________________________________________\n",
            "Layer (type)                 Output Shape              Param #   \n",
            "=================================================================\n",
            "dense (Dense)                (None, 128)               24704     \n",
            "_________________________________________________________________\n",
            "dense_1 (Dense)              (None, 64)                8256      \n",
            "_________________________________________________________________\n",
            "dense_2 (Dense)              (None, 32)                2080      \n",
            "_________________________________________________________________\n",
            "dense_3 (Dense)              (None, 1)                 33        \n",
            "=================================================================\n",
            "Total params: 35,073\n",
            "Trainable params: 35,073\n",
            "Non-trainable params: 0\n",
            "_________________________________________________________________\n"
          ],
          "name": "stdout"
        }
      ]
    },
    {
      "cell_type": "markdown",
      "metadata": {
        "id": "fJyaTMdWiDAx"
      },
      "source": [
        "## **5.Compilation Step (Note : Its a Regression problem , select loss , metrics according to it)**"
      ]
    },
    {
      "cell_type": "code",
      "metadata": {
        "colab": {
          "base_uri": "https://localhost:8080/"
        },
        "id": "o03gZiVMfraD",
        "outputId": "3959e2a4-48e7-42a8-99bb-fa7402868b9b"
      },
      "source": [
        "build_model('tanh').summary()"
      ],
      "execution_count": 37,
      "outputs": [
        {
          "output_type": "stream",
          "text": [
            "Model: \"sequential_1\"\n",
            "_________________________________________________________________\n",
            "Layer (type)                 Output Shape              Param #   \n",
            "=================================================================\n",
            "dense_4 (Dense)              (None, 128)               24704     \n",
            "_________________________________________________________________\n",
            "dense_5 (Dense)              (None, 64)                8256      \n",
            "_________________________________________________________________\n",
            "dense_6 (Dense)              (None, 32)                2080      \n",
            "_________________________________________________________________\n",
            "dense_7 (Dense)              (None, 1)                 33        \n",
            "=================================================================\n",
            "Total params: 35,073\n",
            "Trainable params: 35,073\n",
            "Non-trainable params: 0\n",
            "_________________________________________________________________\n"
          ],
          "name": "stdout"
        }
      ]
    },
    {
      "cell_type": "code",
      "metadata": {
        "id": "vgwq3tZmimxQ"
      },
      "source": [
        "from keras import regularizers\n",
        "def build_model_regular(act):\n",
        "  model = models.Sequential()\n",
        "  model.add(layers.Dense(10, activation= act,kernel_regularizer= regularizers.l1_l2(l1=0.001, l2=0.001),input_shape=(trainData.shape[1],)))\n",
        "  model.add(layers.Dense(8, activation= act,kernel_regularizer= regularizers.l1_l2(l1=0.001, l2=0.001)))\n",
        "  model.add(layers.Dense(6, activation= act,kernel_regularizer= regularizers.l1_l2(l1=0.001, l2=0.001)))\n",
        "  model.add(layers.Dense(1))\n",
        "  model.compile(optimizer='rmsprop', loss='mse', metrics=['mae'])\n",
        "  return model"
      ],
      "execution_count": 38,
      "outputs": []
    },
    {
      "cell_type": "code",
      "metadata": {
        "colab": {
          "base_uri": "https://localhost:8080/"
        },
        "id": "roYkYoWkjFxh",
        "outputId": "9351a921-5c95-4613-d199-5e3c14742309"
      },
      "source": [
        "build_model_regular('tanh').summary()"
      ],
      "execution_count": 39,
      "outputs": [
        {
          "output_type": "stream",
          "text": [
            "Model: \"sequential_2\"\n",
            "_________________________________________________________________\n",
            "Layer (type)                 Output Shape              Param #   \n",
            "=================================================================\n",
            "dense_8 (Dense)              (None, 10)                1930      \n",
            "_________________________________________________________________\n",
            "dense_9 (Dense)              (None, 8)                 88        \n",
            "_________________________________________________________________\n",
            "dense_10 (Dense)             (None, 6)                 54        \n",
            "_________________________________________________________________\n",
            "dense_11 (Dense)             (None, 1)                 7         \n",
            "=================================================================\n",
            "Total params: 2,079\n",
            "Trainable params: 2,079\n",
            "Non-trainable params: 0\n",
            "_________________________________________________________________\n"
          ],
          "name": "stdout"
        }
      ]
    },
    {
      "cell_type": "code",
      "metadata": {
        "id": "TTfI3ImujI5A"
      },
      "source": [
        "from keras import regularizers\n",
        "def build_model_drop(act):\n",
        "  model = models.Sequential()\n",
        "  model.add(layers.Dense(10, activation= act,input_shape=(trainData.shape[1],)))\n",
        "  model.add(layers.Dropout(0.2))\n",
        "  model.add(layers.Dense(8, activation= act))\n",
        "  model.add(layers.Dropout(0.2))\n",
        "  model.add(layers.Dense(6, activation= act))\n",
        "  model.add(layers.Dropout(0.2))\n",
        "  model.add(layers.Dense(1))\n",
        "  model.compile(optimizer='rmsprop', loss='mse', metrics=['mae'])\n",
        "  return model"
      ],
      "execution_count": 40,
      "outputs": []
    },
    {
      "cell_type": "code",
      "metadata": {
        "colab": {
          "base_uri": "https://localhost:8080/"
        },
        "id": "N3Q4CenBjSva",
        "outputId": "467aadd6-6cc0-4ab6-d83f-4729d263854c"
      },
      "source": [
        "build_model_drop('relu').summary()"
      ],
      "execution_count": 41,
      "outputs": [
        {
          "output_type": "stream",
          "text": [
            "Model: \"sequential_3\"\n",
            "_________________________________________________________________\n",
            "Layer (type)                 Output Shape              Param #   \n",
            "=================================================================\n",
            "dense_12 (Dense)             (None, 10)                1930      \n",
            "_________________________________________________________________\n",
            "dropout (Dropout)            (None, 10)                0         \n",
            "_________________________________________________________________\n",
            "dense_13 (Dense)             (None, 8)                 88        \n",
            "_________________________________________________________________\n",
            "dropout_1 (Dropout)          (None, 8)                 0         \n",
            "_________________________________________________________________\n",
            "dense_14 (Dense)             (None, 6)                 54        \n",
            "_________________________________________________________________\n",
            "dropout_2 (Dropout)          (None, 6)                 0         \n",
            "_________________________________________________________________\n",
            "dense_15 (Dense)             (None, 1)                 7         \n",
            "=================================================================\n",
            "Total params: 2,079\n",
            "Trainable params: 2,079\n",
            "Non-trainable params: 0\n",
            "_________________________________________________________________\n"
          ],
          "name": "stdout"
        }
      ]
    },
    {
      "cell_type": "markdown",
      "metadata": {
        "id": "c7AyWvJbiKOv"
      },
      "source": [
        "## **6.Train the Model with Epochs (100) and validate it**"
      ]
    },
    {
      "cell_type": "code",
      "metadata": {
        "colab": {
          "base_uri": "https://localhost:8080/"
        },
        "id": "37JLBresjWfu",
        "outputId": "320047d8-33b7-45ef-f8db-f059905d5eed"
      },
      "source": [
        "k =  4\n",
        "num_val_samples = len(trainData) // k\n",
        "num_epochs = 100\n",
        "all_scores_relu = []\n",
        "for i in range(k):\n",
        "  print('processing fold #', i)\n",
        "  val_data = trainData[i * num_val_samples: (i + 1) * num_val_samples]\n",
        "  val_targets = trainLabel[i * num_val_samples: (i + 1) * num_val_samples]\n",
        "  partial_train_data = np.concatenate([trainData[:i * num_val_samples],trainData[(i + 1) * num_val_samples:]],  axis=0)\n",
        "  # print(partial_train_data)\n",
        "  partial_train_targets = np.concatenate([trainLabel[:i * num_val_samples],trainLabel[(i + 1) * num_val_samples:]],axis=0)\n",
        "  model = build_model('relu')\n",
        "  model.fit(partial_train_data, partial_train_targets,epochs=num_epochs, batch_size=1, verbose=0)\n",
        "  val_mse, val_mae = model.evaluate(val_data, val_targets, verbose=0)\n",
        "  all_scores_relu.append(val_mae)\n"
      ],
      "execution_count": 42,
      "outputs": [
        {
          "output_type": "stream",
          "text": [
            "processing fold # 0\n",
            "processing fold # 1\n",
            "processing fold # 2\n",
            "processing fold # 3\n"
          ],
          "name": "stdout"
        }
      ]
    },
    {
      "cell_type": "code",
      "metadata": {
        "colab": {
          "base_uri": "https://localhost:8080/"
        },
        "id": "7EVwP6wdk9C9",
        "outputId": "925d48ab-dc4a-4ab6-c5b6-43d5d85b2982"
      },
      "source": [
        "k =  4\n",
        "num_val_samples = len(trainData) // k\n",
        "num_epochs = 100\n",
        "all_scores_tanh = []\n",
        "for i in range(k):\n",
        "  print('processing fold #', i)\n",
        "  val_data = trainData[i * num_val_samples: (i + 1) * num_val_samples]\n",
        "  val_targets = trainLabel[i * num_val_samples: (i + 1) * num_val_samples]\n",
        "  partial_train_data = np.concatenate([trainData[:i * num_val_samples],trainData[(i + 1) * num_val_samples:]],  axis=0)\n",
        "  # print(partial_train_data)\n",
        "  partial_train_targets = np.concatenate([trainLabel[:i * num_val_samples],trainLabel[(i + 1) * num_val_samples:]],axis=0)\n",
        "  model = build_model('tanh')\n",
        "  model.fit(partial_train_data, partial_train_targets,epochs=num_epochs, batch_size=1, verbose=0)\n",
        "  val_mse, val_mae = model.evaluate(val_data, val_targets, verbose=0)\n",
        "  all_scores_tanh.append(val_mae)"
      ],
      "execution_count": 43,
      "outputs": [
        {
          "output_type": "stream",
          "text": [
            "processing fold # 0\n",
            "processing fold # 1\n",
            "processing fold # 2\n",
            "processing fold # 3\n"
          ],
          "name": "stdout"
        }
      ]
    },
    {
      "cell_type": "code",
      "metadata": {
        "colab": {
          "base_uri": "https://localhost:8080/"
        },
        "id": "2QkHyqMmmQ6x",
        "outputId": "1133c6f0-4f77-41be-fab7-251a60bab827"
      },
      "source": [
        "k =  4\n",
        "num_val_samples = len(trainData) // k\n",
        "num_epochs = 100\n",
        "all_scores_regular = []\n",
        "for i in range(k):\n",
        "  print('processing fold #', i)\n",
        "  val_data = trainData[i * num_val_samples: (i + 1) * num_val_samples]\n",
        "  val_targets = trainLabel[i * num_val_samples: (i + 1) * num_val_samples]\n",
        "  partial_train_data = np.concatenate([trainData[:i * num_val_samples],trainData[(i + 1) * num_val_samples:]],  axis=0)\n",
        "  # print(partial_train_data)\n",
        "  partial_train_targets = np.concatenate([trainLabel[:i * num_val_samples],trainLabel[(i + 1) * num_val_samples:]],axis=0)\n",
        "  model = build_model_regular('relu')\n",
        "  model.fit(partial_train_data, partial_train_targets,epochs=num_epochs, batch_size=1, verbose=0)\n",
        "  val_mse, val_mae = model.evaluate(val_data, val_targets, verbose=0)\n",
        "  all_scores_regular.append(val_mae)"
      ],
      "execution_count": 44,
      "outputs": [
        {
          "output_type": "stream",
          "text": [
            "processing fold # 0\n",
            "processing fold # 1\n",
            "processing fold # 2\n",
            "processing fold # 3\n"
          ],
          "name": "stdout"
        }
      ]
    },
    {
      "cell_type": "code",
      "metadata": {
        "colab": {
          "base_uri": "https://localhost:8080/"
        },
        "id": "pQNHR6Oam3QZ",
        "outputId": "12e642d1-de4f-40e4-b443-76794511fb76"
      },
      "source": [
        "k =  4\n",
        "num_val_samples = len(trainData) // k\n",
        "num_epochs = 100\n",
        "all_scores_drop = []\n",
        "for i in range(k):\n",
        "  print('processing fold #', i)\n",
        "  val_data = trainData[i * num_val_samples: (i + 1) * num_val_samples]\n",
        "  val_targets = trainLabel[i * num_val_samples: (i + 1) * num_val_samples]\n",
        "  partial_train_data = np.concatenate([trainData[:i * num_val_samples],trainData[(i + 1) * num_val_samples:]],  axis=0)\n",
        "  # print(partial_train_data)\n",
        "  partial_train_targets = np.concatenate([trainLabel[:i * num_val_samples],trainLabel[(i + 1) * num_val_samples:]],axis=0)\n",
        "  model = build_model_drop('relu')\n",
        "  model.fit(partial_train_data, partial_train_targets,epochs=num_epochs, batch_size=1, verbose=1)\n",
        "  val_mse, val_mae = model.evaluate(val_data, val_targets, verbose=1)\n",
        "  all_scores_drop.append(val_mae)"
      ],
      "execution_count": 45,
      "outputs": [
        {
          "output_type": "stream",
          "text": [
            "processing fold # 0\n",
            "Epoch 1/100\n",
            "112/112 [==============================] - 1s 1ms/step - loss: 0.4361 - mae: 0.4949\n",
            "Epoch 2/100\n",
            "112/112 [==============================] - 0s 1ms/step - loss: 0.5636 - mae: 0.4512\n",
            "Epoch 3/100\n",
            "112/112 [==============================] - 0s 1ms/step - loss: 0.5193 - mae: 0.4388\n",
            "Epoch 4/100\n",
            "112/112 [==============================] - 0s 1ms/step - loss: 0.5588 - mae: 0.4480\n",
            "Epoch 5/100\n",
            "112/112 [==============================] - 0s 1ms/step - loss: 0.6376 - mae: 0.5200\n",
            "Epoch 6/100\n",
            "112/112 [==============================] - 0s 1ms/step - loss: 0.7155 - mae: 0.5518\n",
            "Epoch 7/100\n",
            "112/112 [==============================] - 0s 1ms/step - loss: 0.8989 - mae: 0.5991\n",
            "Epoch 8/100\n",
            "112/112 [==============================] - 0s 1ms/step - loss: 0.7018 - mae: 0.5174\n",
            "Epoch 9/100\n",
            "112/112 [==============================] - 0s 1ms/step - loss: 0.7277 - mae: 0.5782\n",
            "Epoch 10/100\n",
            "112/112 [==============================] - 0s 1ms/step - loss: 0.5122 - mae: 0.4792\n",
            "Epoch 11/100\n",
            "112/112 [==============================] - 0s 1ms/step - loss: 0.5185 - mae: 0.4654\n",
            "Epoch 12/100\n",
            "112/112 [==============================] - 0s 1ms/step - loss: 0.6130 - mae: 0.5185\n",
            "Epoch 13/100\n",
            "112/112 [==============================] - 0s 1ms/step - loss: 0.4594 - mae: 0.4059\n",
            "Epoch 14/100\n",
            "112/112 [==============================] - 0s 1ms/step - loss: 0.3494 - mae: 0.3915\n",
            "Epoch 15/100\n",
            "112/112 [==============================] - 0s 1ms/step - loss: 0.7958 - mae: 0.5262\n",
            "Epoch 16/100\n",
            "112/112 [==============================] - 0s 1ms/step - loss: 0.4484 - mae: 0.4465\n",
            "Epoch 17/100\n",
            "112/112 [==============================] - 0s 1ms/step - loss: 0.2435 - mae: 0.3515\n",
            "Epoch 18/100\n",
            "112/112 [==============================] - 0s 1ms/step - loss: 0.5136 - mae: 0.4399\n",
            "Epoch 19/100\n",
            "112/112 [==============================] - 0s 1ms/step - loss: 0.3697 - mae: 0.3869\n",
            "Epoch 20/100\n",
            "112/112 [==============================] - 0s 1ms/step - loss: 0.6418 - mae: 0.4606\n",
            "Epoch 21/100\n",
            "112/112 [==============================] - 0s 1ms/step - loss: 0.3515 - mae: 0.3808\n",
            "Epoch 22/100\n",
            "112/112 [==============================] - 0s 1ms/step - loss: 0.3110 - mae: 0.3651\n",
            "Epoch 23/100\n",
            "112/112 [==============================] - 0s 1ms/step - loss: 0.4203 - mae: 0.4110\n",
            "Epoch 24/100\n",
            "112/112 [==============================] - 0s 1ms/step - loss: 0.4041 - mae: 0.3879\n",
            "Epoch 25/100\n",
            "112/112 [==============================] - 0s 1ms/step - loss: 0.3030 - mae: 0.3388\n",
            "Epoch 26/100\n",
            "112/112 [==============================] - 0s 1ms/step - loss: 0.3480 - mae: 0.3687\n",
            "Epoch 27/100\n",
            "112/112 [==============================] - 0s 1ms/step - loss: 0.4633 - mae: 0.4458\n",
            "Epoch 28/100\n",
            "112/112 [==============================] - 0s 1ms/step - loss: 0.3257 - mae: 0.3904\n",
            "Epoch 29/100\n",
            "112/112 [==============================] - 0s 1ms/step - loss: 0.2053 - mae: 0.3299\n",
            "Epoch 30/100\n",
            "112/112 [==============================] - 0s 1ms/step - loss: 0.4382 - mae: 0.3676\n",
            "Epoch 31/100\n",
            "112/112 [==============================] - 0s 1ms/step - loss: 0.3877 - mae: 0.4220\n",
            "Epoch 32/100\n",
            "112/112 [==============================] - 0s 1ms/step - loss: 0.2022 - mae: 0.3104\n",
            "Epoch 33/100\n",
            "112/112 [==============================] - 0s 1ms/step - loss: 0.5575 - mae: 0.4775\n",
            "Epoch 34/100\n",
            "112/112 [==============================] - 0s 1ms/step - loss: 0.4791 - mae: 0.3898\n",
            "Epoch 35/100\n",
            "112/112 [==============================] - 0s 1ms/step - loss: 0.2324 - mae: 0.3630\n",
            "Epoch 36/100\n",
            "112/112 [==============================] - 0s 1ms/step - loss: 0.1678 - mae: 0.2848\n",
            "Epoch 37/100\n",
            "112/112 [==============================] - 0s 1ms/step - loss: 0.3724 - mae: 0.4195\n",
            "Epoch 38/100\n",
            "112/112 [==============================] - 0s 1ms/step - loss: 0.2812 - mae: 0.3756\n",
            "Epoch 39/100\n",
            "112/112 [==============================] - 0s 1ms/step - loss: 0.1858 - mae: 0.3109\n",
            "Epoch 40/100\n",
            "112/112 [==============================] - 0s 1ms/step - loss: 0.3498 - mae: 0.3896\n",
            "Epoch 41/100\n",
            "112/112 [==============================] - 0s 1ms/step - loss: 0.2586 - mae: 0.3236\n",
            "Epoch 42/100\n",
            "112/112 [==============================] - 0s 1ms/step - loss: 0.3523 - mae: 0.3383\n",
            "Epoch 43/100\n",
            "112/112 [==============================] - 0s 1ms/step - loss: 0.5996 - mae: 0.4472\n",
            "Epoch 44/100\n",
            "112/112 [==============================] - 0s 1ms/step - loss: 0.2157 - mae: 0.3008\n",
            "Epoch 45/100\n",
            "112/112 [==============================] - 0s 1ms/step - loss: 0.1980 - mae: 0.2942\n",
            "Epoch 46/100\n",
            "112/112 [==============================] - 0s 1ms/step - loss: 0.2589 - mae: 0.3402\n",
            "Epoch 47/100\n",
            "112/112 [==============================] - 0s 1ms/step - loss: 0.2629 - mae: 0.3107\n",
            "Epoch 48/100\n",
            "112/112 [==============================] - 0s 1ms/step - loss: 0.2726 - mae: 0.3206\n",
            "Epoch 49/100\n",
            "112/112 [==============================] - 0s 1ms/step - loss: 0.2746 - mae: 0.3261\n",
            "Epoch 50/100\n",
            "112/112 [==============================] - 0s 1ms/step - loss: 0.2181 - mae: 0.3086\n",
            "Epoch 51/100\n",
            "112/112 [==============================] - 0s 1ms/step - loss: 0.3418 - mae: 0.3908\n",
            "Epoch 52/100\n",
            "112/112 [==============================] - 0s 1ms/step - loss: 0.1911 - mae: 0.2840\n",
            "Epoch 53/100\n",
            "112/112 [==============================] - 0s 1ms/step - loss: 0.2302 - mae: 0.2907\n",
            "Epoch 54/100\n",
            "112/112 [==============================] - 0s 1ms/step - loss: 0.1548 - mae: 0.2834\n",
            "Epoch 55/100\n",
            "112/112 [==============================] - 0s 1ms/step - loss: 0.1562 - mae: 0.2690\n",
            "Epoch 56/100\n",
            "112/112 [==============================] - 0s 1ms/step - loss: 0.4101 - mae: 0.3359\n",
            "Epoch 57/100\n",
            "112/112 [==============================] - 0s 1ms/step - loss: 0.4365 - mae: 0.3790\n",
            "Epoch 58/100\n",
            "112/112 [==============================] - 0s 2ms/step - loss: 0.2466 - mae: 0.2801\n",
            "Epoch 59/100\n",
            "112/112 [==============================] - 0s 1ms/step - loss: 0.1534 - mae: 0.2388\n",
            "Epoch 60/100\n",
            "112/112 [==============================] - 0s 1ms/step - loss: 0.2016 - mae: 0.2927\n",
            "Epoch 61/100\n",
            "112/112 [==============================] - 0s 1ms/step - loss: 0.2808 - mae: 0.2992\n",
            "Epoch 62/100\n",
            "112/112 [==============================] - 0s 1ms/step - loss: 0.1903 - mae: 0.3141\n",
            "Epoch 63/100\n",
            "112/112 [==============================] - 0s 1ms/step - loss: 0.2316 - mae: 0.3060\n",
            "Epoch 64/100\n",
            "112/112 [==============================] - 0s 1ms/step - loss: 0.2111 - mae: 0.3275\n",
            "Epoch 65/100\n",
            "112/112 [==============================] - 0s 1ms/step - loss: 0.1948 - mae: 0.2727\n",
            "Epoch 66/100\n",
            "112/112 [==============================] - 0s 1ms/step - loss: 0.1220 - mae: 0.2304\n",
            "Epoch 67/100\n",
            "112/112 [==============================] - 0s 1ms/step - loss: 0.4006 - mae: 0.3541\n",
            "Epoch 68/100\n",
            "112/112 [==============================] - 0s 1ms/step - loss: 0.1875 - mae: 0.2930\n",
            "Epoch 69/100\n",
            "112/112 [==============================] - 0s 1ms/step - loss: 0.5834 - mae: 0.4093\n",
            "Epoch 70/100\n",
            "112/112 [==============================] - 0s 1ms/step - loss: 0.2393 - mae: 0.3271\n",
            "Epoch 71/100\n",
            "112/112 [==============================] - 0s 1ms/step - loss: 0.1330 - mae: 0.2597\n",
            "Epoch 72/100\n",
            "112/112 [==============================] - 0s 1ms/step - loss: 0.1627 - mae: 0.2662\n",
            "Epoch 73/100\n",
            "112/112 [==============================] - 0s 1ms/step - loss: 0.2162 - mae: 0.3162\n",
            "Epoch 74/100\n",
            "112/112 [==============================] - 0s 1ms/step - loss: 0.1189 - mae: 0.2461\n",
            "Epoch 75/100\n",
            "112/112 [==============================] - 0s 1ms/step - loss: 0.2253 - mae: 0.2811\n",
            "Epoch 76/100\n",
            "112/112 [==============================] - 0s 1ms/step - loss: 0.1298 - mae: 0.2569\n",
            "Epoch 77/100\n",
            "112/112 [==============================] - 0s 1ms/step - loss: 0.1600 - mae: 0.2507\n",
            "Epoch 78/100\n",
            "112/112 [==============================] - 0s 1ms/step - loss: 0.1073 - mae: 0.2153\n",
            "Epoch 79/100\n",
            "112/112 [==============================] - 0s 1ms/step - loss: 0.1676 - mae: 0.3005\n",
            "Epoch 80/100\n",
            "112/112 [==============================] - 0s 1ms/step - loss: 0.2842 - mae: 0.2937\n",
            "Epoch 81/100\n",
            "112/112 [==============================] - 0s 1ms/step - loss: 0.1925 - mae: 0.2805\n",
            "Epoch 82/100\n",
            "112/112 [==============================] - 0s 1ms/step - loss: 0.5840 - mae: 0.4291\n",
            "Epoch 83/100\n",
            "112/112 [==============================] - 0s 1ms/step - loss: 0.0838 - mae: 0.2096\n",
            "Epoch 84/100\n",
            "112/112 [==============================] - 0s 1ms/step - loss: 0.1154 - mae: 0.2531\n",
            "Epoch 85/100\n",
            "112/112 [==============================] - 0s 1ms/step - loss: 0.1092 - mae: 0.2384\n",
            "Epoch 86/100\n",
            "112/112 [==============================] - 0s 1ms/step - loss: 0.3477 - mae: 0.3433\n",
            "Epoch 87/100\n",
            "112/112 [==============================] - 0s 1ms/step - loss: 0.0922 - mae: 0.2120\n",
            "Epoch 88/100\n",
            "112/112 [==============================] - 0s 1ms/step - loss: 0.4629 - mae: 0.3137\n",
            "Epoch 89/100\n",
            "112/112 [==============================] - 0s 1ms/step - loss: 0.1807 - mae: 0.2950\n",
            "Epoch 90/100\n",
            "112/112 [==============================] - 0s 1ms/step - loss: 0.3609 - mae: 0.3351\n",
            "Epoch 91/100\n",
            "112/112 [==============================] - 0s 1ms/step - loss: 0.0977 - mae: 0.2173\n",
            "Epoch 92/100\n",
            "112/112 [==============================] - 0s 1ms/step - loss: 0.3719 - mae: 0.2952\n",
            "Epoch 93/100\n",
            "112/112 [==============================] - 0s 1ms/step - loss: 0.1409 - mae: 0.2577\n",
            "Epoch 94/100\n",
            "112/112 [==============================] - 0s 1ms/step - loss: 0.1715 - mae: 0.2613\n",
            "Epoch 95/100\n",
            "112/112 [==============================] - 0s 2ms/step - loss: 0.2113 - mae: 0.2602\n",
            "Epoch 96/100\n",
            "112/112 [==============================] - 0s 1ms/step - loss: 0.1747 - mae: 0.2454\n",
            "Epoch 97/100\n",
            "112/112 [==============================] - 0s 1ms/step - loss: 0.1936 - mae: 0.2615\n",
            "Epoch 98/100\n",
            "112/112 [==============================] - 0s 1ms/step - loss: 0.5297 - mae: 0.3581\n",
            "Epoch 99/100\n",
            "112/112 [==============================] - 0s 1ms/step - loss: 0.5717 - mae: 0.3800\n",
            "Epoch 100/100\n",
            "112/112 [==============================] - 0s 1ms/step - loss: 0.2590 - mae: 0.2653\n",
            "2/2 [==============================] - 0s 7ms/step - loss: 0.5258 - mae: 0.4663\n",
            "processing fold # 1\n",
            "Epoch 1/100\n",
            "112/112 [==============================] - 1s 1ms/step - loss: 0.9165 - mae: 0.6967\n",
            "Epoch 2/100\n",
            "112/112 [==============================] - 0s 1ms/step - loss: 0.7172 - mae: 0.6583\n",
            "Epoch 3/100\n",
            "112/112 [==============================] - 0s 1ms/step - loss: 0.4777 - mae: 0.5194\n",
            "Epoch 4/100\n",
            "112/112 [==============================] - 0s 1ms/step - loss: 0.4740 - mae: 0.5024\n",
            "Epoch 5/100\n",
            "112/112 [==============================] - 0s 1ms/step - loss: 0.4261 - mae: 0.4788\n",
            "Epoch 6/100\n",
            "112/112 [==============================] - 0s 1ms/step - loss: 0.2867 - mae: 0.3648\n",
            "Epoch 7/100\n",
            "112/112 [==============================] - 0s 1ms/step - loss: 0.4877 - mae: 0.4077\n",
            "Epoch 8/100\n",
            "112/112 [==============================] - 0s 1ms/step - loss: 0.5492 - mae: 0.4892\n",
            "Epoch 9/100\n",
            "112/112 [==============================] - 0s 1ms/step - loss: 0.2937 - mae: 0.4163\n",
            "Epoch 10/100\n",
            "112/112 [==============================] - 0s 1ms/step - loss: 0.4031 - mae: 0.4665\n",
            "Epoch 11/100\n",
            "112/112 [==============================] - 0s 1ms/step - loss: 0.2487 - mae: 0.3602\n",
            "Epoch 12/100\n",
            "112/112 [==============================] - 0s 1ms/step - loss: 0.5170 - mae: 0.4635\n",
            "Epoch 13/100\n",
            "112/112 [==============================] - 0s 1ms/step - loss: 0.4956 - mae: 0.4565\n",
            "Epoch 14/100\n",
            "112/112 [==============================] - 0s 1ms/step - loss: 0.4150 - mae: 0.4149\n",
            "Epoch 15/100\n",
            "112/112 [==============================] - 0s 1ms/step - loss: 0.4083 - mae: 0.4331\n",
            "Epoch 16/100\n",
            "112/112 [==============================] - 0s 1ms/step - loss: 0.2024 - mae: 0.3244\n",
            "Epoch 17/100\n",
            "112/112 [==============================] - 0s 1ms/step - loss: 0.2847 - mae: 0.3806\n",
            "Epoch 18/100\n",
            "112/112 [==============================] - 0s 1ms/step - loss: 0.2559 - mae: 0.3349\n",
            "Epoch 19/100\n",
            "112/112 [==============================] - 0s 1ms/step - loss: 0.2515 - mae: 0.3807\n",
            "Epoch 20/100\n",
            "112/112 [==============================] - 0s 1ms/step - loss: 0.2870 - mae: 0.3560\n",
            "Epoch 21/100\n",
            "112/112 [==============================] - 0s 1ms/step - loss: 0.3139 - mae: 0.3559\n",
            "Epoch 22/100\n",
            "112/112 [==============================] - 0s 1ms/step - loss: 0.2908 - mae: 0.3479\n",
            "Epoch 23/100\n",
            "112/112 [==============================] - 0s 1ms/step - loss: 0.4593 - mae: 0.4572\n",
            "Epoch 24/100\n",
            "112/112 [==============================] - 0s 1ms/step - loss: 0.3135 - mae: 0.3778\n",
            "Epoch 25/100\n",
            "112/112 [==============================] - 0s 1ms/step - loss: 0.1936 - mae: 0.3427\n",
            "Epoch 26/100\n",
            "112/112 [==============================] - 0s 1ms/step - loss: 0.3318 - mae: 0.3730\n",
            "Epoch 27/100\n",
            "112/112 [==============================] - 0s 1ms/step - loss: 0.3251 - mae: 0.3418\n",
            "Epoch 28/100\n",
            "112/112 [==============================] - 0s 1ms/step - loss: 0.1953 - mae: 0.3163\n",
            "Epoch 29/100\n",
            "112/112 [==============================] - 0s 1ms/step - loss: 0.2240 - mae: 0.3299\n",
            "Epoch 30/100\n",
            "112/112 [==============================] - 0s 1ms/step - loss: 0.2792 - mae: 0.3476\n",
            "Epoch 31/100\n",
            "112/112 [==============================] - 0s 1ms/step - loss: 0.2913 - mae: 0.3675\n",
            "Epoch 32/100\n",
            "112/112 [==============================] - 0s 1ms/step - loss: 0.3115 - mae: 0.3255\n",
            "Epoch 33/100\n",
            "112/112 [==============================] - 0s 1ms/step - loss: 0.3091 - mae: 0.2996\n",
            "Epoch 34/100\n",
            "112/112 [==============================] - 0s 1ms/step - loss: 0.3234 - mae: 0.3602\n",
            "Epoch 35/100\n",
            "112/112 [==============================] - 0s 1ms/step - loss: 0.2843 - mae: 0.3590\n",
            "Epoch 36/100\n",
            "112/112 [==============================] - 0s 1ms/step - loss: 0.2826 - mae: 0.3406\n",
            "Epoch 37/100\n",
            "112/112 [==============================] - 0s 1ms/step - loss: 0.1478 - mae: 0.2733\n",
            "Epoch 38/100\n",
            "112/112 [==============================] - 0s 1ms/step - loss: 0.4456 - mae: 0.3641\n",
            "Epoch 39/100\n",
            "112/112 [==============================] - 0s 1ms/step - loss: 0.1019 - mae: 0.2329\n",
            "Epoch 40/100\n",
            "112/112 [==============================] - 0s 1ms/step - loss: 0.1491 - mae: 0.2758\n",
            "Epoch 41/100\n",
            "112/112 [==============================] - 0s 1ms/step - loss: 0.1804 - mae: 0.2661\n",
            "Epoch 42/100\n",
            "112/112 [==============================] - 0s 1ms/step - loss: 0.1438 - mae: 0.2615\n",
            "Epoch 43/100\n",
            "112/112 [==============================] - 0s 1ms/step - loss: 0.4324 - mae: 0.3918\n",
            "Epoch 44/100\n",
            "112/112 [==============================] - 0s 1ms/step - loss: 0.4300 - mae: 0.3696\n",
            "Epoch 45/100\n",
            "112/112 [==============================] - 0s 1ms/step - loss: 0.2519 - mae: 0.3173\n",
            "Epoch 46/100\n",
            "112/112 [==============================] - 0s 1ms/step - loss: 0.2420 - mae: 0.2928\n",
            "Epoch 47/100\n",
            "112/112 [==============================] - 0s 1ms/step - loss: 0.1868 - mae: 0.3097\n",
            "Epoch 48/100\n",
            "112/112 [==============================] - 0s 1ms/step - loss: 0.5525 - mae: 0.4306\n",
            "Epoch 49/100\n",
            "112/112 [==============================] - 0s 1ms/step - loss: 0.3380 - mae: 0.3256\n",
            "Epoch 50/100\n",
            "112/112 [==============================] - 0s 1ms/step - loss: 0.1600 - mae: 0.2614\n",
            "Epoch 51/100\n",
            "112/112 [==============================] - 0s 1ms/step - loss: 0.2970 - mae: 0.3399\n",
            "Epoch 52/100\n",
            "112/112 [==============================] - 0s 1ms/step - loss: 0.2425 - mae: 0.3358\n",
            "Epoch 53/100\n",
            "112/112 [==============================] - 0s 1ms/step - loss: 0.1484 - mae: 0.2634\n",
            "Epoch 54/100\n",
            "112/112 [==============================] - 0s 1ms/step - loss: 0.3616 - mae: 0.3505\n",
            "Epoch 55/100\n",
            "112/112 [==============================] - 0s 1ms/step - loss: 0.2134 - mae: 0.3140\n",
            "Epoch 56/100\n",
            "112/112 [==============================] - 0s 1ms/step - loss: 0.1312 - mae: 0.2395\n",
            "Epoch 57/100\n",
            "112/112 [==============================] - 0s 1ms/step - loss: 0.3635 - mae: 0.3525\n",
            "Epoch 58/100\n",
            "112/112 [==============================] - 0s 1ms/step - loss: 0.1964 - mae: 0.2839\n",
            "Epoch 59/100\n",
            "112/112 [==============================] - 0s 1ms/step - loss: 0.5722 - mae: 0.4386\n",
            "Epoch 60/100\n",
            "112/112 [==============================] - 0s 1ms/step - loss: 0.4632 - mae: 0.4122\n",
            "Epoch 61/100\n",
            "112/112 [==============================] - 0s 1ms/step - loss: 0.4208 - mae: 0.4121\n",
            "Epoch 62/100\n",
            "112/112 [==============================] - 0s 1ms/step - loss: 0.2691 - mae: 0.3023\n",
            "Epoch 63/100\n",
            "112/112 [==============================] - 0s 1ms/step - loss: 0.2282 - mae: 0.2930\n",
            "Epoch 64/100\n",
            "112/112 [==============================] - 0s 1ms/step - loss: 0.2742 - mae: 0.3104\n",
            "Epoch 65/100\n",
            "112/112 [==============================] - 0s 1ms/step - loss: 0.2473 - mae: 0.3218\n",
            "Epoch 66/100\n",
            "112/112 [==============================] - 0s 1ms/step - loss: 0.1104 - mae: 0.2541\n",
            "Epoch 67/100\n",
            "112/112 [==============================] - 0s 1ms/step - loss: 0.2530 - mae: 0.2781\n",
            "Epoch 68/100\n",
            "112/112 [==============================] - 0s 1ms/step - loss: 0.1195 - mae: 0.1990\n",
            "Epoch 69/100\n",
            "112/112 [==============================] - 0s 1ms/step - loss: 0.2665 - mae: 0.3161\n",
            "Epoch 70/100\n",
            "112/112 [==============================] - 0s 1ms/step - loss: 0.2187 - mae: 0.2699\n",
            "Epoch 71/100\n",
            "112/112 [==============================] - 0s 1ms/step - loss: 0.2274 - mae: 0.3202\n",
            "Epoch 72/100\n",
            "112/112 [==============================] - 0s 1ms/step - loss: 0.2073 - mae: 0.3216\n",
            "Epoch 73/100\n",
            "112/112 [==============================] - 0s 1ms/step - loss: 0.2246 - mae: 0.2935\n",
            "Epoch 74/100\n",
            "112/112 [==============================] - 0s 1ms/step - loss: 0.1376 - mae: 0.2512\n",
            "Epoch 75/100\n",
            "112/112 [==============================] - 0s 1ms/step - loss: 0.2157 - mae: 0.3125\n",
            "Epoch 76/100\n",
            "112/112 [==============================] - 0s 1ms/step - loss: 0.4164 - mae: 0.4046\n",
            "Epoch 77/100\n",
            "112/112 [==============================] - 0s 1ms/step - loss: 0.3940 - mae: 0.3252\n",
            "Epoch 78/100\n",
            "112/112 [==============================] - 0s 1ms/step - loss: 0.1709 - mae: 0.3104\n",
            "Epoch 79/100\n",
            "112/112 [==============================] - 0s 1ms/step - loss: 0.2482 - mae: 0.3059\n",
            "Epoch 80/100\n",
            "112/112 [==============================] - 0s 1ms/step - loss: 0.3357 - mae: 0.3026\n",
            "Epoch 81/100\n",
            "112/112 [==============================] - 0s 1ms/step - loss: 0.1861 - mae: 0.2706\n",
            "Epoch 82/100\n",
            "112/112 [==============================] - 0s 1ms/step - loss: 0.1940 - mae: 0.2957\n",
            "Epoch 83/100\n",
            "112/112 [==============================] - 0s 1ms/step - loss: 0.1320 - mae: 0.2291\n",
            "Epoch 84/100\n",
            "112/112 [==============================] - 0s 1ms/step - loss: 0.1334 - mae: 0.2626\n",
            "Epoch 85/100\n",
            "112/112 [==============================] - 0s 1ms/step - loss: 0.1612 - mae: 0.2621\n",
            "Epoch 86/100\n",
            "112/112 [==============================] - 0s 1ms/step - loss: 0.1206 - mae: 0.2653\n",
            "Epoch 87/100\n",
            "112/112 [==============================] - 0s 1ms/step - loss: 0.1433 - mae: 0.2703\n",
            "Epoch 88/100\n",
            "112/112 [==============================] - 0s 1ms/step - loss: 0.1770 - mae: 0.2309\n",
            "Epoch 89/100\n",
            "112/112 [==============================] - 0s 1ms/step - loss: 0.1477 - mae: 0.2403\n",
            "Epoch 90/100\n",
            "112/112 [==============================] - 0s 1ms/step - loss: 0.2180 - mae: 0.2928\n",
            "Epoch 91/100\n",
            "112/112 [==============================] - 0s 1ms/step - loss: 0.1863 - mae: 0.2827\n",
            "Epoch 92/100\n",
            "112/112 [==============================] - 0s 1ms/step - loss: 0.3053 - mae: 0.3188\n",
            "Epoch 93/100\n",
            "112/112 [==============================] - 0s 1ms/step - loss: 0.2809 - mae: 0.2965\n",
            "Epoch 94/100\n",
            "112/112 [==============================] - 0s 1ms/step - loss: 0.1046 - mae: 0.2190\n",
            "Epoch 95/100\n",
            "112/112 [==============================] - 0s 1ms/step - loss: 0.1397 - mae: 0.2551\n",
            "Epoch 96/100\n",
            "112/112 [==============================] - 0s 1ms/step - loss: 0.1850 - mae: 0.2350\n",
            "Epoch 97/100\n",
            "112/112 [==============================] - 0s 1ms/step - loss: 0.0972 - mae: 0.2032\n",
            "Epoch 98/100\n",
            "112/112 [==============================] - 0s 1ms/step - loss: 0.3356 - mae: 0.3378\n",
            "Epoch 99/100\n",
            "112/112 [==============================] - 0s 2ms/step - loss: 0.3478 - mae: 0.3001\n",
            "Epoch 100/100\n",
            "112/112 [==============================] - 0s 1ms/step - loss: 0.2654 - mae: 0.2768\n",
            "2/2 [==============================] - 0s 6ms/step - loss: 0.4154 - mae: 0.4230\n",
            "processing fold # 2\n",
            "Epoch 1/100\n",
            "112/112 [==============================] - 1s 1ms/step - loss: 1.0451 - mae: 0.7982\n",
            "Epoch 2/100\n",
            "112/112 [==============================] - 0s 1ms/step - loss: 0.8082 - mae: 0.6478\n",
            "Epoch 3/100\n",
            "112/112 [==============================] - 0s 1ms/step - loss: 0.9444 - mae: 0.5793\n",
            "Epoch 4/100\n",
            "112/112 [==============================] - 0s 1ms/step - loss: 0.5885 - mae: 0.4894\n",
            "Epoch 5/100\n",
            "112/112 [==============================] - 0s 1ms/step - loss: 0.3681 - mae: 0.4195\n",
            "Epoch 6/100\n",
            "112/112 [==============================] - 0s 1ms/step - loss: 0.3076 - mae: 0.4217\n",
            "Epoch 7/100\n",
            "112/112 [==============================] - 0s 1ms/step - loss: 0.2582 - mae: 0.3551\n",
            "Epoch 8/100\n",
            "112/112 [==============================] - 0s 1ms/step - loss: 0.6321 - mae: 0.4677\n",
            "Epoch 9/100\n",
            "112/112 [==============================] - 0s 1ms/step - loss: 0.3465 - mae: 0.3927\n",
            "Epoch 10/100\n",
            "112/112 [==============================] - 0s 1ms/step - loss: 0.2246 - mae: 0.2912\n",
            "Epoch 11/100\n",
            "112/112 [==============================] - 0s 1ms/step - loss: 0.5367 - mae: 0.4613\n",
            "Epoch 12/100\n",
            "112/112 [==============================] - 0s 1ms/step - loss: 0.3380 - mae: 0.4128\n",
            "Epoch 13/100\n",
            "112/112 [==============================] - 0s 1ms/step - loss: 0.3899 - mae: 0.4039\n",
            "Epoch 14/100\n",
            "112/112 [==============================] - 0s 1ms/step - loss: 0.2690 - mae: 0.3874\n",
            "Epoch 15/100\n",
            "112/112 [==============================] - 0s 1ms/step - loss: 0.4016 - mae: 0.4150\n",
            "Epoch 16/100\n",
            "112/112 [==============================] - 0s 1ms/step - loss: 0.2534 - mae: 0.3782\n",
            "Epoch 17/100\n",
            "112/112 [==============================] - 0s 1ms/step - loss: 0.2321 - mae: 0.3458\n",
            "Epoch 18/100\n",
            "112/112 [==============================] - 0s 1ms/step - loss: 0.4820 - mae: 0.4405\n",
            "Epoch 19/100\n",
            "112/112 [==============================] - 0s 1ms/step - loss: 0.2353 - mae: 0.3384\n",
            "Epoch 20/100\n",
            "112/112 [==============================] - 0s 1ms/step - loss: 0.2997 - mae: 0.3297\n",
            "Epoch 21/100\n",
            "112/112 [==============================] - 0s 1ms/step - loss: 0.4317 - mae: 0.4312\n",
            "Epoch 22/100\n",
            "112/112 [==============================] - 0s 1ms/step - loss: 0.2537 - mae: 0.3473\n",
            "Epoch 23/100\n",
            "112/112 [==============================] - 0s 1ms/step - loss: 0.4048 - mae: 0.4111\n",
            "Epoch 24/100\n",
            "112/112 [==============================] - 0s 1ms/step - loss: 0.3908 - mae: 0.4128\n",
            "Epoch 25/100\n",
            "112/112 [==============================] - 0s 1ms/step - loss: 0.4645 - mae: 0.4387\n",
            "Epoch 26/100\n",
            "112/112 [==============================] - 0s 1ms/step - loss: 0.2790 - mae: 0.3648\n",
            "Epoch 27/100\n",
            "112/112 [==============================] - 0s 1ms/step - loss: 0.4441 - mae: 0.4286\n",
            "Epoch 28/100\n",
            "112/112 [==============================] - 0s 1ms/step - loss: 0.2768 - mae: 0.3526\n",
            "Epoch 29/100\n",
            "112/112 [==============================] - 0s 1ms/step - loss: 0.3999 - mae: 0.3815\n",
            "Epoch 30/100\n",
            "112/112 [==============================] - 0s 1ms/step - loss: 0.2093 - mae: 0.3152\n",
            "Epoch 31/100\n",
            "112/112 [==============================] - 0s 1ms/step - loss: 0.1926 - mae: 0.3166\n",
            "Epoch 32/100\n",
            "112/112 [==============================] - 0s 1ms/step - loss: 0.2305 - mae: 0.3004\n",
            "Epoch 33/100\n",
            "112/112 [==============================] - 0s 1ms/step - loss: 0.3774 - mae: 0.3438\n",
            "Epoch 34/100\n",
            "112/112 [==============================] - 0s 1ms/step - loss: 0.7608 - mae: 0.4962\n",
            "Epoch 35/100\n",
            "112/112 [==============================] - 0s 1ms/step - loss: 0.2947 - mae: 0.3192\n",
            "Epoch 36/100\n",
            "112/112 [==============================] - 0s 1ms/step - loss: 0.4958 - mae: 0.4087\n",
            "Epoch 37/100\n",
            "112/112 [==============================] - 0s 1ms/step - loss: 0.4348 - mae: 0.3924\n",
            "Epoch 38/100\n",
            "112/112 [==============================] - 0s 1ms/step - loss: 0.2734 - mae: 0.3152\n",
            "Epoch 39/100\n",
            "112/112 [==============================] - 0s 1ms/step - loss: 0.3927 - mae: 0.3702\n",
            "Epoch 40/100\n",
            "112/112 [==============================] - 0s 1ms/step - loss: 0.1953 - mae: 0.3406\n",
            "Epoch 41/100\n",
            "112/112 [==============================] - 0s 1ms/step - loss: 0.3113 - mae: 0.3094\n",
            "Epoch 42/100\n",
            "112/112 [==============================] - 0s 1ms/step - loss: 0.4280 - mae: 0.3857\n",
            "Epoch 43/100\n",
            "112/112 [==============================] - 0s 1ms/step - loss: 0.3067 - mae: 0.3623\n",
            "Epoch 44/100\n",
            "112/112 [==============================] - 0s 1ms/step - loss: 0.2428 - mae: 0.3262\n",
            "Epoch 45/100\n",
            "112/112 [==============================] - 0s 1ms/step - loss: 0.4101 - mae: 0.3737\n",
            "Epoch 46/100\n",
            "112/112 [==============================] - 0s 1ms/step - loss: 0.7006 - mae: 0.4890\n",
            "Epoch 47/100\n",
            "112/112 [==============================] - 0s 1ms/step - loss: 0.2854 - mae: 0.3498\n",
            "Epoch 48/100\n",
            "112/112 [==============================] - 0s 1ms/step - loss: 0.1502 - mae: 0.2704\n",
            "Epoch 49/100\n",
            "112/112 [==============================] - 0s 1ms/step - loss: 0.2352 - mae: 0.2966\n",
            "Epoch 50/100\n",
            "112/112 [==============================] - 0s 1ms/step - loss: 0.1513 - mae: 0.2501\n",
            "Epoch 51/100\n",
            "112/112 [==============================] - 0s 1ms/step - loss: 0.3330 - mae: 0.3684\n",
            "Epoch 52/100\n",
            "112/112 [==============================] - 0s 1ms/step - loss: 0.3293 - mae: 0.3828\n",
            "Epoch 53/100\n",
            "112/112 [==============================] - 0s 1ms/step - loss: 0.1730 - mae: 0.2703\n",
            "Epoch 54/100\n",
            "112/112 [==============================] - 0s 1ms/step - loss: 0.6326 - mae: 0.4028\n",
            "Epoch 55/100\n",
            "112/112 [==============================] - 0s 1ms/step - loss: 0.1635 - mae: 0.2484\n",
            "Epoch 56/100\n",
            "112/112 [==============================] - 0s 1ms/step - loss: 0.2811 - mae: 0.3384\n",
            "Epoch 57/100\n",
            "112/112 [==============================] - 0s 1ms/step - loss: 0.2093 - mae: 0.2935\n",
            "Epoch 58/100\n",
            "112/112 [==============================] - 0s 1ms/step - loss: 0.2159 - mae: 0.3280\n",
            "Epoch 59/100\n",
            "112/112 [==============================] - 0s 1ms/step - loss: 0.1075 - mae: 0.2477\n",
            "Epoch 60/100\n",
            "112/112 [==============================] - 0s 1ms/step - loss: 0.2353 - mae: 0.3279\n",
            "Epoch 61/100\n",
            "112/112 [==============================] - 0s 1ms/step - loss: 0.4119 - mae: 0.3742\n",
            "Epoch 62/100\n",
            "112/112 [==============================] - 0s 1ms/step - loss: 0.2368 - mae: 0.3294\n",
            "Epoch 63/100\n",
            "112/112 [==============================] - 0s 1ms/step - loss: 0.1864 - mae: 0.3220\n",
            "Epoch 64/100\n",
            "112/112 [==============================] - 0s 1ms/step - loss: 0.3509 - mae: 0.3104\n",
            "Epoch 65/100\n",
            "112/112 [==============================] - 0s 1ms/step - loss: 0.1385 - mae: 0.2489\n",
            "Epoch 66/100\n",
            "112/112 [==============================] - 0s 2ms/step - loss: 0.2892 - mae: 0.3480\n",
            "Epoch 67/100\n",
            "112/112 [==============================] - 0s 1ms/step - loss: 0.1991 - mae: 0.2720\n",
            "Epoch 68/100\n",
            "112/112 [==============================] - 0s 1ms/step - loss: 0.2180 - mae: 0.2831\n",
            "Epoch 69/100\n",
            "112/112 [==============================] - 0s 1ms/step - loss: 0.2024 - mae: 0.2943\n",
            "Epoch 70/100\n",
            "112/112 [==============================] - 0s 1ms/step - loss: 0.2418 - mae: 0.3161\n",
            "Epoch 71/100\n",
            "112/112 [==============================] - 0s 1ms/step - loss: 0.3174 - mae: 0.3011\n",
            "Epoch 72/100\n",
            "112/112 [==============================] - 0s 1ms/step - loss: 0.4232 - mae: 0.4035\n",
            "Epoch 73/100\n",
            "112/112 [==============================] - 0s 1ms/step - loss: 0.2667 - mae: 0.3396\n",
            "Epoch 74/100\n",
            "112/112 [==============================] - 0s 1ms/step - loss: 0.2947 - mae: 0.3132\n",
            "Epoch 75/100\n",
            "112/112 [==============================] - 0s 1ms/step - loss: 0.3708 - mae: 0.3810\n",
            "Epoch 76/100\n",
            "112/112 [==============================] - 0s 1ms/step - loss: 0.0969 - mae: 0.2106\n",
            "Epoch 77/100\n",
            "112/112 [==============================] - 0s 1ms/step - loss: 0.1264 - mae: 0.2316\n",
            "Epoch 78/100\n",
            "112/112 [==============================] - 0s 1ms/step - loss: 0.4517 - mae: 0.3670\n",
            "Epoch 79/100\n",
            "112/112 [==============================] - 0s 1ms/step - loss: 0.2396 - mae: 0.2890\n",
            "Epoch 80/100\n",
            "112/112 [==============================] - 0s 1ms/step - loss: 0.1169 - mae: 0.2443\n",
            "Epoch 81/100\n",
            "112/112 [==============================] - 0s 1ms/step - loss: 0.1172 - mae: 0.2411\n",
            "Epoch 82/100\n",
            "112/112 [==============================] - 0s 1ms/step - loss: 0.2035 - mae: 0.2991\n",
            "Epoch 83/100\n",
            "112/112 [==============================] - 0s 1ms/step - loss: 0.2467 - mae: 0.2914\n",
            "Epoch 84/100\n",
            "112/112 [==============================] - 0s 1ms/step - loss: 0.2133 - mae: 0.2496\n",
            "Epoch 85/100\n",
            "112/112 [==============================] - 0s 1ms/step - loss: 0.3310 - mae: 0.3694\n",
            "Epoch 86/100\n",
            "112/112 [==============================] - 0s 1ms/step - loss: 0.1184 - mae: 0.2302\n",
            "Epoch 87/100\n",
            "112/112 [==============================] - 0s 1ms/step - loss: 0.3340 - mae: 0.3330\n",
            "Epoch 88/100\n",
            "112/112 [==============================] - 0s 1ms/step - loss: 0.3612 - mae: 0.3549\n",
            "Epoch 89/100\n",
            "112/112 [==============================] - 0s 1ms/step - loss: 0.3819 - mae: 0.3722\n",
            "Epoch 90/100\n",
            "112/112 [==============================] - 0s 1ms/step - loss: 0.5923 - mae: 0.4422\n",
            "Epoch 91/100\n",
            "112/112 [==============================] - 0s 1ms/step - loss: 0.3267 - mae: 0.3222\n",
            "Epoch 92/100\n",
            "112/112 [==============================] - 0s 1ms/step - loss: 0.2491 - mae: 0.2924\n",
            "Epoch 93/100\n",
            "112/112 [==============================] - 0s 1ms/step - loss: 0.2184 - mae: 0.2591\n",
            "Epoch 94/100\n",
            "112/112 [==============================] - 0s 1ms/step - loss: 0.2361 - mae: 0.3242\n",
            "Epoch 95/100\n",
            "112/112 [==============================] - 0s 1ms/step - loss: 0.3667 - mae: 0.3411\n",
            "Epoch 96/100\n",
            "112/112 [==============================] - 0s 1ms/step - loss: 0.1567 - mae: 0.2593\n",
            "Epoch 97/100\n",
            "112/112 [==============================] - 0s 1ms/step - loss: 0.3485 - mae: 0.3623\n",
            "Epoch 98/100\n",
            "112/112 [==============================] - 0s 1ms/step - loss: 0.3740 - mae: 0.3463\n",
            "Epoch 99/100\n",
            "112/112 [==============================] - 0s 1ms/step - loss: 0.2548 - mae: 0.3059\n",
            "Epoch 100/100\n",
            "112/112 [==============================] - 0s 2ms/step - loss: 0.1729 - mae: 0.2641\n",
            "2/2 [==============================] - 0s 4ms/step - loss: 0.5237 - mae: 0.5329\n",
            "processing fold # 3\n",
            "Epoch 1/100\n",
            "112/112 [==============================] - 1s 1ms/step - loss: 1.3488 - mae: 0.8880\n",
            "Epoch 2/100\n",
            "112/112 [==============================] - 0s 1ms/step - loss: 0.9974 - mae: 0.7775\n",
            "Epoch 3/100\n",
            "112/112 [==============================] - 0s 1ms/step - loss: 0.9687 - mae: 0.6989\n",
            "Epoch 4/100\n",
            "112/112 [==============================] - 0s 1ms/step - loss: 0.9450 - mae: 0.6722\n",
            "Epoch 5/100\n",
            "112/112 [==============================] - 0s 1ms/step - loss: 0.7372 - mae: 0.6534\n",
            "Epoch 6/100\n",
            "112/112 [==============================] - 0s 1ms/step - loss: 0.5136 - mae: 0.5237\n",
            "Epoch 7/100\n",
            "112/112 [==============================] - 0s 1ms/step - loss: 0.6158 - mae: 0.5627\n",
            "Epoch 8/100\n",
            "112/112 [==============================] - 0s 2ms/step - loss: 0.5184 - mae: 0.5180\n",
            "Epoch 9/100\n",
            "112/112 [==============================] - 0s 1ms/step - loss: 0.3644 - mae: 0.4273\n",
            "Epoch 10/100\n",
            "112/112 [==============================] - 0s 1ms/step - loss: 0.4355 - mae: 0.4937\n",
            "Epoch 11/100\n",
            "112/112 [==============================] - 0s 1ms/step - loss: 0.4882 - mae: 0.4456\n",
            "Epoch 12/100\n",
            "112/112 [==============================] - 0s 1ms/step - loss: 0.5875 - mae: 0.5201\n",
            "Epoch 13/100\n",
            "112/112 [==============================] - 0s 1ms/step - loss: 0.8698 - mae: 0.5617\n",
            "Epoch 14/100\n",
            "112/112 [==============================] - 0s 1ms/step - loss: 0.4050 - mae: 0.4365\n",
            "Epoch 15/100\n",
            "112/112 [==============================] - 0s 1ms/step - loss: 0.4305 - mae: 0.4696\n",
            "Epoch 16/100\n",
            "112/112 [==============================] - 0s 1ms/step - loss: 0.9045 - mae: 0.6064\n",
            "Epoch 17/100\n",
            "112/112 [==============================] - 0s 1ms/step - loss: 0.3503 - mae: 0.3729\n",
            "Epoch 18/100\n",
            "112/112 [==============================] - 0s 2ms/step - loss: 0.3896 - mae: 0.3998\n",
            "Epoch 19/100\n",
            "112/112 [==============================] - 0s 1ms/step - loss: 0.4309 - mae: 0.4570\n",
            "Epoch 20/100\n",
            "112/112 [==============================] - 0s 1ms/step - loss: 0.3478 - mae: 0.4140\n",
            "Epoch 21/100\n",
            "112/112 [==============================] - 0s 1ms/step - loss: 0.4204 - mae: 0.4501\n",
            "Epoch 22/100\n",
            "112/112 [==============================] - 0s 1ms/step - loss: 0.4169 - mae: 0.4194\n",
            "Epoch 23/100\n",
            "112/112 [==============================] - 0s 1ms/step - loss: 0.3702 - mae: 0.4089\n",
            "Epoch 24/100\n",
            "112/112 [==============================] - 0s 1ms/step - loss: 0.2948 - mae: 0.3854\n",
            "Epoch 25/100\n",
            "112/112 [==============================] - 0s 1ms/step - loss: 0.3660 - mae: 0.3925\n",
            "Epoch 26/100\n",
            "112/112 [==============================] - 0s 1ms/step - loss: 0.5471 - mae: 0.4233\n",
            "Epoch 27/100\n",
            "112/112 [==============================] - 0s 1ms/step - loss: 0.2637 - mae: 0.3300\n",
            "Epoch 28/100\n",
            "112/112 [==============================] - 0s 1ms/step - loss: 0.1675 - mae: 0.2626\n",
            "Epoch 29/100\n",
            "112/112 [==============================] - 0s 2ms/step - loss: 0.4798 - mae: 0.4180\n",
            "Epoch 30/100\n",
            "112/112 [==============================] - 0s 2ms/step - loss: 0.5500 - mae: 0.4462\n",
            "Epoch 31/100\n",
            "112/112 [==============================] - 0s 1ms/step - loss: 0.4158 - mae: 0.3952\n",
            "Epoch 32/100\n",
            "112/112 [==============================] - 0s 1ms/step - loss: 0.8482 - mae: 0.5351\n",
            "Epoch 33/100\n",
            "112/112 [==============================] - 0s 1ms/step - loss: 0.5393 - mae: 0.4669\n",
            "Epoch 34/100\n",
            "112/112 [==============================] - 0s 1ms/step - loss: 0.4604 - mae: 0.3731\n",
            "Epoch 35/100\n",
            "112/112 [==============================] - 0s 1ms/step - loss: 0.3434 - mae: 0.3574\n",
            "Epoch 36/100\n",
            "112/112 [==============================] - 0s 1ms/step - loss: 0.2852 - mae: 0.3716\n",
            "Epoch 37/100\n",
            "112/112 [==============================] - 0s 1ms/step - loss: 0.3353 - mae: 0.3848\n",
            "Epoch 38/100\n",
            "112/112 [==============================] - 0s 1ms/step - loss: 0.2934 - mae: 0.3299\n",
            "Epoch 39/100\n",
            "112/112 [==============================] - 0s 1ms/step - loss: 0.3332 - mae: 0.3279\n",
            "Epoch 40/100\n",
            "112/112 [==============================] - 0s 1ms/step - loss: 0.6326 - mae: 0.4829\n",
            "Epoch 41/100\n",
            "112/112 [==============================] - 0s 1ms/step - loss: 0.4661 - mae: 0.4430\n",
            "Epoch 42/100\n",
            "112/112 [==============================] - 0s 1ms/step - loss: 0.2117 - mae: 0.3231\n",
            "Epoch 43/100\n",
            "112/112 [==============================] - 0s 1ms/step - loss: 0.3437 - mae: 0.3736\n",
            "Epoch 44/100\n",
            "112/112 [==============================] - 0s 1ms/step - loss: 0.3336 - mae: 0.3823\n",
            "Epoch 45/100\n",
            "112/112 [==============================] - 0s 1ms/step - loss: 0.2007 - mae: 0.3081\n",
            "Epoch 46/100\n",
            "112/112 [==============================] - 0s 1ms/step - loss: 0.2004 - mae: 0.3237\n",
            "Epoch 47/100\n",
            "112/112 [==============================] - 0s 1ms/step - loss: 0.2261 - mae: 0.3409\n",
            "Epoch 48/100\n",
            "112/112 [==============================] - 0s 1ms/step - loss: 0.2102 - mae: 0.3512\n",
            "Epoch 49/100\n",
            "112/112 [==============================] - 0s 1ms/step - loss: 0.3091 - mae: 0.3731\n",
            "Epoch 50/100\n",
            "112/112 [==============================] - 0s 1ms/step - loss: 0.2229 - mae: 0.3072\n",
            "Epoch 51/100\n",
            "112/112 [==============================] - 0s 1ms/step - loss: 0.2630 - mae: 0.3421\n",
            "Epoch 52/100\n",
            "112/112 [==============================] - 0s 1ms/step - loss: 0.2535 - mae: 0.2993\n",
            "Epoch 53/100\n",
            "112/112 [==============================] - 0s 1ms/step - loss: 0.2145 - mae: 0.2622\n",
            "Epoch 54/100\n",
            "112/112 [==============================] - 0s 1ms/step - loss: 0.3022 - mae: 0.3386\n",
            "Epoch 55/100\n",
            "112/112 [==============================] - 0s 1ms/step - loss: 0.1682 - mae: 0.2583\n",
            "Epoch 56/100\n",
            "112/112 [==============================] - 0s 1ms/step - loss: 0.2200 - mae: 0.2982\n",
            "Epoch 57/100\n",
            "112/112 [==============================] - 0s 1ms/step - loss: 0.2440 - mae: 0.3580\n",
            "Epoch 58/100\n",
            "112/112 [==============================] - 0s 1ms/step - loss: 0.1824 - mae: 0.2939\n",
            "Epoch 59/100\n",
            "112/112 [==============================] - 0s 1ms/step - loss: 0.1965 - mae: 0.2716\n",
            "Epoch 60/100\n",
            "112/112 [==============================] - 0s 1ms/step - loss: 0.2089 - mae: 0.2803\n",
            "Epoch 61/100\n",
            "112/112 [==============================] - 0s 1ms/step - loss: 0.6211 - mae: 0.3949\n",
            "Epoch 62/100\n",
            "112/112 [==============================] - 0s 1ms/step - loss: 0.1729 - mae: 0.2801\n",
            "Epoch 63/100\n",
            "112/112 [==============================] - 0s 1ms/step - loss: 0.2644 - mae: 0.3116\n",
            "Epoch 64/100\n",
            "112/112 [==============================] - 0s 1ms/step - loss: 0.3968 - mae: 0.3411\n",
            "Epoch 65/100\n",
            "112/112 [==============================] - 0s 1ms/step - loss: 0.1661 - mae: 0.2740\n",
            "Epoch 66/100\n",
            "112/112 [==============================] - 0s 1ms/step - loss: 0.1643 - mae: 0.2557\n",
            "Epoch 67/100\n",
            "112/112 [==============================] - 0s 1ms/step - loss: 0.5841 - mae: 0.4006\n",
            "Epoch 68/100\n",
            "112/112 [==============================] - 0s 1ms/step - loss: 0.5019 - mae: 0.4019\n",
            "Epoch 69/100\n",
            "112/112 [==============================] - 0s 1ms/step - loss: 0.1388 - mae: 0.2680\n",
            "Epoch 70/100\n",
            "112/112 [==============================] - 0s 1ms/step - loss: 0.2318 - mae: 0.3268\n",
            "Epoch 71/100\n",
            "112/112 [==============================] - 0s 1ms/step - loss: 0.2798 - mae: 0.3383\n",
            "Epoch 72/100\n",
            "112/112 [==============================] - 0s 1ms/step - loss: 0.3351 - mae: 0.3804\n",
            "Epoch 73/100\n",
            "112/112 [==============================] - 0s 1ms/step - loss: 0.1933 - mae: 0.3004\n",
            "Epoch 74/100\n",
            "112/112 [==============================] - 0s 1ms/step - loss: 0.3370 - mae: 0.3802\n",
            "Epoch 75/100\n",
            "112/112 [==============================] - 0s 1ms/step - loss: 0.2588 - mae: 0.3258\n",
            "Epoch 76/100\n",
            "112/112 [==============================] - 0s 1ms/step - loss: 0.3240 - mae: 0.3537\n",
            "Epoch 77/100\n",
            "112/112 [==============================] - 0s 1ms/step - loss: 0.2011 - mae: 0.2995\n",
            "Epoch 78/100\n",
            "112/112 [==============================] - 0s 1ms/step - loss: 0.5967 - mae: 0.4536\n",
            "Epoch 79/100\n",
            "112/112 [==============================] - 0s 1ms/step - loss: 0.1581 - mae: 0.2455\n",
            "Epoch 80/100\n",
            "112/112 [==============================] - 0s 1ms/step - loss: 0.6120 - mae: 0.4165\n",
            "Epoch 81/100\n",
            "112/112 [==============================] - 0s 1ms/step - loss: 0.2712 - mae: 0.3277\n",
            "Epoch 82/100\n",
            "112/112 [==============================] - 0s 1ms/step - loss: 0.3759 - mae: 0.3266\n",
            "Epoch 83/100\n",
            "112/112 [==============================] - 0s 1ms/step - loss: 0.3178 - mae: 0.3045\n",
            "Epoch 84/100\n",
            "112/112 [==============================] - 0s 1ms/step - loss: 0.1238 - mae: 0.2515\n",
            "Epoch 85/100\n",
            "112/112 [==============================] - 0s 1ms/step - loss: 0.1981 - mae: 0.2475\n",
            "Epoch 86/100\n",
            "112/112 [==============================] - 0s 1ms/step - loss: 0.3837 - mae: 0.3854\n",
            "Epoch 87/100\n",
            "112/112 [==============================] - 0s 1ms/step - loss: 0.2796 - mae: 0.3342\n",
            "Epoch 88/100\n",
            "112/112 [==============================] - 0s 1ms/step - loss: 0.2857 - mae: 0.3171\n",
            "Epoch 89/100\n",
            "112/112 [==============================] - 0s 1ms/step - loss: 0.2207 - mae: 0.2849\n",
            "Epoch 90/100\n",
            "112/112 [==============================] - 0s 1ms/step - loss: 0.1751 - mae: 0.2877\n",
            "Epoch 91/100\n",
            "112/112 [==============================] - 0s 1ms/step - loss: 0.1456 - mae: 0.2601\n",
            "Epoch 92/100\n",
            "112/112 [==============================] - 0s 1ms/step - loss: 0.3059 - mae: 0.3451\n",
            "Epoch 93/100\n",
            "112/112 [==============================] - 0s 1ms/step - loss: 0.1907 - mae: 0.2619\n",
            "Epoch 94/100\n",
            "112/112 [==============================] - 0s 1ms/step - loss: 0.4570 - mae: 0.3650\n",
            "Epoch 95/100\n",
            "112/112 [==============================] - 0s 1ms/step - loss: 0.2586 - mae: 0.3205\n",
            "Epoch 96/100\n",
            "112/112 [==============================] - 0s 1ms/step - loss: 0.3446 - mae: 0.3349\n",
            "Epoch 97/100\n",
            "112/112 [==============================] - 0s 2ms/step - loss: 0.3667 - mae: 0.3666\n",
            "Epoch 98/100\n",
            "112/112 [==============================] - 0s 1ms/step - loss: 0.3179 - mae: 0.3313\n",
            "Epoch 99/100\n",
            "112/112 [==============================] - 0s 1ms/step - loss: 0.2090 - mae: 0.2978\n",
            "Epoch 100/100\n",
            "112/112 [==============================] - 0s 1ms/step - loss: 0.5183 - mae: 0.4357\n",
            "2/2 [==============================] - 0s 4ms/step - loss: 0.0974 - mae: 0.2343\n"
          ],
          "name": "stdout"
        }
      ]
    },
    {
      "cell_type": "markdown",
      "metadata": {
        "id": "Q6G2NlK5jGP1"
      },
      "source": [
        "## **8.Evaluation Step**"
      ]
    },
    {
      "cell_type": "code",
      "metadata": {
        "colab": {
          "base_uri": "https://localhost:8080/"
        },
        "id": "gHgPU1qZn0yz",
        "outputId": "6f494149-a1b9-4dea-b49a-d5f7fde4c13c"
      },
      "source": [
        "all_scores_relu"
      ],
      "execution_count": 46,
      "outputs": [
        {
          "output_type": "execute_result",
          "data": {
            "text/plain": [
              "[0.4325414001941681, 0.308433473110199, 0.4890015125274658, 0.3442194163799286]"
            ]
          },
          "metadata": {
            "tags": []
          },
          "execution_count": 46
        }
      ]
    },
    {
      "cell_type": "code",
      "metadata": {
        "colab": {
          "base_uri": "https://localhost:8080/"
        },
        "id": "MrsJNG7Kpwnt",
        "outputId": "47779ede-815d-41ff-dad4-b330d68af63d"
      },
      "source": [
        "all_scores_tanh"
      ],
      "execution_count": 47,
      "outputs": [
        {
          "output_type": "execute_result",
          "data": {
            "text/plain": [
              "[0.46419093012809753,\n",
              " 0.30226874351501465,\n",
              " 0.5106220245361328,\n",
              " 0.37937024235725403]"
            ]
          },
          "metadata": {
            "tags": []
          },
          "execution_count": 47
        }
      ]
    },
    {
      "cell_type": "code",
      "metadata": {
        "colab": {
          "base_uri": "https://localhost:8080/"
        },
        "id": "fGRmf-ZJp3cP",
        "outputId": "9258ad3c-39c8-40bc-b478-56fe7d4225fd"
      },
      "source": [
        "all_scores_regular"
      ],
      "execution_count": 48,
      "outputs": [
        {
          "output_type": "execute_result",
          "data": {
            "text/plain": [
              "[0.4029248356819153,\n",
              " 0.3000730574131012,\n",
              " 0.3979969620704651,\n",
              " 0.3772129714488983]"
            ]
          },
          "metadata": {
            "tags": []
          },
          "execution_count": 48
        }
      ]
    },
    {
      "cell_type": "code",
      "metadata": {
        "colab": {
          "base_uri": "https://localhost:8080/"
        },
        "id": "Jyx_qP0vp7V0",
        "outputId": "a8718043-f05b-45fa-e074-4f3817ead659"
      },
      "source": [
        "all_scores_drop"
      ],
      "execution_count": 49,
      "outputs": [
        {
          "output_type": "execute_result",
          "data": {
            "text/plain": [
              "[0.4662558138370514,\n",
              " 0.42299792170524597,\n",
              " 0.5328947305679321,\n",
              " 0.23428842425346375]"
            ]
          },
          "metadata": {
            "tags": []
          },
          "execution_count": 49
        }
      ]
    },
    {
      "cell_type": "code",
      "metadata": {
        "colab": {
          "base_uri": "https://localhost:8080/"
        },
        "id": "DRlODgJNp_Qb",
        "outputId": "41213073-0804-43b8-da30-630fb75f1dc7"
      },
      "source": [
        "model_tanh = build_model('tanh')\n",
        "model_tanh.fit(trainData, trainLabel,epochs= 100, batch_size=1, verbose=0)\n",
        "test_mse_score, test_mae_score = model_tanh.evaluate(testData, testLabel)"
      ],
      "execution_count": 50,
      "outputs": [
        {
          "output_type": "stream",
          "text": [
            "2/2 [==============================] - 0s 9ms/step - loss: 0.1099 - mae: 0.2602\n"
          ],
          "name": "stdout"
        }
      ]
    },
    {
      "cell_type": "code",
      "metadata": {
        "colab": {
          "base_uri": "https://localhost:8080/"
        },
        "id": "8Too8VPjqE6I",
        "outputId": "bc8c56b8-de62-45db-a38e-ca13173ab2d6"
      },
      "source": [
        "model_relu = build_model('relu')\n",
        "model_relu.fit(trainData, trainLabel,epochs= 100, batch_size=1, verbose=0)\n",
        "test_mse_score, test_mae_score = model_relu.evaluate(testData, testLabel)"
      ],
      "execution_count": 51,
      "outputs": [
        {
          "output_type": "stream",
          "text": [
            "2/2 [==============================] - 0s 10ms/step - loss: 0.1032 - mae: 0.2531\n"
          ],
          "name": "stdout"
        }
      ]
    },
    {
      "cell_type": "code",
      "metadata": {
        "colab": {
          "base_uri": "https://localhost:8080/"
        },
        "id": "VjmCxEUGqvnc",
        "outputId": "dda775a1-6f8c-45e2-fc52-2360d659df35"
      },
      "source": [
        "model_regular = build_model_regular('relu')\n",
        "model_regular.fit(trainData, trainLabel,epochs= 100, batch_size=1, verbose=0)\n",
        "test_mse_score, test_mae_score = model_regular.evaluate(testData, testLabel)"
      ],
      "execution_count": 52,
      "outputs": [
        {
          "output_type": "stream",
          "text": [
            "2/2 [==============================] - 0s 10ms/step - loss: 0.1123 - mae: 0.2160\n"
          ],
          "name": "stdout"
        }
      ]
    },
    {
      "cell_type": "code",
      "metadata": {
        "colab": {
          "base_uri": "https://localhost:8080/"
        },
        "id": "mPM6rOM3rD5w",
        "outputId": "ddac0581-597c-41e7-9282-060abab34dcd"
      },
      "source": [
        "model_drop = build_model_drop('relu')\n",
        "model_drop.fit(trainData, trainLabel,epochs= 100, batch_size=1, verbose=0)\n",
        "test_mse_score, test_mae_score = model_drop.evaluate(testData, testLabel)"
      ],
      "execution_count": 53,
      "outputs": [
        {
          "output_type": "stream",
          "text": [
            "2/2 [==============================] - 0s 9ms/step - loss: 0.1836 - mae: 0.3343\n"
          ],
          "name": "stdout"
        }
      ]
    },
    {
      "cell_type": "code",
      "metadata": {
        "colab": {
          "base_uri": "https://localhost:8080/"
        },
        "id": "StxiZRd4rVRD",
        "outputId": "f89b8b6e-0ed9-4f2e-d199-f28177483254"
      },
      "source": [
        "testLabel"
      ],
      "execution_count": 54,
      "outputs": [
        {
          "output_type": "execute_result",
          "data": {
            "text/plain": [
              "array([ 0.02173086,  0.3882076 ,  1.4039787 ,  2.1775131 , -1.020137  ,\n",
              "       -0.7132205 , -0.59472424, -0.9891706 , -0.77315533, -0.5276721 ,\n",
              "       -0.04694451, -0.37159172, -0.5499604 , -0.81486   , -0.5588882 ,\n",
              "        0.6271979 ,  1.5272198 ,  2.6050487 ,  3.4511292 , -0.08640163,\n",
              "        0.19329442, -0.79063636, -0.5046971 , -0.97668415, -0.5459023 ,\n",
              "        0.48422825, -0.17742771,  0.28207293,  0.46874508, -0.06954495,\n",
              "        2.3982732 ,  2.2574887 , -0.50269926,  0.27333245, -0.69249296,\n",
              "       -0.7314507 , -0.6627753 , -0.99553865, -0.7995017 , -0.7645397 ,\n",
              "       -0.697113  , -0.6346808 , -0.50232464, -0.6083344 , -0.4160434 ,\n",
              "       -0.22125508, -0.5460271 ,  0.29580802, -0.69249296, -0.66502285,\n",
              "       -0.6025907 ,  0.06543337, -0.12873064, -0.04756883,  0.332643  ,\n",
              "        0.6366876 ], dtype=float32)"
            ]
          },
          "metadata": {
            "tags": []
          },
          "execution_count": 54
        }
      ]
    },
    {
      "cell_type": "markdown",
      "metadata": {
        "id": "eddCN9xPjTc-"
      },
      "source": [
        "## **9.Prediction**"
      ]
    },
    {
      "cell_type": "code",
      "metadata": {
        "id": "TF68O2M6riOj"
      },
      "source": [
        "def predict(model, m):\n",
        "  print(f\" the Actual value Price was : {testLabel[m]* std_label + mean_label} \" )\n",
        "  return(f\" the predicted Price was : {(model.predict(testData[m:m+1].reshape(1,testData.shape[1]))) * std_label + mean_label} \")"
      ],
      "execution_count": 55,
      "outputs": []
    },
    {
      "cell_type": "code",
      "metadata": {
        "colab": {
          "base_uri": "https://localhost:8080/",
          "height": 52
        },
        "id": "0Ae9ikpTrw5Q",
        "outputId": "8a1f89f3-353f-4650-952d-a88787a4146b"
      },
      "source": [
        "x_tanh = predict(model_tanh,2)\n",
        "x_tanh"
      ],
      "execution_count": 56,
      "outputs": [
        {
          "output_type": "stream",
          "text": [
            " the Actual value Price was : 24564.99958145745 \n"
          ],
          "name": "stdout"
        },
        {
          "output_type": "execute_result",
          "data": {
            "application/vnd.google.colaboratory.intrinsic+json": {
              "type": "string"
            },
            "text/plain": [
              "' the predicted Price was : [[21623.8]] '"
            ]
          },
          "metadata": {
            "tags": []
          },
          "execution_count": 56
        }
      ]
    },
    {
      "cell_type": "code",
      "metadata": {
        "colab": {
          "base_uri": "https://localhost:8080/",
          "height": 52
        },
        "id": "gAKqJuUpr00B",
        "outputId": "3089e969-778b-493d-f4ae-b59597b71a04"
      },
      "source": [
        "x_relu = predict(model_relu,2)\n",
        "x_relu"
      ],
      "execution_count": 57,
      "outputs": [
        {
          "output_type": "stream",
          "text": [
            " the Actual value Price was : 24564.99958145745 \n"
          ],
          "name": "stdout"
        },
        {
          "output_type": "execute_result",
          "data": {
            "application/vnd.google.colaboratory.intrinsic+json": {
              "type": "string"
            },
            "text/plain": [
              "' the predicted Price was : [[23343.61]] '"
            ]
          },
          "metadata": {
            "tags": []
          },
          "execution_count": 57
        }
      ]
    },
    {
      "cell_type": "code",
      "metadata": {
        "colab": {
          "base_uri": "https://localhost:8080/",
          "height": 52
        },
        "id": "JiJ9p8-8sSq-",
        "outputId": "f2e6a14d-e3aa-4538-80ae-d6250f570426"
      },
      "source": [
        "x_regular = predict(model_regular,2)\n",
        "x_regular"
      ],
      "execution_count": 58,
      "outputs": [
        {
          "output_type": "stream",
          "text": [
            " the Actual value Price was : 24564.99958145745 \n"
          ],
          "name": "stdout"
        },
        {
          "output_type": "execute_result",
          "data": {
            "application/vnd.google.colaboratory.intrinsic+json": {
              "type": "string"
            },
            "text/plain": [
              "' the predicted Price was : [[25092.668]] '"
            ]
          },
          "metadata": {
            "tags": []
          },
          "execution_count": 58
        }
      ]
    },
    {
      "cell_type": "code",
      "metadata": {
        "colab": {
          "base_uri": "https://localhost:8080/",
          "height": 52
        },
        "id": "hgYXVYuFsY7F",
        "outputId": "bfa0388f-35c5-484e-cfbb-d59697e3acca"
      },
      "source": [
        "x_drop = predict(model_drop,2)\n",
        "x_drop"
      ],
      "execution_count": 59,
      "outputs": [
        {
          "output_type": "stream",
          "text": [
            " the Actual value Price was : 24564.99958145745 \n"
          ],
          "name": "stdout"
        },
        {
          "output_type": "execute_result",
          "data": {
            "application/vnd.google.colaboratory.intrinsic+json": {
              "type": "string"
            },
            "text/plain": [
              "' the predicted Price was : [[21266.766]] '"
            ]
          },
          "metadata": {
            "tags": []
          },
          "execution_count": 59
        }
      ]
    },
    {
      "cell_type": "code",
      "metadata": {
        "id": "1ifZ7NYhse_7"
      },
      "source": [
        "def plot_fn(mod):\n",
        "  y_true = testLabel* std_label + mean_label\n",
        "  y_pred = mod.predict(testData) * std_label + mean_label\n",
        "  return y_true , y_pred.flatten()"
      ],
      "execution_count": 60,
      "outputs": []
    },
    {
      "cell_type": "code",
      "metadata": {
        "id": "vdnCfI5zsk8b"
      },
      "source": [
        "import matplotlib.pyplot as plt\n",
        "%matplotlib inline\n",
        "def plotting(mod, label):\n",
        "  y_true, y_pred = plot_fn(mod)\n",
        "  coef = np.polyfit(y_true,y_pred,1)\n",
        "  poly1d_fn = np.poly1d(coef) \n",
        "  # poly1d_fn is now a function which takes in x and returns an estimate for y\n",
        "  plt.figure()\n",
        "  plt.plot(y_true,y_pred, 'yo', y_true, poly1d_fn(y_true), '--k')\n",
        "  plt.title(label)\n",
        "  plt.xlabel('Thousand Dollar True' )\n",
        "  plt.ylabel('Thousand Dollar Predictions' )\n",
        "  plt.xlim(0, 50000)\n",
        "  plt.ylim(0, 50000)"
      ],
      "execution_count": 61,
      "outputs": []
    },
    {
      "cell_type": "code",
      "metadata": {
        "colab": {
          "base_uri": "https://localhost:8080/",
          "height": 1000
        },
        "id": "mr890qW2sqeE",
        "outputId": "f2a71cee-a4b6-41ab-a299-adb71fcf5677"
      },
      "source": [
        "plot_list = []\n",
        "for i,j in enumerate([model_relu, model_tanh, model_regular, model_drop]):\n",
        "  list_name = ['model_relu', 'model_tanh', 'model_regular', 'model_drop']\n",
        "  plot_list.append(plotting(j,list_name[i]))"
      ],
      "execution_count": 62,
      "outputs": [
        {
          "output_type": "display_data",
          "data": {
            "image/png": "[encoded data removed]",
            "text/plain": [
              "<Figure size 432x288 with 1 Axes>"
            ]
          },
          "metadata": {
            "tags": [],
            "needs_background": "light"
          }
        },
        {
          "output_type": "display_data",
          "data": {
            "image/png": "[encoded data removed]",
            "text/plain": [
              "<Figure size 432x288 with 1 Axes>"
            ]
          },
          "metadata": {
            "tags": [],
            "needs_background": "light"
          }
        },
        {
          "output_type": "display_data",
          "data": {
            "image/png": "[encoded data removed]",
            "text/plain": [
              "<Figure size 432x288 with 1 Axes>"
            ]
          },
          "metadata": {
            "tags": [],
            "needs_background": "light"
          }
        },
        {
          "output_type": "display_data",
          "data": {
            "image/png": "[encoded data removed]",
            "text/plain": [
              "<Figure size 432x288 with 1 Axes>"
            ]
          },
          "metadata": {
            "tags": [],
            "needs_background": "light"
          }
        }
      ]
    },
    {
      "cell_type": "code",
      "metadata": {
        "id": "awnJFGnlsvDG"
      },
      "source": [
        ""
      ],
      "execution_count": 62,
      "outputs": []
    }
  ]
}